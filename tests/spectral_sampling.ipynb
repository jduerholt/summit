{
 "cells": [
  {
   "cell_type": "markdown",
   "metadata": {},
   "source": [
    "# Spectral Sampling Demonstration"
   ]
  },
  {
   "cell_type": "code",
   "execution_count": 1,
   "metadata": {},
   "outputs": [],
   "source": [
    "%load_ext autoreload\n",
    "%autoreload 2"
   ]
  },
  {
   "cell_type": "code",
   "execution_count": 2,
   "metadata": {},
   "outputs": [],
   "source": [
    "from summit.utils.models import GPyModel\n",
    "import matplotlib.pyplot as plt\n",
    "import numpy as np"
   ]
  },
  {
   "cell_type": "code",
   "execution_count": 54,
   "metadata": {},
   "outputs": [],
   "source": [
    "X = np.random.uniform(-3.,3.,(20,1))\n",
    "Y = np.sin(X) + np.random.randn(20,1)*0.05\n",
    "m = GPyModel(input_dim=1)"
   ]
  },
  {
   "cell_type": "code",
   "execution_count": 55,
   "metadata": {},
   "outputs": [
    {
     "name": "stdout",
     "output_type": "stream",
     "text": [
      "288 ms ± 23.1 ms per loop (mean ± std. dev. of 7 runs, 1 loop each)\n"
     ]
    }
   ],
   "source": [
    "%timeit m.fit(X, Y)"
   ]
  },
  {
   "cell_type": "code",
   "execution_count": 51,
   "metadata": {},
   "outputs": [],
   "source": [
    "def fit_and_sample():\n",
    "    X = np.random.uniform(-3.,3.,(20,1))\n",
    "    Y = np.sin(X) + np.random.randn(20,1)*0.05\n",
    "    m = GPyModel(input_dim=1)\n",
    "    m.fit(X, Y)\n",
    "    sampled_f = m.spectral_sample(X, Y)\n",
    "    predict_Y = m.predict(X)\n",
    "    sample_Y = sampled_f(X)\n",
    "    return X, Y, predict_Y, sample_Y"
   ]
  },
  {
   "cell_type": "code",
   "execution_count": 52,
   "metadata": {},
   "outputs": [
    {
     "data": {
      "image/png": "[encoded data removed]",
      "text/plain": [
       "<Figure size 432x288 with 1 Axes>"
      ]
     },
     "metadata": {
      "needs_background": "light"
     },
     "output_type": "display_data"
    }
   ],
   "source": [
    "X, Y, predict_Y, sample_Y = fit_and_sample()\n",
    "fig, ax = plt.subplots(1)\n",
    "ax.scatter(X[:,0], predict_Y[:, 0], marker= 'o', label='GP Prediction')\n",
    "ax.scatter(X[:,0], sample_Y[:,0], marker='^', label= 'Spectral Sample')\n",
    "ax.scatter(X[:,0], Y[:, 0], marker='x', label='Data')\n",
    "ax.legend()\n",
    "ax.tick_params(direction='in')\n",
    "ax.set_xlabel('X')\n",
    "_ = ax.set_ylabel('Y')"
   ]
  },
  {
   "cell_type": "code",
   "execution_count": 53,
   "metadata": {},
   "outputs": [
    {
     "name": "stdout",
     "output_type": "stream",
     "text": [
      "MAE GP:  0.012582393439350009\n",
      "MAE Spectral Sample:  0.027726602185563044\n"
     ]
    }
   ],
   "source": [
    "mae_pred = np.mean(np.abs(predict_Y[:,0]-Y[:,0]))\n",
    "mae_sample = np.mean(np.abs(sample_Y[:,0]-Y[:,0]))\n",
    "print(\"MAE GP: \", mae_pred)\n",
    "print(\"MAE Spectral Sample: \", mae_sample)"
   ]
  },
  {
   "cell_type": "markdown",
   "metadata": {},
   "source": [
    "Comparing time for spectral sampling vs. calling the model directly."
   ]
  },
  {
   "cell_type": "code",
   "execution_count": 66,
   "metadata": {},
   "outputs": [],
   "source": [
    "def timed_fit_and_predict(use_spectral_sample=False):\n",
    "    X = np.random.uniform(-3.,3.,(20,1))\n",
    "    Y = np.sin(X) + np.random.randn(20,1)*0.05\n",
    "    m = GPyModel(input_dim=1)\n",
    "    m.fit(X, Y, spectral_sample=use_spectral_sample)\n",
    "    for i in range(1000):\n",
    "        m.predict(X, use_spectral_sample=use_spectral_sample)"
   ]
  },
  {
   "cell_type": "code",
   "execution_count": 6,
   "metadata": {},
   "outputs": [
    {
     "name": "stdout",
     "output_type": "stream",
     "text": [
      "660 ms ± 159 ms per loop (mean ± std. dev. of 7 runs, 1 loop each)\n"
     ]
    }
   ],
   "source": [
    "%timeit timed_fit_and_predict(use_spectral_sample=False)"
   ]
  },
  {
   "cell_type": "code",
   "execution_count": 9,
   "metadata": {},
   "outputs": [
    {
     "name": "stdout",
     "output_type": "stream",
     "text": [
      "8.79 s ± 468 ms per loop (mean ± std. dev. of 7 runs, 1 loop each)\n"
     ]
    }
   ],
   "source": [
    "%timeit timed_fit_and_predict(use_spectral_sample=True)"
   ]
  },
  {
   "cell_type": "code",
   "execution_count": 1,
   "metadata": {},
   "outputs": [],
   "source": [
    "import numpy as np\n",
    "from numpy import matlib\n",
    "from numpy.random import default_rng\n",
    "from GPy.models import GPRegression\n",
    "from GPy.kern import Matern52\n",
    "from scipy.stats import norm, invgamma\n",
    "from scipy.stats.distributions import chi2\n",
    "from scipy import linalg\n",
    "from summit.utils.lhs import lhs\n",
    "from numba import jit"
   ]
  },
  {
   "cell_type": "code",
   "execution_count": 13,
   "metadata": {},
   "outputs": [],
   "source": [
    "X = np.random.uniform(-3.,3.,(20,1))\n",
    "Y = np.sin(X) + np.random.randn(20,1)*0.05"
   ]
  },
  {
   "cell_type": "code",
   "execution_count": 67,
   "metadata": {},
   "outputs": [],
   "source": [
    "def create_and_train_model(X, Y):\n",
    "    m = GPyModel(input_dim=1)\n",
    "    m.fit(X, Y, spectral_sample=False)\n",
    "    return m"
   ]
  },
  {
   "cell_type": "code",
   "execution_count": 8,
   "metadata": {},
   "outputs": [
    {
     "name": "stdout",
     "output_type": "stream",
     "text": [
      "393 ms ± 106 ms per loop (mean ± std. dev. of 7 runs, 1 loop each)\n"
     ]
    }
   ],
   "source": [
    "%timeit create_and_train_model(X, Y)"
   ]
  },
  {
   "cell_type": "code",
   "execution_count": 68,
   "metadata": {},
   "outputs": [],
   "source": [
    "m = create_and_train_model(X, Y)"
   ]
  },
  {
   "cell_type": "code",
   "execution_count": 11,
   "metadata": {},
   "outputs": [],
   "source": [
    "def calculate_phi_b_W(m, X):\n",
    "    matern_nu = 5\n",
    "    n_spectral_points = 4000\n",
    "\n",
    "    # Get variables from problem structure\n",
    "    n, D = np.shape(X)\n",
    "    ell = np.array(m._model.kern.lengthscale) \n",
    "    sf2 = np.array(m._model.kern.variance)\n",
    "    sn2 = np.array(m._model.Gaussian_noise.variance)\n",
    "\n",
    "    # Monte carlo samples of W and b\n",
    "    # W = p*norminv(sW1)*q\n",
    "    sW = lhs(D, n_spectral_points)\n",
    "    p = matlib.repmat(np.divide(1, ell), n_spectral_points, 1)\n",
    "    if matern_nu != np.inf:            \n",
    "        inv = chi2.ppf(sW, matern_nu)\n",
    "        q = np.sqrt(np.divide(matern_nu, inv))\n",
    "        W = np.multiply(p, norm.ppf(sW))\n",
    "        W = np.multiply(W, q)\n",
    "    else:\n",
    "        raise NotImplementedError(\"RBF not implemented yet!\")\n",
    "\n",
    "    b = 2*np.pi*lhs(1, n_spectral_points)\n",
    "\n",
    "    # Calculate phi\n",
    "    phi = np.sqrt(2*sf2/n_spectral_points)*np.cos(W@X.T +  matlib.repmat(b, 1, n))\n",
    "    phi = np.round(phi, 3) # Round due to truncation errors that causes problems with inverse\n",
    "    return W, b, phi"
   ]
  },
  {
   "cell_type": "code",
   "execution_count": 33,
   "metadata": {},
   "outputs": [
    {
     "name": "stdout",
     "output_type": "stream",
     "text": [
      "9.85 ms ± 517 µs per loop (mean ± std. dev. of 7 runs, 100 loops each)\n"
     ]
    }
   ],
   "source": [
    "%timeit calculate_phi_b_W(m)"
   ]
  },
  {
   "cell_type": "code",
   "execution_count": 69,
   "metadata": {},
   "outputs": [],
   "source": [
    "W, b, phi = calculate_phi_b_W(m, X)"
   ]
  },
  {
   "cell_type": "code",
   "execution_count": 73,
   "metadata": {},
   "outputs": [],
   "source": [
    "def calc_mean_cov_svd(sn2, n_spectral_points, phi):\n",
    "    A = phi@phi.T + sn2*np.identity(n_spectral_points)\n",
    "    u,s, vh = np.linalg.svd(A)\n",
    "    invA = vh*.u.T\n",
    "#     invA = np.dot(c.T,c)\n",
    "#     mu_theta = invA@phi@Y\n",
    "#     cov_theta = sn2*invA\n",
    "#     cov_theta = 0.5*(cov_theta+cov_theta.T)\n",
    "#     return mu_theta, cov_theta\n",
    "    return invA"
   ]
  },
  {
   "cell_type": "code",
   "execution_count": 44,
   "metadata": {},
   "outputs": [],
   "source": [
    "@jit(nopython=True, fastmath=True)\n",
    "def calc_mean_cov(sn2, n_spectral_points, phi):\n",
    "    A = phi@phi.T + sn2*np.identity(n_spectral_points)\n",
    "    B = np.linalg.cholesky(A)\n",
    "    c = np.linalg.inv(B)\n",
    "    invA = np.dot(c.T,c)\n",
    "    mu_theta = invA@phi@Y\n",
    "    cov_theta = sn2*invA\n",
    "    cov_theta = 0.5*(cov_theta+cov_theta.T)\n",
    "    return mu_theta, cov_theta"
   ]
  },
  {
   "cell_type": "code",
   "execution_count": 48,
   "metadata": {},
   "outputs": [],
   "source": [
    "def inv_cholesky(A):\n",
    "    _, n = np.shape(A)\n",
    "    chol = np.linalg.cholesky(A)\n",
    "    x = np.linalg.solve(chol.transpose(), np.identity(n))\n",
    "    y = np.linalg.solve(chol, x)\n",
    "    return y"
   ]
  },
  {
   "cell_type": "code",
   "execution_count": 49,
   "metadata": {},
   "outputs": [],
   "source": [
    "@jit(nopython=True, fastmath=True)\n",
    "def inv_cholesky_jit(A):\n",
    "    _, n = np.shape(A)\n",
    "    chol = np.linalg.cholesky(A)\n",
    "    x = np.linalg.solve(chol.transpose(), np.identity(n))\n",
    "    y = np.linalg.solve(chol, x)\n",
    "    return y"
   ]
  },
  {
   "cell_type": "code",
   "execution_count": 49,
   "metadata": {},
   "outputs": [],
   "source": [
    "@jit(nopython=True, fastmath=True)\n",
    "def inv_cholesky_scipy(A):\n",
    "    _, n = np.shape(A)\n",
    "    chol = np.linalg.cholesky(A)\n",
    "    x = scipy.linalg.solve(chol.transpose(), np.identity(n))\n",
    "    y = scipy.linalg.solve(chol, x)\n",
    "    return y"
   ]
  },
  {
   "cell_type": "code",
   "execution_count": 38,
   "metadata": {},
   "outputs": [],
   "source": [
    "sn2 = np.array(m._model.Gaussian_noise.variance)\n",
    "n_spectral_points = 4000"
   ]
  },
  {
   "cell_type": "code",
   "execution_count": 45,
   "metadata": {},
   "outputs": [
    {
     "name": "stdout",
     "output_type": "stream",
     "text": [
      "7.72 s ± 1.26 s per loop (mean ± std. dev. of 7 runs, 1 loop each)\n"
     ]
    }
   ],
   "source": [
    "%timeit calc_mean_cov(sn2, n_spectral_points, phi)"
   ]
  },
  {
   "cell_type": "code",
   "execution_count": 75,
   "metadata": {},
   "outputs": [],
   "source": [
    "A = phi@phi.T + sn2*np.identity(n_spectral_points)"
   ]
  },
  {
   "cell_type": "code",
   "execution_count": 76,
   "metadata": {},
   "outputs": [],
   "source": [
    "u,s, vh = np.linalg.svd(A)"
   ]
  },
  {
   "cell_type": "code",
   "execution_count": 82,
   "metadata": {},
   "outputs": [],
   "source": [
    "invA = vh.T@np.diag(1/s)@u.T"
   ]
  },
  {
   "cell_type": "code",
   "execution_count": 80,
   "metadata": {},
   "outputs": [],
   "source": [
    "B = np.linalg.cholesky(A)\n",
    "c = np.linalg.inv(B)\n",
    "invA_chol = np.dot(c.T,c)"
   ]
  },
  {
   "cell_type": "code",
   "execution_count": 83,
   "metadata": {},
   "outputs": [
    {
     "data": {
      "text/plain": [
       "array([[ True,  True,  True, ...,  True,  True,  True],\n",
       "       [ True,  True,  True, ...,  True,  True,  True],\n",
       "       [ True,  True,  True, ...,  True,  True,  True],\n",
       "       ...,\n",
       "       [ True,  True,  True, ...,  True,  True,  True],\n",
       "       [ True,  True,  True, ...,  True,  True,  True],\n",
       "       [ True,  True,  True, ...,  True,  True,  True]])"
      ]
     },
     "execution_count": 83,
     "metadata": {},
     "output_type": "execute_result"
    }
   ],
   "source": [
    "np.isclose(invA, invA_chol)"
   ]
  },
  {
   "cell_type": "code",
   "execution_count": null,
   "metadata": {},
   "outputs": [],
   "source": [
    "%timeit np.linalg.inv(np.linalg.cholesky(A))"
   ]
  },
  {
   "cell_type": "code",
   "execution_count": 47,
   "metadata": {},
   "outputs": [
    {
     "name": "stdout",
     "output_type": "stream",
     "text": [
      "7.91 s ± 710 ms per loop (mean ± std. dev. of 7 runs, 1 loop each)\n"
     ]
    }
   ],
   "source": [
    "%timeit inv_cholesky(A)"
   ]
  },
  {
   "cell_type": "code",
   "execution_count": 50,
   "metadata": {},
   "outputs": [
    {
     "name": "stdout",
     "output_type": "stream",
     "text": [
      "7.97 s ± 742 ms per loop (mean ± std. dev. of 7 runs, 1 loop each)\n"
     ]
    }
   ],
   "source": [
    "%timeit inv_cholesky_jit(A)"
   ]
  },
  {
   "cell_type": "code",
   "execution_count": 30,
   "metadata": {},
   "outputs": [],
   "source": [
    "mu_theta, cov_theta = calc_mean_cov(sn2, n_spectral_points, phi)"
   ]
  },
  {
   "cell_type": "code",
   "execution_count": 31,
   "metadata": {},
   "outputs": [],
   "source": [
    "def random_calc():\n",
    "    rng = default_rng()\n",
    "    theta = rng.multivariate_normal(mu_theta[:, 0], cov_theta,\n",
    "                                    method='cholesky')"
   ]
  },
  {
   "cell_type": "code",
   "execution_count": 32,
   "metadata": {},
   "outputs": [
    {
     "name": "stdout",
     "output_type": "stream",
     "text": [
      "753 ms ± 259 ms per loop (mean ± std. dev. of 7 runs, 1 loop each)\n"
     ]
    }
   ],
   "source": [
    "%timeit random_calc()"
   ]
  },
  {
   "cell_type": "code",
   "execution_count": null,
   "metadata": {},
   "outputs": [],
   "source": [
    "#Posterior sample according to theta\n",
    "def f(x):\n",
    "    if isinstance(x, np.ndarray):\n",
    "        x =  (x-self.input_mean)/self.input_std\n",
    "        x[abs(x) < 1e-5] = 0.0\n",
    "    elif isinstance(X, DataSet):\n",
    "        x = x.standardize(mean=self.input_mean, \n",
    "                          std=self.input_std)\n",
    "    inputs, _ = np.shape(x)\n",
    "    bprime = matlib.repmat(b, 1, inputs)\n",
    "    output =  (theta.T*np.sqrt(2*sf2/n_spectral_points))@np.cos(W@x.T+bprime)\n",
    "    return np.atleast_2d(output).T"
   ]
  }
 ],
 "metadata": {
  "kernelspec": {
   "display_name": "Python 3",
   "language": "python",
   "name": "python3"
  },
  "language_info": {
   "codemirror_mode": {
    "name": "ipython",
    "version": 3
   },
   "file_extension": ".py",
   "mimetype": "text/x-python",
   "name": "python",
   "nbconvert_exporter": "python",
   "pygments_lexer": "ipython3",
   "version": "3.7.3"
  }
 },
 "nbformat": 4,
 "nbformat_minor": 4
}

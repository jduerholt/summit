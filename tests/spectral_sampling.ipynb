{
 "cells": [
  {
   "cell_type": "markdown",
   "metadata": {},
   "source": [
    "# Spectral Sampling Demonstration"
   ]
  },
  {
   "cell_type": "code",
   "execution_count": 1,
   "metadata": {},
   "outputs": [],
   "source": [
    "from summit.utils.models import GPyModel\n",
    "import matplotlib.pyplot as plt\n",
    "import numpy as np"
   ]
  },
  {
   "cell_type": "code",
   "execution_count": 21,
   "metadata": {},
   "outputs": [],
   "source": [
    "X = np.random.uniform(-3.,3.,(20,1))\n",
    "Y = np.sin(X) + np.random.randn(20,1)*0.05\n",
    "m = GPyModel(input_dim=1)\n",
    "m.fit(X, Y)\n",
    "sampled_f = m.spectral_sample(X, Y)"
   ]
  },
  {
   "cell_type": "code",
   "execution_count": 22,
   "metadata": {},
   "outputs": [
    {
     "data": {
      "image/png": "[encoded data removed]",
      "text/plain": [
       "<Figure size 432x288 with 1 Axes>"
      ]
     },
     "metadata": {
      "needs_background": "light"
     },
     "output_type": "display_data"
    }
   ],
   "source": [
    "predict_Y = m.predict(X)\n",
    "sample_Y = sampled_f(X)\n",
    "fig, ax = plt.subplots(1)\n",
    "ax.scatter(X[:,0], predict_Y[:, 0], marker= 'o', label='GP Prediction')\n",
    "ax.scatter(X[:,0], sample_Y, marker='^', label= 'Spectral Sample')\n",
    "ax.scatter(X[:,0], Y[:, 0], marker='x', label='Data')\n",
    "ax.legend()\n",
    "ax.tick_params(direction='in')\n",
    "ax.set_xlabel('X')\n",
    "_ = ax.set_ylabel('Y')"
   ]
  },
  {
   "cell_type": "code",
   "execution_count": 23,
   "metadata": {},
   "outputs": [
    {
     "name": "stdout",
     "output_type": "stream",
     "text": [
      "MAE GP:  0.025617426715247804\n",
      "MAE Spectral Sample:  0.02695126283895154\n"
     ]
    }
   ],
   "source": [
    "mae_pred = np.mean(np.abs(predict_Y[:,0]-Y[:,0]))\n",
    "mae_sample = np.mean(np.abs(sample_Y-Y[:,0]))\n",
    "print(\"MAE GP: \", mae_pred)\n",
    "print(\"MAE Spectral Sample: \", mae_sample)"
   ]
  }
 ],
 "metadata": {
  "kernelspec": {
   "display_name": "Python 3",
   "language": "python",
   "name": "python3"
  },
  "language_info": {
   "codemirror_mode": {
    "name": "ipython",
    "version": 3
   },
   "file_extension": ".py",
   "mimetype": "text/x-python",
   "name": "python",
   "nbconvert_exporter": "python",
   "pygments_lexer": "ipython3",
   "version": "3.7.3"
  }
 },
 "nbformat": 4,
 "nbformat_minor": 4
}

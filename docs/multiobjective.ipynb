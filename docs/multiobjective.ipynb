{
 "cells": [
  {
   "cell_type": "code",
   "execution_count": 1,
   "metadata": {},
   "outputs": [],
   "source": [
    "%load_ext autoreload\n",
    "%autoreload 2"
   ]
  },
  {
   "cell_type": "markdown",
   "metadata": {},
   "source": [
    "DTLZ2 is a multiobjective optimization test function. It has points evenly spread out across the pareto front. More information can be found [here](https://sop.tik.ee.ethz.ch/download/supplementary/testproblems/dtlz2/index.php)."
   ]
  },
  {
   "cell_type": "code",
   "execution_count": 1,
   "metadata": {},
   "outputs": [],
   "source": [
    "from summit.strategies import TSEMO\n",
    "from summit.benchmarks import DTLZ2, VLMOP2\n",
    "from IPython.display import clear_output\n",
    "import matplotlib.pyplot as plt\n",
    "import numpy as np"
   ]
  },
  {
   "cell_type": "code",
   "execution_count": 4,
   "metadata": {},
   "outputs": [
    {
     "data": {
      "image/png": "[encoded data removed]",
      "text/plain": [
       "<Figure size 432x288 with 1 Axes>"
      ]
     },
     "metadata": {
      "needs_background": "light"
     },
     "output_type": "display_data"
    },
    {
     "name": "stderr",
     "output_type": "stream",
     "text": [
      " /Users/Kobi/Documents/Research/summit/.venv/lib/python3.7/site-packages/paramz/transformations.py:111: RuntimeWarning:overflow encountered in expm1\n"
     ]
    }
   ],
   "source": [
    "#Run the DTLZ2 benchmark\n",
    "num_inputs=6\n",
    "num_objectives=2\n",
    "b = DTLZ2(num_inputs=num_inputs, \n",
    "          num_objectives=num_objectives)\n",
    "strategy = TSEMO(b.domain, random_rate=0.05)\n",
    "experiments = strategy.suggest_experiments(5*num_inputs)\n",
    "\n",
    "for i in range(100):\n",
    "    # Run experiments\n",
    "    b.run_experiments(experiments)\n",
    "    \n",
    "    # Plot data\n",
    "    clear_output(wait=True)\n",
    "    fig, _ = b.pareto_plot()\n",
    "    plt.show(fig)\n",
    "    \n",
    "    # Get suggestions\n",
    "    nsga_options = dict(pop_size=100, iterations=100)\n",
    "    experiments = strategy.suggest_experiments(1, b.data,\n",
    "                                               **nsga_options)"
   ]
  },
  {
   "cell_type": "code",
   "execution_count": 5,
   "metadata": {},
   "outputs": [],
   "source": [
    "#Save data from the run to disk\n",
    "b.data.to_csv('dtlz2_y_python.csv')"
   ]
  },
  {
   "cell_type": "markdown",
   "metadata": {},
   "source": [
    "The maximum achievable hypervolume for this problem is around 120.2. Let's see how the python algorithm performed and compare to the original Matlab algorithm."
   ]
  },
  {
   "cell_type": "code",
   "execution_count": 3,
   "metadata": {},
   "outputs": [
    {
     "data": {
      "text/plain": [
       "30"
      ]
     },
     "execution_count": 3,
     "metadata": {},
     "output_type": "execute_result"
    }
   ],
   "source": [
    "len(y_pareto)"
   ]
  },
  {
   "cell_type": "code",
   "execution_count": 2,
   "metadata": {},
   "outputs": [
    {
     "name": "stdout",
     "output_type": "stream",
     "text": [
      "Percent of points in pareto front: 23.3%\n",
      "Hypervolume:  120.12083891314484\n"
     ]
    }
   ],
   "source": [
    "from summit.utils.multiobjective import pareto_efficient, HvI\n",
    "from summit.utils.dataset import DataSet\n",
    "import numpy as np\n",
    "\n",
    "data = DataSet.read_csv('dtlz2_y_python.csv')\n",
    "y_pareto, _ = pareto_efficient(data[['y_0', 'y_1']].to_numpy(),maximize=False)\n",
    "percent_pareto = y_pareto.shape[0]/data.shape[0]\n",
    "print(\"Percent of points in pareto front: {0:.1f}%\".format(percent_pareto*100))\n",
    "\n",
    "hv = HvI.hypervolume(y_pareto, [11,11])\n",
    "print(\"Hypervolume: \", hv)"
   ]
  },
  {
   "cell_type": "markdown",
   "metadata": {},
   "source": [
    "Comparison of Matlab runs with the same parameters."
   ]
  },
  {
   "cell_type": "code",
   "execution_count": 6,
   "metadata": {},
   "outputs": [
    {
     "data": {
      "text/plain": [
       "14"
      ]
     },
     "execution_count": 6,
     "metadata": {},
     "output_type": "execute_result"
    }
   ],
   "source": [
    "len(y_pareto_ml)"
   ]
  },
  {
   "cell_type": "code",
   "execution_count": 5,
   "metadata": {},
   "outputs": [
    {
     "name": "stdout",
     "output_type": "stream",
     "text": [
      "Percent of points in pareto front: 10.8%\n",
      "Hypervolume:  120.1512904541\n"
     ]
    }
   ],
   "source": [
    "import pandas as pd\n",
    "data_matlab = pd.read_csv('dtlz2_y_matlab.csv', names=['y_0', 'y_1'])\n",
    "\n",
    "y_pareto_ml, _ = pareto_efficient(data_matlab[['y_0', 'y_1']].to_numpy(),maximize=False)\n",
    "percent_pareto_ml = y_pareto_ml.shape[0]/data_matlab.shape[0]\n",
    "print(\"Percent of points in pareto front: {0:.1f}%\".format(percent_pareto_ml*100))\n",
    "\n",
    "hv_ml = HvI.hypervolume(y_pareto_ml, [11,11])\n",
    "print(\"Hypervolume: \", hv_ml)"
   ]
  },
  {
   "cell_type": "markdown",
   "metadata": {},
   "source": [
    "I'm guessing the difference in hypervolume might come from the absence of spectral sampling in the python version."
   ]
  }
 ],
 "metadata": {
  "kernelspec": {
   "display_name": "Python 3",
   "language": "python",
   "name": "python3"
  },
  "language_info": {
   "codemirror_mode": {
    "name": "ipython",
    "version": 3
   },
   "file_extension": ".py",
   "mimetype": "text/x-python",
   "name": "python",
   "nbconvert_exporter": "python",
   "pygments_lexer": "ipython3",
   "version": "3.7.3"
  }
 },
 "nbformat": 4,
 "nbformat_minor": 4
}

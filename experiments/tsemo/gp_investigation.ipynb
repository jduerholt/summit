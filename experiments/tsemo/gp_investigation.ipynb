{
 "cells": [
  {
   "cell_type": "code",
   "execution_count": 8,
   "metadata": {},
   "outputs": [
    {
     "name": "stdout",
     "output_type": "stream",
     "text": [
      "The autoreload extension is already loaded. To reload it, use:\n",
      "  %reload_ext autoreload\n"
     ]
    }
   ],
   "source": [
    "%load_ext autoreload\n",
    "%autoreload 2"
   ]
  },
  {
   "cell_type": "code",
   "execution_count": 9,
   "metadata": {},
   "outputs": [],
   "source": [
    "from summit.utils.dataset import DataSet\n",
    "from summit.strategies.random import lhs\n",
    "from summit.strategies import TSEMO\n",
    "from summit.benchmarks import DTLZ2\n",
    "\n",
    "import GPy\n",
    "import scipy\n",
    "import pandas as pd\n",
    "import numpy as np\n",
    "import matplotlib.pyplot as plt\n",
    "import hiplot as hip"
   ]
  },
  {
   "cell_type": "markdown",
   "metadata": {},
   "source": [
    "Load data from unit test of TSEMO."
   ]
  },
  {
   "cell_type": "code",
   "execution_count": 10,
   "metadata": {},
   "outputs": [
    {
     "data": {
      "text/plain": [
       "<matplotlib.axes._subplots.AxesSubplot at 0x11f3d68d0>"
      ]
     },
     "execution_count": 10,
     "metadata": {},
     "output_type": "execute_result"
    },
    {
     "data": {
      "image/png": "[encoded data removed]",
      "text/plain": [
       "<Figure size 432x288 with 1 Axes>"
      ]
     },
     "metadata": {
      "needs_background": "light"
     },
     "output_type": "display_data"
    }
   ],
   "source": [
    "tsemo = TSEMO.load('data/tsemo_settings.json')\n",
    "data = tsemo.all_experiments\n",
    "data[data['strategy']=='LHS'].boxplot(column=[f'x_{i}'for i in range(6)])"
   ]
  },
  {
   "cell_type": "code",
   "execution_count": 11,
   "metadata": {},
   "outputs": [
    {
     "data": {
      "text/html": [
       "<div>\n",
       "<style scoped>\n",
       "    .dataframe tbody tr th:only-of-type {\n",
       "        vertical-align: middle;\n",
       "    }\n",
       "\n",
       "    .dataframe tbody tr th {\n",
       "        vertical-align: top;\n",
       "    }\n",
       "\n",
       "    .dataframe thead th {\n",
       "        text-align: right;\n",
       "    }\n",
       "</style>\n",
       "<table border=\"1\" class=\"dataframe\">\n",
       "  <thead>\n",
       "    <tr style=\"text-align: right;\">\n",
       "      <th></th>\n",
       "      <th>x_0</th>\n",
       "      <th>x_1</th>\n",
       "      <th>x_2</th>\n",
       "      <th>x_3</th>\n",
       "      <th>x_4</th>\n",
       "      <th>x_5</th>\n",
       "      <th>y_0</th>\n",
       "      <th>y_1</th>\n",
       "    </tr>\n",
       "  </thead>\n",
       "  <tbody>\n",
       "    <tr>\n",
       "      <th>0</th>\n",
       "      <td>0.379310</td>\n",
       "      <td>0.517241</td>\n",
       "      <td>0.724138</td>\n",
       "      <td>0.551724</td>\n",
       "      <td>0.206897</td>\n",
       "      <td>0.344828</td>\n",
       "      <td>0.341530</td>\n",
       "      <td>-0.686758</td>\n",
       "    </tr>\n",
       "    <tr>\n",
       "      <th>1</th>\n",
       "      <td>0.310345</td>\n",
       "      <td>1.000000</td>\n",
       "      <td>0.448276</td>\n",
       "      <td>0.655172</td>\n",
       "      <td>0.965517</td>\n",
       "      <td>0.655172</td>\n",
       "      <td>1.032255</td>\n",
       "      <td>-0.564391</td>\n",
       "    </tr>\n",
       "    <tr>\n",
       "      <th>2</th>\n",
       "      <td>0.655172</td>\n",
       "      <td>0.931034</td>\n",
       "      <td>0.586207</td>\n",
       "      <td>0.758621</td>\n",
       "      <td>0.655172</td>\n",
       "      <td>0.793103</td>\n",
       "      <td>-0.139632</td>\n",
       "      <td>0.411246</td>\n",
       "    </tr>\n",
       "    <tr>\n",
       "      <th>3</th>\n",
       "      <td>0.586207</td>\n",
       "      <td>0.172414</td>\n",
       "      <td>0.137931</td>\n",
       "      <td>0.137931</td>\n",
       "      <td>0.724138</td>\n",
       "      <td>0.068966</td>\n",
       "      <td>0.348190</td>\n",
       "      <td>0.621530</td>\n",
       "    </tr>\n",
       "    <tr>\n",
       "      <th>4</th>\n",
       "      <td>0.275862</td>\n",
       "      <td>0.896552</td>\n",
       "      <td>0.482759</td>\n",
       "      <td>0.241379</td>\n",
       "      <td>0.689655</td>\n",
       "      <td>0.000000</td>\n",
       "      <td>1.089316</td>\n",
       "      <td>-0.724359</td>\n",
       "    </tr>\n",
       "  </tbody>\n",
       "</table>\n",
       "</div>"
      ],
      "text/plain": [
       "NAME       x_0       x_1       x_2       x_3       x_4       x_5       y_0  \\\n",
       "TYPE      DATA      DATA      DATA      DATA      DATA      DATA      DATA   \n",
       "0     0.379310  0.517241  0.724138  0.551724  0.206897  0.344828  0.341530   \n",
       "1     0.310345  1.000000  0.448276  0.655172  0.965517  0.655172  1.032255   \n",
       "2     0.655172  0.931034  0.586207  0.758621  0.655172  0.793103 -0.139632   \n",
       "3     0.586207  0.172414  0.137931  0.137931  0.724138  0.068966  0.348190   \n",
       "4     0.275862  0.896552  0.482759  0.241379  0.689655  0.000000  1.089316   \n",
       "\n",
       "NAME       y_1  \n",
       "TYPE      DATA  \n",
       "0    -0.686758  \n",
       "1    -0.564391  \n",
       "2     0.411246  \n",
       "3     0.621530  \n",
       "4    -0.724359  "
      ]
     },
     "execution_count": 11,
     "metadata": {},
     "output_type": "execute_result"
    }
   ],
   "source": [
    "n_training = 35\n",
    "input_columns = [v.name for v in tsemo.domain.input_variables]\n",
    "output_columns = ['y_0', 'y_1']\n",
    "# Scale decision variables between 0 and 1\n",
    "# inputs = data[data['strategy']=='LHS'][input_columns]\n",
    "inputs = data[input_columns].iloc[0:n_training]\n",
    "input_min = inputs.min()\n",
    "input_max = inputs.max()\n",
    "scaled_inputs = (inputs-input_min)/(input_max-input_min)\n",
    "\n",
    "# Scale objectives to 0 mean and unit variance\n",
    "# outputs = data[data['strategy']=='LHS'][output_columns]\n",
    "outputs = data[output_columns][0:n_training]\n",
    "output_mean = outputs.mean()\n",
    "output_std = outputs.std()\n",
    "scaled_outputs = (outputs-output_mean)/output_std\n",
    "\n",
    "# Join back\n",
    "scaled_data = pd.concat([scaled_inputs, scaled_outputs], axis=1)\n",
    "scaled_data.head(5)"
   ]
  },
  {
   "cell_type": "markdown",
   "metadata": {},
   "source": [
    "## Hyperparameter Screening"
   ]
  },
  {
   "cell_type": "code",
   "execution_count": 12,
   "metadata": {},
   "outputs": [
    {
     "data": {
      "text/html": [
       "<style type=\"text/css\">\n",
       ".pd{\n",
       "    font-family: \"Courier New\", Courier, monospace !important;\n",
       "    width: 100%;\n",
       "    padding: 3px;\n",
       "}\n",
       "</style>\n",
       "\n",
       "<p class=pd>\n",
       "<b>Model</b>: GP regression<br>\n",
       "<b>Objective</b>: 68.39622717246439<br>\n",
       "<b>Number of Parameters</b>: 8<br>\n",
       "<b>Number of Optimization Parameters</b>: 8<br>\n",
       "<b>Updates</b>: True<br>\n",
       "</p>\n",
       "<style type=\"text/css\">\n",
       ".tg  {font-family:\"Courier New\", Courier, monospace !important;padding:2px 3px;word-break:normal;border-collapse:collapse;border-spacing:0;border-color:#DCDCDC;margin:0px auto;width:100%;}\n",
       ".tg td{font-family:\"Courier New\", Courier, monospace !important;font-weight:bold;color:#444;background-color:#F7FDFA;border-style:solid;border-width:1px;overflow:hidden;word-break:normal;border-color:#DCDCDC;}\n",
       ".tg th{font-family:\"Courier New\", Courier, monospace !important;font-weight:normal;color:#fff;background-color:#26ADE4;border-style:solid;border-width:1px;overflow:hidden;word-break:normal;border-color:#DCDCDC;}\n",
       ".tg .tg-left{font-family:\"Courier New\", Courier, monospace !important;font-weight:normal;text-align:left;}\n",
       ".tg .tg-center{font-family:\"Courier New\", Courier, monospace !important;font-weight:normal;text-align:center;}\n",
       ".tg .tg-right{font-family:\"Courier New\", Courier, monospace !important;font-weight:normal;text-align:right;}\n",
       "</style>\n",
       "<table class=\"tg\"><tr><th><b>  GP_regression.         </b></th><th><b>             value</b></th><th><b>       constraints       </b></th><th><b>  priors   </b></th></tr>\n",
       "<tr><td class=tg-left>  Exponential.variance   </td><td class=tg-right>               1.0</td><td class=tg-center>           +ve           </td><td class=tg-center>lnN(-6, 10)</td></tr>\n",
       "<tr><td class=tg-left>  Exponential.lengthscale</td><td class=tg-right>              (6,)</td><td class=tg-center>           +ve           </td><td class=tg-center>lnN(0, 10) </td></tr>\n",
       "<tr><td class=tg-left>  Gaussian_noise.variance</td><td class=tg-right>0.5012393760883331</td><td class=tg-center>0.0024787521766663585,1.0</td><td class=tg-center>           </td></tr>\n",
       "</table>"
      ],
      "text/plain": [
       "<GPy.models.gp_regression.GPRegression at 0x123bd9cc0>"
      ]
     },
     "execution_count": 12,
     "metadata": {},
     "output_type": "execute_result"
    }
   ],
   "source": [
    "kern = GPy.kern.Exponential(input_dim=6,ARD=True)\n",
    "m = GPy.models.GPRegression(scaled_inputs.to_numpy(), \n",
    "                            scaled_outputs[['y_0']].to_numpy(), \n",
    "                            kern, noise_var=1e-3)\n",
    "m.kern.lengthscale.constrain_bounded(np.sqrt(1e-3), np.sqrt(1e3),warning=False)\n",
    "m.kern.lengthscale.set_prior(GPy.priors.LogGaussian(0, 10), warning=False)\n",
    "m.kern.variance.constrain_bounded(np.sqrt(1e-3), np.sqrt(1e3), warning=False)\n",
    "m.kern.variance.set_prior(GPy.priors.LogGaussian(-6, 10), warning=False)\n",
    "m.Gaussian_noise.constrain_bounded(np.exp(-6), 1, warning=False)\n",
    "m"
   ]
  },
  {
   "cell_type": "code",
   "execution_count": 13,
   "metadata": {},
   "outputs": [
    {
     "name": "stdout",
     "output_type": "stream",
     "text": [
      "Lengthscales=2: 68.97574779172123\n",
      "Lengthscales=0.2: 73.28253754120928\n"
     ]
    }
   ],
   "source": [
    "# Try changing kernel lengthscales\n",
    "m.kern.lengthscale = 2*np.ones(6)\n",
    "print(\"Lengthscales=2:\", m.objective_function())\n",
    "\n",
    "m.kern.lengthscale = 0.2*np.ones(6)\n",
    "print(\"Lengthscales=0.2:\", m.objective_function())"
   ]
  },
  {
   "cell_type": "markdown",
   "metadata": {},
   "source": [
    "* Parameters to screen:\n",
    "    * Variance\n",
    "    * Lengthscales (x6)\n",
    "    * Gaussian noise\n"
   ]
  },
  {
   "cell_type": "code",
   "execution_count": null,
   "metadata": {},
   "outputs": [],
   "source": [
    "screening_values = lhs(8, int(1e5))\n",
    "scaling_variance_log=[np.log(np.sqrt(1e-3)), np.log(np.sqrt(1e3))]\n",
    "scaling_lengthscales_log=[np.log(np.sqrt(1e-3)), np.log(np.sqrt(1e3))]\n",
    "scaling_noise_log=[-6, 0]\n",
    "\n",
    "records = []\n",
    "\n",
    "for values in screening_values:\n",
    "    variance = values[0]*(scaling_variance_log[1]-scaling_variance_log[0])+scaling_variance_log[0]\n",
    "    lengthscales = values[1:7]*(scaling_lengthscales_log[1]-scaling_lengthscales_log[0])+scaling_lengthscales_log[0]\n",
    "    noise = values[7]*(scaling_noise_log[1]-scaling_noise_log[0])+scaling_noise_log[0]\n",
    "    m.kern.variance = np.exp(variance)\n",
    "    m.kern.lengthscale  = np.exp(lengthscales)\n",
    "    m.Gaussian_noise.variance = np.exp(noise)\n",
    "    record = {f'log_x_{i}': lengthscale for i, lengthscale in enumerate(lengthscales)}\n",
    "    record.update({'log_variance': variance,'log_noise': noise,\n",
    "                   'objective_function': m.objective_function()})\n",
    "    records.append(record)\n",
    "    \n",
    "df = pd.DataFrame(records)"
   ]
  },
  {
   "cell_type": "code",
   "execution_count": null,
   "metadata": {},
   "outputs": [],
   "source": [
    "# records_top = df[df['objective_function']<40].to_dict(orient='records')\n",
    "exp = hip.Experiment.from_iterable(records)\n",
    "exp.display_data(hip.Displays.PARALLEL_PLOT).update({'hide': ['uid']})\n",
    "exp.display()"
   ]
  },
  {
   "cell_type": "markdown",
   "metadata": {},
   "source": [
    "This shows us that the hyperparameter optimisation landscape is rough with lots of local minima. We need a global optimisation algorithm to solve it."
   ]
  },
  {
   "cell_type": "markdown",
   "metadata": {},
   "source": [
    "##  Optimizer"
   ]
  },
  {
   "cell_type": "code",
   "execution_count": 7,
   "metadata": {},
   "outputs": [
    {
     "name": "stdout",
     "output_type": "stream",
     "text": [
      "Optimization restart 1/10, f = 41.31192366273964\n",
      "Optimization restart 2/10, f = 72.1237264604961\n",
      "Optimization restart 3/10, f = 103.21176215736315\n",
      "Optimization restart 4/10, f = 153.88056363337233\n"
     ]
    },
    {
     "name": "stderr",
     "output_type": "stream",
     "text": [
      " /Users/Kobi/Library/Caches/pypoetry/virtualenvs/summit-TfmmV07p-py3.7/lib/python3.7/site-packages/paramz/transformations.py:111: RuntimeWarning:overflow encountered in expm1\n",
      " /Users/Kobi/Library/Caches/pypoetry/virtualenvs/summit-TfmmV07p-py3.7/lib/python3.7/site-packages/paramz/transformations.py:119: RuntimeWarning:overflow encountered in expm1\n",
      " /Users/Kobi/Library/Caches/pypoetry/virtualenvs/summit-TfmmV07p-py3.7/lib/python3.7/site-packages/paramz/transformations.py:121: RuntimeWarning:overflow encountered in expm1\n",
      " /Users/Kobi/Library/Caches/pypoetry/virtualenvs/summit-TfmmV07p-py3.7/lib/python3.7/site-packages/GPy/core/parameterization/priors.py:182: RuntimeWarning:overflow encountered in true_divide\n"
     ]
    },
    {
     "name": "stdout",
     "output_type": "stream",
     "text": [
      "Optimization restart 5/10, f = 63.986583996090744\n",
      "Optimization restart 6/10, f = 99.73095545776857\n",
      "Optimization restart 7/10, f = 98.46363915290166\n"
     ]
    },
    {
     "name": "stderr",
     "output_type": "stream",
     "text": [
      " /Users/Kobi/Library/Caches/pypoetry/virtualenvs/summit-TfmmV07p-py3.7/lib/python3.7/site-packages/GPy/kern/src/stationary.py:137: RuntimeWarning:overflow encountered in square\n",
      " /Users/Kobi/Library/Caches/pypoetry/virtualenvs/summit-TfmmV07p-py3.7/lib/python3.7/site-packages/GPy/kern/src/stationary.py:138: RuntimeWarning:invalid value encountered in add\n"
     ]
    },
    {
     "name": "stdout",
     "output_type": "stream",
     "text": [
      "Optimization restart 8/10, f = 49.37324854371545\n",
      "Optimization restart 9/10, f = 75.50417918125636\n",
      "Optimization restart 10/10, f = 61.5406457374283\n"
     ]
    },
    {
     "data": {
      "text/html": [
       "<style type=\"text/css\">\n",
       ".pd{\n",
       "    font-family: \"Courier New\", Courier, monospace !important;\n",
       "    width: 100%;\n",
       "    padding: 3px;\n",
       "}\n",
       "</style>\n",
       "\n",
       "<p class=pd>\n",
       "<b>Model</b>: GP regression<br>\n",
       "<b>Objective</b>: 41.31192366273964<br>\n",
       "<b>Number of Parameters</b>: 8<br>\n",
       "<b>Number of Optimization Parameters</b>: 8<br>\n",
       "<b>Updates</b>: True<br>\n",
       "</p>\n",
       "<style type=\"text/css\">\n",
       ".tg  {font-family:\"Courier New\", Courier, monospace !important;padding:2px 3px;word-break:normal;border-collapse:collapse;border-spacing:0;border-color:#DCDCDC;margin:0px auto;width:100%;}\n",
       ".tg td{font-family:\"Courier New\", Courier, monospace !important;font-weight:bold;color:#444;background-color:#F7FDFA;border-style:solid;border-width:1px;overflow:hidden;word-break:normal;border-color:#DCDCDC;}\n",
       ".tg th{font-family:\"Courier New\", Courier, monospace !important;font-weight:normal;color:#fff;background-color:#26ADE4;border-style:solid;border-width:1px;overflow:hidden;word-break:normal;border-color:#DCDCDC;}\n",
       ".tg .tg-left{font-family:\"Courier New\", Courier, monospace !important;font-weight:normal;text-align:left;}\n",
       ".tg .tg-center{font-family:\"Courier New\", Courier, monospace !important;font-weight:normal;text-align:center;}\n",
       ".tg .tg-right{font-family:\"Courier New\", Courier, monospace !important;font-weight:normal;text-align:right;}\n",
       "</style>\n",
       "<table class=\"tg\"><tr><th><b>  GP_regression.         </b></th><th><b>              value</b></th><th><b>       constraints       </b></th><th><b>  priors   </b></th></tr>\n",
       "<tr><td class=tg-left>  Exponential.variance   </td><td class=tg-right>0.34905044130100016</td><td class=tg-center>           +ve           </td><td class=tg-center>lnN(-6, 10)</td></tr>\n",
       "<tr><td class=tg-left>  Exponential.lengthscale</td><td class=tg-right>               (6,)</td><td class=tg-center>           +ve           </td><td class=tg-center>lnN(0, 10) </td></tr>\n",
       "<tr><td class=tg-left>  Gaussian_noise.variance</td><td class=tg-right>0.00247875570202701</td><td class=tg-center>0.0024787521766663585,1.0</td><td class=tg-center>           </td></tr>\n",
       "</table>"
      ],
      "text/plain": [
       "<GPy.models.gp_regression.GPRegression at 0x1238f1748>"
      ]
     },
     "execution_count": 7,
     "metadata": {},
     "output_type": "execute_result"
    }
   ],
   "source": [
    "#First the L-BFSG optimizer\n",
    "kern = GPy.kern.Exponential(input_dim=6,ARD=True)\n",
    "m_bfsg = GPy.models.GPRegression(scaled_inputs.to_numpy(), \n",
    "                                   scaled_outputs[['y_0']].to_numpy(), \n",
    "                                   kern, noise_var=1e-3)\n",
    "m_bfsg.kern.lengthscale.constrain_bounded(np.sqrt(1e-3), np.sqrt(1e3),warning=False)\n",
    "m_bfsg.kern.lengthscale.set_prior(GPy.priors.LogGaussian(0, 10), warning=False)\n",
    "m_bfsg.kern.variance.constrain_bounded(np.sqrt(1e-3), np.sqrt(1e3), warning=False)\n",
    "m_bfsg.kern.variance.set_prior(GPy.priors.LogGaussian(-6, 10), warning=False)\n",
    "m_bfsg.Gaussian_noise.constrain_bounded(np.exp(-6), 1, warning=False)\n",
    "m_bfsg.optimize_restarts(10)\n",
    "m_bfsg"
   ]
  },
  {
   "cell_type": "code",
   "execution_count": 104,
   "metadata": {},
   "outputs": [
    {
     "data": {
      "text/html": [
       "<style type=\"text/css\">\n",
       ".tg  {padding:2px 3px;word-break:normal;border-collapse:collapse;border-spacing:0;border-color:#DCDCDC;margin:0px auto;width:100%;}\n",
       ".tg td{font-family:\"Courier New\", Courier, monospace !important;font-weight:bold;color:#444;background-color:#F7FDFA;border-style:solid;border-width:1px;overflow:hidden;word-break:normal;border-color:#DCDCDC;}\n",
       ".tg th{font-family:\"Courier New\", Courier, monospace !important;font-weight:normal;color:#fff;background-color:#26ADE4;border-style:solid;border-width:1px;overflow:hidden;word-break:normal;border-color:#DCDCDC;}\n",
       ".tg .tg-left{font-family:\"Courier New\", Courier, monospace !important;font-weight:normal;text-align:left;}\n",
       ".tg .tg-right{font-family:\"Courier New\", Courier, monospace !important;font-weight:normal;text-align:right;}\n",
       "</style>\n",
       "<table class=\"tg\">\n",
       "\n",
       "<tr>\n",
       "  <th><b>index</b></th>\n",
       "  <th><b>GP_regression.Exponential.lengthscale</b></th>\n",
       "  <th><b>constraints</b></th><th><b>priors</b></th>\n",
       "</tr>\n",
       "<tr><td class=tg-left>  [0]  </td><td class=tg-right>                           0.43636608</td><td class=tg-left>    +ve    </td><td class=tg-left>lnN(0, 10)</td></tr>\n",
       "<tr><td class=tg-left>  [1]  </td><td class=tg-right>                           5.20891214</td><td class=tg-left>    +ve    </td><td class=tg-left>lnN(0, 10)</td></tr>\n",
       "<tr><td class=tg-left>  [2]  </td><td class=tg-right>                           5.00195590</td><td class=tg-left>    +ve    </td><td class=tg-left>lnN(0, 10)</td></tr>\n",
       "<tr><td class=tg-left>  [3]  </td><td class=tg-right>                           2.92273922</td><td class=tg-left>    +ve    </td><td class=tg-left>lnN(0, 10)</td></tr>\n",
       "<tr><td class=tg-left>  [4]  </td><td class=tg-right>                           5.48942342</td><td class=tg-left>    +ve    </td><td class=tg-left>lnN(0, 10)</td></tr>\n",
       "<tr><td class=tg-left>  [5]  </td><td class=tg-right>                           1.94519248</td><td class=tg-left>    +ve    </td><td class=tg-left>lnN(0, 10)</td></tr>"
      ],
      "text/plain": [
       "\u001b[1mGP_regression.Exponential.lengthscale\u001b[0;0m:\n",
       "Param([0.43636608, 5.20891214, 5.0019559 , 2.92273922, 5.48942342,\n",
       "       1.94519248])"
      ]
     },
     "execution_count": 104,
     "metadata": {},
     "output_type": "execute_result"
    }
   ],
   "source": [
    "m_bfsg.kern.lengthscale"
   ]
  },
  {
   "cell_type": "code",
   "execution_count": 102,
   "metadata": {},
   "outputs": [
    {
     "name": "stdout",
     "output_type": "stream",
     "text": [
      "Number of training data: 94\n",
      "Root mean square error: 0.07693644332036981\n"
     ]
    }
   ],
   "source": [
    "test_data = data.iloc[n_training:]\n",
    "scaled_test = (test_data[input_columns]-input_min)/(input_max-input_min)\n",
    "y_pred_scaled, y_pred_var_scaled = m_bfsg.predict(scaled_test.to_numpy())\n",
    "\n",
    "y_pred = y_pred_scaled[:,0]*output_std['y_0'].to_numpy()[0] + output_mean['y_0'].to_numpy()[0]\n",
    "y_pred_var = y_pred_var_scaled*output_std['y_0'].to_numpy()[0]\n",
    "y_real = test_data['y_0'].to_numpy()\n",
    "square_error = (y_pred-y_real)**2\n",
    "rmse = np.sqrt(np.mean(square_error))\n",
    "print(\"Number of training data:\", data.shape[0]-n_training)\n",
    "print(\"Root mean square error:\",rmse)"
   ]
  },
  {
   "cell_type": "code",
   "execution_count": 110,
   "metadata": {},
   "outputs": [
    {
     "name": "stderr",
     "output_type": "stream",
     "text": [
      " /Users/Kobi/Library/Caches/pypoetry/virtualenvs/summit-TfmmV07p-py3.7/lib/python3.7/site-packages/ipykernel_launcher.py:2: MatplotlibDeprecationWarning:Support for passing a (n, 1)-shaped error array to errorbar() is deprecated since Matplotlib 3.1 and will be removed in 3.3; pass a 1D array instead.\n"
     ]
    },
    {
     "data": {
      "text/plain": [
       "Text(0.5, 1.0, 'Parity Plot')"
      ]
     },
     "execution_count": 110,
     "metadata": {},
     "output_type": "execute_result"
    },
    {
     "data": {
      "image/png": "[encoded data removed]",
      "text/plain": [
       "<Figure size 432x288 with 1 Axes>"
      ]
     },
     "metadata": {
      "needs_background": "light"
     },
     "output_type": "display_data"
    }
   ],
   "source": [
    "plt.scatter(y_real, y_pred)\n",
    "plt.errorbar(y_real, y_pred, yerr=y_pred_var, fmt='none', alpha=0.2)\n",
    "plt.plot([0,1],[0,1])\n",
    "plt.xlim(0,1)\n",
    "plt.ylim(0,1)\n",
    "plt.xlabel('Experimental')\n",
    "plt.ylabel('Predicted')\n",
    "plt.title('Parity Plot')"
   ]
  },
  {
   "cell_type": "code",
   "execution_count": 106,
   "metadata": {},
   "outputs": [],
   "source": [
    "class BasinHopping(GPy.inference.optimization.Optimizer):\n",
    "    \n",
    "    def __init__(self, T=1.0, **kwargs):\n",
    "        super().__init__(**kwargs)\n",
    "        self.opt_name = 'BasinHopping'\n",
    "        self.T = T\n",
    "        \n",
    "    def opt(self, x_init, f_fp=None, f=None, fp=None):\n",
    "        minimizer_kwargs = {\"jac\": True}\n",
    "        res = scipy.optimize.basinhopping(f_fp, x_init, niter=self.max_iters, \n",
    "                                          minimizer_kwargs=minimizer_kwargs,\n",
    "                                          T=self.T)\n",
    "        self.f_opt = res.fun\n",
    "        self.x_opt = res.x\n",
    "        self.status = 'maximum number of function evaluations exceeded'"
   ]
  },
  {
   "cell_type": "code",
   "execution_count": 107,
   "metadata": {},
   "outputs": [
    {
     "data": {
      "text/html": [
       "<style type=\"text/css\">\n",
       ".pd{\n",
       "    font-family: \"Courier New\", Courier, monospace !important;\n",
       "    width: 100%;\n",
       "    padding: 3px;\n",
       "}\n",
       "</style>\n",
       "\n",
       "<p class=pd>\n",
       "<b>Model</b>: GP regression<br>\n",
       "<b>Objective</b>: 41.31192335538342<br>\n",
       "<b>Number of Parameters</b>: 8<br>\n",
       "<b>Number of Optimization Parameters</b>: 8<br>\n",
       "<b>Updates</b>: True<br>\n",
       "</p>\n",
       "<style type=\"text/css\">\n",
       ".tg  {font-family:\"Courier New\", Courier, monospace !important;padding:2px 3px;word-break:normal;border-collapse:collapse;border-spacing:0;border-color:#DCDCDC;margin:0px auto;width:100%;}\n",
       ".tg td{font-family:\"Courier New\", Courier, monospace !important;font-weight:bold;color:#444;background-color:#F7FDFA;border-style:solid;border-width:1px;overflow:hidden;word-break:normal;border-color:#DCDCDC;}\n",
       ".tg th{font-family:\"Courier New\", Courier, monospace !important;font-weight:normal;color:#fff;background-color:#26ADE4;border-style:solid;border-width:1px;overflow:hidden;word-break:normal;border-color:#DCDCDC;}\n",
       ".tg .tg-left{font-family:\"Courier New\", Courier, monospace !important;font-weight:normal;text-align:left;}\n",
       ".tg .tg-center{font-family:\"Courier New\", Courier, monospace !important;font-weight:normal;text-align:center;}\n",
       ".tg .tg-right{font-family:\"Courier New\", Courier, monospace !important;font-weight:normal;text-align:right;}\n",
       "</style>\n",
       "<table class=\"tg\"><tr><th><b>  GP_regression.         </b></th><th><b>               value</b></th><th><b>       constraints       </b></th><th><b>  priors   </b></th></tr>\n",
       "<tr><td class=tg-left>  Exponential.variance   </td><td class=tg-right>  0.3490391822532001</td><td class=tg-center>           +ve           </td><td class=tg-center>lnN(-6, 10)</td></tr>\n",
       "<tr><td class=tg-left>  Exponential.lengthscale</td><td class=tg-right>                (6,)</td><td class=tg-center>           +ve           </td><td class=tg-center>lnN(0, 10) </td></tr>\n",
       "<tr><td class=tg-left>  Gaussian_noise.variance</td><td class=tg-right>0.002478752181011732</td><td class=tg-center>0.0024787521766663585,1.0</td><td class=tg-center>           </td></tr>\n",
       "</table>"
      ],
      "text/plain": [
       "<GPy.models.gp_regression.GPRegression at 0x12497da20>"
      ]
     },
     "execution_count": 107,
     "metadata": {},
     "output_type": "execute_result"
    }
   ],
   "source": [
    "#Optimize using basin hopping\n",
    "kern = GPy.kern.Exponential(input_dim=6,ARD=True)\n",
    "m = GPy.models.GPRegression(scaled_inputs.to_numpy(), \n",
    "                            scaled_outputs[['y_0']].to_numpy(),\n",
    "                            kern, \n",
    "                            noise_var=1e-3)\n",
    "m.kern.lengthscale.constrain_bounded(np.sqrt(1e-3), np.sqrt(1e3),warning=False)\n",
    "m.kern.lengthscale.set_prior(GPy.priors.LogGaussian(0, 10), warning=False)\n",
    "m.kern.variance.constrain_bounded(np.sqrt(1e-3), np.sqrt(1e3), warning=False)\n",
    "m.kern.variance.set_prior(GPy.priors.LogGaussian(-6, 10), warning=False)\n",
    "m.Gaussian_noise.constrain_bounded(np.exp(-6), 1, warning=False)\n",
    "m.optimize(optimizer=BasinHopping(max_iters=100, T=0.1))\n",
    "m"
   ]
  },
  {
   "cell_type": "code",
   "execution_count": 108,
   "metadata": {},
   "outputs": [
    {
     "name": "stdout",
     "output_type": "stream",
     "text": [
      "Number of training data: 35\n",
      "Number of test data: 94\n",
      "Root mean square error: 0.07693634072131462\n"
     ]
    }
   ],
   "source": [
    "test_data = data.iloc[n_training:]\n",
    "scaled_test = (test_data[input_columns]-input_min)/(input_max-input_min)\n",
    "y_pred_scaled, y_pred_var_scaled = m.predict(scaled_test.to_numpy())\n",
    "\n",
    "y_pred = y_pred_scaled[:,0]*output_std['y_0'].to_numpy()[0] + output_mean['y_0'].to_numpy()[0]\n",
    "y_pred_var = y_pred_var_scaled*output_std['y_0'].to_numpy()[0]\n",
    "y_real = test_data['y_0'].to_numpy()\n",
    "square_error = (y_pred-y_real)**2\n",
    "rmse = np.sqrt(np.mean(square_error))\n",
    "print(\"Number of training data:\", n_training)\n",
    "print(\"Number of test data:\", data.shape[0]-n_training)\n",
    "print(\"Root mean square error:\",rmse)"
   ]
  },
  {
   "cell_type": "code",
   "execution_count": 109,
   "metadata": {},
   "outputs": [
    {
     "name": "stderr",
     "output_type": "stream",
     "text": [
      " /Users/Kobi/Library/Caches/pypoetry/virtualenvs/summit-TfmmV07p-py3.7/lib/python3.7/site-packages/ipykernel_launcher.py:6: MatplotlibDeprecationWarning:Support for passing a (n, 1)-shaped error array to errorbar() is deprecated since Matplotlib 3.1 and will be removed in 3.3; pass a 1D array instead.\n",
      " /Users/Kobi/Library/Caches/pypoetry/virtualenvs/summit-TfmmV07p-py3.7/lib/python3.7/site-packages/ipykernel_launcher.py:8: MatplotlibDeprecationWarning:Support for passing a (n, 1)-shaped error array to errorbar() is deprecated since Matplotlib 3.1 and will be removed in 3.3; pass a 1D array instead.\n"
     ]
    },
    {
     "data": {
      "text/plain": [
       "Text(0.5, 1.0, 'Parity Plot')"
      ]
     },
     "execution_count": 109,
     "metadata": {},
     "output_type": "execute_result"
    },
    {
     "data": {
      "image/png": "[encoded data removed]",
      "text/plain": [
       "<Figure size 432x288 with 1 Axes>"
      ]
     },
     "metadata": {
      "needs_background": "light"
     },
     "output_type": "display_data"
    }
   ],
   "source": [
    "y_pred_train_scaled , y_pred_var_train_scaled = m.predict(scaled_inputs.to_numpy())\n",
    "y_pred_train = y_pred_train_scaled[:,0]*output_std['y_0'].to_numpy()[0] + output_mean['y_0'].to_numpy()[0]\n",
    "y_pred_var_train = y_pred_var_train_scaled*output_std['y_0'].to_numpy()[0]\n",
    "plt.scatter(outputs['y_0'].to_numpy(), y_pred_train, label=\"training data\")\n",
    "plt.errorbar(outputs['y_0'].to_numpy(), y_pred_train, \n",
    "             yerr=y_pred_var_train, fmt='none', alpha=0.2)\n",
    "plt.scatter(y_real, y_pred, label='test data')\n",
    "plt.errorbar(y_real, y_pred, yerr=y_pred_var, fmt='none', alpha=0.2)\n",
    "plt.plot([0,1],[0,1])\n",
    "plt.xlim(0,1)\n",
    "plt.ylim(0,1)\n",
    "plt.legend()\n",
    "plt.xlabel('Experimental')\n",
    "plt.ylabel('Predicted')\n",
    "plt.title('Parity Plot')"
   ]
  },
  {
   "cell_type": "markdown",
   "metadata": {},
   "source": [
    "Because all teh training data is centered in one place, it is not able to train a good model."
   ]
  },
  {
   "cell_type": "code",
   "execution_count": 112,
   "metadata": {},
   "outputs": [
    {
     "data": {
      "text/plain": [
       "(array([[0.19653369]]), array([[0.04380293]]))"
      ]
     },
     "execution_count": 112,
     "metadata": {},
     "output_type": "execute_result"
    }
   ],
   "source": [
    "m.predict(0.5*np.ones([1,6]))"
   ]
  },
  {
   "cell_type": "code",
   "execution_count": 115,
   "metadata": {},
   "outputs": [
    {
     "data": {
      "text/html": [
       "<div>\n",
       "<style scoped>\n",
       "    .dataframe tbody tr th:only-of-type {\n",
       "        vertical-align: middle;\n",
       "    }\n",
       "\n",
       "    .dataframe tbody tr th {\n",
       "        vertical-align: top;\n",
       "    }\n",
       "\n",
       "    .dataframe thead th {\n",
       "        text-align: right;\n",
       "    }\n",
       "</style>\n",
       "<table border=\"1\" class=\"dataframe\">\n",
       "  <thead>\n",
       "    <tr style=\"text-align: right;\">\n",
       "      <th></th>\n",
       "      <th>computation_t</th>\n",
       "      <th>experiment_t</th>\n",
       "      <th>strategy</th>\n",
       "      <th>x_0</th>\n",
       "      <th>x_1</th>\n",
       "      <th>x_2</th>\n",
       "      <th>x_3</th>\n",
       "      <th>x_4</th>\n",
       "      <th>x_5</th>\n",
       "      <th>y_0</th>\n",
       "      <th>y_1</th>\n",
       "    </tr>\n",
       "  </thead>\n",
       "  <tbody>\n",
       "    <tr>\n",
       "      <th>0</th>\n",
       "      <td>0</td>\n",
       "      <td>0.0193219</td>\n",
       "      <td>NaN</td>\n",
       "      <td>0.5</td>\n",
       "      <td>0.5</td>\n",
       "      <td>0.5</td>\n",
       "      <td>0.5</td>\n",
       "      <td>0.5</td>\n",
       "      <td>0.5</td>\n",
       "      <td>0.707107</td>\n",
       "      <td>0.707107</td>\n",
       "    </tr>\n",
       "  </tbody>\n",
       "</table>\n",
       "</div>"
      ],
      "text/plain": [
       "NAME computation_t experiment_t strategy  x_0  x_1  x_2  x_3  x_4  x_5  \\\n",
       "TYPE      METADATA     METADATA METADATA DATA DATA DATA DATA DATA DATA   \n",
       "0                0    0.0193219      NaN  0.5  0.5  0.5  0.5  0.5  0.5   \n",
       "\n",
       "NAME       y_0       y_1  \n",
       "TYPE      DATA      DATA  \n",
       "0     0.707107  0.707107  "
      ]
     },
     "execution_count": 115,
     "metadata": {},
     "output_type": "execute_result"
    }
   ],
   "source": [
    "dtlz2 = DTLZ2()\n",
    "conditions = DataSet(0.5*np.ones([1,6]), columns=[f'x_{i}' for i in range(6)])\n",
    "dtlz2.run_experiments(conditions)"
   ]
  },
  {
   "cell_type": "code",
   "execution_count": null,
   "metadata": {},
   "outputs": [],
   "source": [
    "plt."
   ]
  }
 ],
 "metadata": {
  "kernelspec": {
   "display_name": "Python 3",
   "language": "python",
   "name": "python3"
  },
  "language_info": {
   "codemirror_mode": {
    "name": "ipython",
    "version": 3
   },
   "file_extension": ".py",
   "mimetype": "text/x-python",
   "name": "python",
   "nbconvert_exporter": "python",
   "pygments_lexer": "ipython3",
   "version": "3.7.3"
  }
 },
 "nbformat": 4,
 "nbformat_minor": 4
}

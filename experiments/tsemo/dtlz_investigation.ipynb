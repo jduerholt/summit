{
 "cells": [
  {
   "cell_type": "markdown",
   "metadata": {},
   "source": [
    "# DTLZ investigation"
   ]
  },
  {
   "cell_type": "code",
   "execution_count": 26,
   "metadata": {},
   "outputs": [
    {
     "name": "stdout",
     "output_type": "stream",
     "text": [
      "The autoreload extension is already loaded. To reload it, use:\n",
      "  %reload_ext autoreload\n"
     ]
    }
   ],
   "source": [
    "%load_ext autoreload\n",
    "%autoreload 2"
   ]
  },
  {
   "cell_type": "code",
   "execution_count": 27,
   "metadata": {},
   "outputs": [],
   "source": [
    "from summit.utils.models import GPyModel, ModelGroup\n",
    "from summit.benchmarks import DTLZ2\n",
    "from summit.strategies import TSEMO\n",
    "import GPy\n",
    "import pandas as pd\n",
    "import numpy as np\n",
    "import matplotlib.pyplot as plt"
   ]
  },
  {
   "cell_type": "markdown",
   "metadata": {},
   "source": [
    "## What are the model hyperparameters with the current scaling?"
   ]
  },
  {
   "cell_type": "code",
   "execution_count": 35,
   "metadata": {},
   "outputs": [],
   "source": [
    "tsemo = TSEMO.load('data/new_tsemo_params_0.json')"
   ]
  },
  {
   "cell_type": "code",
   "execution_count": 192,
   "metadata": {},
   "outputs": [
    {
     "data": {
      "text/html": [
       "<div>\n",
       "<style scoped>\n",
       "    .dataframe tbody tr th:only-of-type {\n",
       "        vertical-align: middle;\n",
       "    }\n",
       "\n",
       "    .dataframe tbody tr th {\n",
       "        vertical-align: top;\n",
       "    }\n",
       "\n",
       "    .dataframe thead th {\n",
       "        text-align: right;\n",
       "    }\n",
       "</style>\n",
       "<table border=\"1\" class=\"dataframe\">\n",
       "  <thead>\n",
       "    <tr style=\"text-align: right;\">\n",
       "      <th></th>\n",
       "      <th>computation_t</th>\n",
       "      <th>experiment_t</th>\n",
       "      <th>strategy</th>\n",
       "      <th>x_0</th>\n",
       "      <th>x_1</th>\n",
       "      <th>x_2</th>\n",
       "      <th>x_3</th>\n",
       "      <th>x_4</th>\n",
       "      <th>x_5</th>\n",
       "      <th>y_0</th>\n",
       "      <th>y_1</th>\n",
       "    </tr>\n",
       "  </thead>\n",
       "  <tbody>\n",
       "    <tr>\n",
       "      <th>0</th>\n",
       "      <td>0.000000</td>\n",
       "      <td>0.003122</td>\n",
       "      <td>LHS</td>\n",
       "      <td>0.983333</td>\n",
       "      <td>0.116667</td>\n",
       "      <td>0.116667</td>\n",
       "      <td>0.916667</td>\n",
       "      <td>0.416667</td>\n",
       "      <td>0.283333</td>\n",
       "      <td>0.039825</td>\n",
       "      <td>1.520868</td>\n",
       "    </tr>\n",
       "    <tr>\n",
       "      <th>1</th>\n",
       "      <td>0.000000</td>\n",
       "      <td>0.002728</td>\n",
       "      <td>LHS</td>\n",
       "      <td>0.350000</td>\n",
       "      <td>0.916667</td>\n",
       "      <td>0.650000</td>\n",
       "      <td>0.850000</td>\n",
       "      <td>0.850000</td>\n",
       "      <td>0.716667</td>\n",
       "      <td>1.268776</td>\n",
       "      <td>0.777507</td>\n",
       "    </tr>\n",
       "    <tr>\n",
       "      <th>2</th>\n",
       "      <td>0.000000</td>\n",
       "      <td>0.002726</td>\n",
       "      <td>LHS</td>\n",
       "      <td>0.483333</td>\n",
       "      <td>0.350000</td>\n",
       "      <td>0.416667</td>\n",
       "      <td>0.150000</td>\n",
       "      <td>0.783333</td>\n",
       "      <td>0.383333</td>\n",
       "      <td>0.903696</td>\n",
       "      <td>0.857575</td>\n",
       "    </tr>\n",
       "    <tr>\n",
       "      <th>3</th>\n",
       "      <td>0.000000</td>\n",
       "      <td>0.002717</td>\n",
       "      <td>LHS</td>\n",
       "      <td>0.016667</td>\n",
       "      <td>0.716667</td>\n",
       "      <td>0.216667</td>\n",
       "      <td>0.283333</td>\n",
       "      <td>0.150000</td>\n",
       "      <td>0.350000</td>\n",
       "      <td>1.318715</td>\n",
       "      <td>0.034532</td>\n",
       "    </tr>\n",
       "    <tr>\n",
       "      <th>4</th>\n",
       "      <td>0.000000</td>\n",
       "      <td>0.002712</td>\n",
       "      <td>LHS</td>\n",
       "      <td>0.283333</td>\n",
       "      <td>0.516667</td>\n",
       "      <td>0.083333</td>\n",
       "      <td>0.383333</td>\n",
       "      <td>0.216667</td>\n",
       "      <td>0.883333</td>\n",
       "      <td>1.276907</td>\n",
       "      <td>0.609054</td>\n",
       "    </tr>\n",
       "    <tr>\n",
       "      <th>...</th>\n",
       "      <td>...</td>\n",
       "      <td>...</td>\n",
       "      <td>...</td>\n",
       "      <td>...</td>\n",
       "      <td>...</td>\n",
       "      <td>...</td>\n",
       "      <td>...</td>\n",
       "      <td>...</td>\n",
       "      <td>...</td>\n",
       "      <td>...</td>\n",
       "      <td>...</td>\n",
       "    </tr>\n",
       "    <tr>\n",
       "      <th>124</th>\n",
       "      <td>111.363135</td>\n",
       "      <td>0.003047</td>\n",
       "      <td>TSEMO</td>\n",
       "      <td>0.001761</td>\n",
       "      <td>0.280111</td>\n",
       "      <td>0.371905</td>\n",
       "      <td>0.677321</td>\n",
       "      <td>0.019559</td>\n",
       "      <td>0.607584</td>\n",
       "      <td>1.338595</td>\n",
       "      <td>0.003702</td>\n",
       "    </tr>\n",
       "    <tr>\n",
       "      <th>125</th>\n",
       "      <td>111.558325</td>\n",
       "      <td>0.002916</td>\n",
       "      <td>TSEMO</td>\n",
       "      <td>0.524447</td>\n",
       "      <td>0.075475</td>\n",
       "      <td>0.518872</td>\n",
       "      <td>0.900647</td>\n",
       "      <td>0.028824</td>\n",
       "      <td>0.731627</td>\n",
       "      <td>1.098484</td>\n",
       "      <td>1.186265</td>\n",
       "    </tr>\n",
       "    <tr>\n",
       "      <th>126</th>\n",
       "      <td>111.378231</td>\n",
       "      <td>0.002873</td>\n",
       "      <td>TSEMO</td>\n",
       "      <td>0.056890</td>\n",
       "      <td>0.274022</td>\n",
       "      <td>0.326402</td>\n",
       "      <td>0.546352</td>\n",
       "      <td>0.708718</td>\n",
       "      <td>0.597907</td>\n",
       "      <td>1.131965</td>\n",
       "      <td>0.101425</td>\n",
       "    </tr>\n",
       "    <tr>\n",
       "      <th>127</th>\n",
       "      <td>113.206053</td>\n",
       "      <td>0.003059</td>\n",
       "      <td>TSEMO</td>\n",
       "      <td>0.445388</td>\n",
       "      <td>0.540284</td>\n",
       "      <td>0.266359</td>\n",
       "      <td>0.553372</td>\n",
       "      <td>0.944824</td>\n",
       "      <td>0.901513</td>\n",
       "      <td>1.085007</td>\n",
       "      <td>0.913173</td>\n",
       "    </tr>\n",
       "    <tr>\n",
       "      <th>128</th>\n",
       "      <td>113.031211</td>\n",
       "      <td>0.003093</td>\n",
       "      <td>TSEMO</td>\n",
       "      <td>0.820074</td>\n",
       "      <td>0.102516</td>\n",
       "      <td>0.757390</td>\n",
       "      <td>0.379373</td>\n",
       "      <td>0.947384</td>\n",
       "      <td>0.673036</td>\n",
       "      <td>0.409643</td>\n",
       "      <td>1.410612</td>\n",
       "    </tr>\n",
       "  </tbody>\n",
       "</table>\n",
       "<p>129 rows × 11 columns</p>\n",
       "</div>"
      ],
      "text/plain": [
       "NAME computation_t experiment_t strategy       x_0       x_1       x_2  \\\n",
       "TYPE      METADATA     METADATA METADATA      DATA      DATA      DATA   \n",
       "0         0.000000     0.003122      LHS  0.983333  0.116667  0.116667   \n",
       "1         0.000000     0.002728      LHS  0.350000  0.916667  0.650000   \n",
       "2         0.000000     0.002726      LHS  0.483333  0.350000  0.416667   \n",
       "3         0.000000     0.002717      LHS  0.016667  0.716667  0.216667   \n",
       "4         0.000000     0.002712      LHS  0.283333  0.516667  0.083333   \n",
       "..             ...          ...      ...       ...       ...       ...   \n",
       "124     111.363135     0.003047    TSEMO  0.001761  0.280111  0.371905   \n",
       "125     111.558325     0.002916    TSEMO  0.524447  0.075475  0.518872   \n",
       "126     111.378231     0.002873    TSEMO  0.056890  0.274022  0.326402   \n",
       "127     113.206053     0.003059    TSEMO  0.445388  0.540284  0.266359   \n",
       "128     113.031211     0.003093    TSEMO  0.820074  0.102516  0.757390   \n",
       "\n",
       "NAME       x_3       x_4       x_5       y_0       y_1  \n",
       "TYPE      DATA      DATA      DATA      DATA      DATA  \n",
       "0     0.916667  0.416667  0.283333  0.039825  1.520868  \n",
       "1     0.850000  0.850000  0.716667  1.268776  0.777507  \n",
       "2     0.150000  0.783333  0.383333  0.903696  0.857575  \n",
       "3     0.283333  0.150000  0.350000  1.318715  0.034532  \n",
       "4     0.383333  0.216667  0.883333  1.276907  0.609054  \n",
       "..         ...       ...       ...       ...       ...  \n",
       "124   0.677321  0.019559  0.607584  1.338595  0.003702  \n",
       "125   0.900647  0.028824  0.731627  1.098484  1.186265  \n",
       "126   0.546352  0.708718  0.597907  1.131965  0.101425  \n",
       "127   0.553372  0.944824  0.901513  1.085007  0.913173  \n",
       "128   0.379373  0.947384  0.673036  0.409643  1.410612  \n",
       "\n",
       "[129 rows x 11 columns]"
      ]
     },
     "execution_count": 192,
     "metadata": {},
     "output_type": "execute_result"
    }
   ],
   "source": [
    "tsemo.all_experiments"
   ]
  },
  {
   "cell_type": "code",
   "execution_count": 193,
   "metadata": {},
   "outputs": [
    {
     "name": "stdout",
     "output_type": "stream",
     "text": [
      "y_0 lenghtscales:\n"
     ]
    },
    {
     "data": {
      "text/plain": [
       "array([12.27444488, 60.23541391, 40.95117799, 57.06712795, 61.05745584,\n",
       "       53.89057719])"
      ]
     },
     "execution_count": 193,
     "metadata": {},
     "output_type": "execute_result"
    }
   ],
   "source": [
    "model = tsemo.models['y_0']\n",
    "lengthscales_y0 = model.hyperparameters[0]\n",
    "mean = model.input_mean\n",
    "std = model.input_std\n",
    "lengthscales_y0 = lengthscales_y0*std+mean\n",
    "print(\"y_0 lenghtscales:\")\n",
    "lengthscales_y0"
   ]
  },
  {
   "cell_type": "code",
   "execution_count": 194,
   "metadata": {},
   "outputs": [
    {
     "name": "stdout",
     "output_type": "stream",
     "text": [
      "y_1 lenghtscales\n"
     ]
    },
    {
     "data": {
      "text/plain": [
       "array([  9.67504564, 207.45117225,  41.68075642,  45.95922059,\n",
       "        37.94677726,  32.97547317])"
      ]
     },
     "execution_count": 194,
     "metadata": {},
     "output_type": "execute_result"
    }
   ],
   "source": [
    "model = tsemo.models['y_1']\n",
    "lengthscales_y1 = model.hyperparameters[0]\n",
    "mean = model.input_mean\n",
    "std = model.input_std\n",
    "lengthscales_y1 = lengthscales_y1*std+mean\n",
    "print(\"y_1 lenghtscales\")\n",
    "lengthscales_y1"
   ]
  },
  {
   "cell_type": "markdown",
   "metadata": {},
   "source": [
    "It's hard to compare this to the Matlab version because I realized the Matlab version scales the inputs between 0 and 1 and the outputs to zero mean and unit variance."
   ]
  },
  {
   "cell_type": "code",
   "execution_count": 199,
   "metadata": {},
   "outputs": [
    {
     "data": {
      "text/plain": [
       "11.973012200124913"
      ]
     },
     "execution_count": 199,
     "metadata": {},
     "output_type": "execute_result"
    }
   ],
   "source": [
    "tsemo.models['y_0']._model.log_likelihood()"
   ]
  },
  {
   "cell_type": "markdown",
   "metadata": {},
   "source": [
    "## Different Scaling"
   ]
  },
  {
   "cell_type": "code",
   "execution_count": 200,
   "metadata": {},
   "outputs": [],
   "source": [
    "data = tsemo.all_experiments.copy()\n",
    "input_columns = [v.name for v in tsemo.domain.input_variables]\n",
    "output_columns = ['y_0', 'y_1']"
   ]
  },
  {
   "cell_type": "code",
   "execution_count": 201,
   "metadata": {},
   "outputs": [
    {
     "data": {
      "text/html": [
       "<div>\n",
       "<style scoped>\n",
       "    .dataframe tbody tr th:only-of-type {\n",
       "        vertical-align: middle;\n",
       "    }\n",
       "\n",
       "    .dataframe tbody tr th {\n",
       "        vertical-align: top;\n",
       "    }\n",
       "\n",
       "    .dataframe thead th {\n",
       "        text-align: right;\n",
       "    }\n",
       "</style>\n",
       "<table border=\"1\" class=\"dataframe\">\n",
       "  <thead>\n",
       "    <tr style=\"text-align: right;\">\n",
       "      <th></th>\n",
       "      <th>x_0</th>\n",
       "      <th>x_1</th>\n",
       "      <th>x_2</th>\n",
       "      <th>x_3</th>\n",
       "      <th>x_4</th>\n",
       "      <th>x_5</th>\n",
       "      <th>y_0</th>\n",
       "      <th>y_1</th>\n",
       "    </tr>\n",
       "  </thead>\n",
       "  <tbody>\n",
       "    <tr>\n",
       "      <th>0</th>\n",
       "      <td>0.984074</td>\n",
       "      <td>0.109904</td>\n",
       "      <td>0.115399</td>\n",
       "      <td>0.932195</td>\n",
       "      <td>0.413793</td>\n",
       "      <td>0.284762</td>\n",
       "      <td>-1.823522</td>\n",
       "      <td>1.494427</td>\n",
       "    </tr>\n",
       "    <tr>\n",
       "      <th>1</th>\n",
       "      <td>0.349846</td>\n",
       "      <td>0.930989</td>\n",
       "      <td>0.652220</td>\n",
       "      <td>0.864390</td>\n",
       "      <td>0.862069</td>\n",
       "      <td>0.726118</td>\n",
       "      <td>0.777429</td>\n",
       "      <td>-0.146041</td>\n",
       "    </tr>\n",
       "    <tr>\n",
       "      <th>2</th>\n",
       "      <td>0.483368</td>\n",
       "      <td>0.349387</td>\n",
       "      <td>0.417361</td>\n",
       "      <td>0.152440</td>\n",
       "      <td>0.793103</td>\n",
       "      <td>0.386614</td>\n",
       "      <td>0.004773</td>\n",
       "      <td>0.030655</td>\n",
       "    </tr>\n",
       "    <tr>\n",
       "      <th>3</th>\n",
       "      <td>0.016043</td>\n",
       "      <td>0.725718</td>\n",
       "      <td>0.216053</td>\n",
       "      <td>0.288049</td>\n",
       "      <td>0.137931</td>\n",
       "      <td>0.352663</td>\n",
       "      <td>0.883119</td>\n",
       "      <td>-1.785659</td>\n",
       "    </tr>\n",
       "    <tr>\n",
       "      <th>4</th>\n",
       "      <td>0.283086</td>\n",
       "      <td>0.520447</td>\n",
       "      <td>0.081847</td>\n",
       "      <td>0.389757</td>\n",
       "      <td>0.206897</td>\n",
       "      <td>0.895870</td>\n",
       "      <td>0.794638</td>\n",
       "      <td>-0.517789</td>\n",
       "    </tr>\n",
       "    <tr>\n",
       "      <th>...</th>\n",
       "      <td>...</td>\n",
       "      <td>...</td>\n",
       "      <td>...</td>\n",
       "      <td>...</td>\n",
       "      <td>...</td>\n",
       "      <td>...</td>\n",
       "      <td>...</td>\n",
       "      <td>...</td>\n",
       "    </tr>\n",
       "    <tr>\n",
       "      <th>124</th>\n",
       "      <td>0.001115</td>\n",
       "      <td>0.277655</td>\n",
       "      <td>0.372306</td>\n",
       "      <td>0.688764</td>\n",
       "      <td>0.002992</td>\n",
       "      <td>0.615015</td>\n",
       "      <td>0.925194</td>\n",
       "      <td>-1.853695</td>\n",
       "    </tr>\n",
       "    <tr>\n",
       "      <th>125</th>\n",
       "      <td>0.524540</td>\n",
       "      <td>0.067626</td>\n",
       "      <td>0.520234</td>\n",
       "      <td>0.915902</td>\n",
       "      <td>0.012577</td>\n",
       "      <td>0.741355</td>\n",
       "      <td>0.417023</td>\n",
       "      <td>0.756016</td>\n",
       "    </tr>\n",
       "    <tr>\n",
       "      <th>126</th>\n",
       "      <td>0.056322</td>\n",
       "      <td>0.271406</td>\n",
       "      <td>0.326506</td>\n",
       "      <td>0.555558</td>\n",
       "      <td>0.715915</td>\n",
       "      <td>0.605159</td>\n",
       "      <td>0.487882</td>\n",
       "      <td>-1.638037</td>\n",
       "    </tr>\n",
       "    <tr>\n",
       "      <th>127</th>\n",
       "      <td>0.445369</td>\n",
       "      <td>0.544687</td>\n",
       "      <td>0.266070</td>\n",
       "      <td>0.562698</td>\n",
       "      <td>0.960163</td>\n",
       "      <td>0.914386</td>\n",
       "      <td>0.388500</td>\n",
       "      <td>0.153349</td>\n",
       "    </tr>\n",
       "    <tr>\n",
       "      <th>128</th>\n",
       "      <td>0.820584</td>\n",
       "      <td>0.095380</td>\n",
       "      <td>0.760313</td>\n",
       "      <td>0.385728</td>\n",
       "      <td>0.962811</td>\n",
       "      <td>0.681679</td>\n",
       "      <td>-1.040839</td>\n",
       "      <td>1.251111</td>\n",
       "    </tr>\n",
       "  </tbody>\n",
       "</table>\n",
       "<p>129 rows × 8 columns</p>\n",
       "</div>"
      ],
      "text/plain": [
       "NAME       x_0       x_1       x_2       x_3       x_4       x_5       y_0  \\\n",
       "TYPE      DATA      DATA      DATA      DATA      DATA      DATA      DATA   \n",
       "0     0.984074  0.109904  0.115399  0.932195  0.413793  0.284762 -1.823522   \n",
       "1     0.349846  0.930989  0.652220  0.864390  0.862069  0.726118  0.777429   \n",
       "2     0.483368  0.349387  0.417361  0.152440  0.793103  0.386614  0.004773   \n",
       "3     0.016043  0.725718  0.216053  0.288049  0.137931  0.352663  0.883119   \n",
       "4     0.283086  0.520447  0.081847  0.389757  0.206897  0.895870  0.794638   \n",
       "..         ...       ...       ...       ...       ...       ...       ...   \n",
       "124   0.001115  0.277655  0.372306  0.688764  0.002992  0.615015  0.925194   \n",
       "125   0.524540  0.067626  0.520234  0.915902  0.012577  0.741355  0.417023   \n",
       "126   0.056322  0.271406  0.326506  0.555558  0.715915  0.605159  0.487882   \n",
       "127   0.445369  0.544687  0.266070  0.562698  0.960163  0.914386  0.388500   \n",
       "128   0.820584  0.095380  0.760313  0.385728  0.962811  0.681679 -1.040839   \n",
       "\n",
       "NAME       y_1  \n",
       "TYPE      DATA  \n",
       "0     1.494427  \n",
       "1    -0.146041  \n",
       "2     0.030655  \n",
       "3    -1.785659  \n",
       "4    -0.517789  \n",
       "..         ...  \n",
       "124  -1.853695  \n",
       "125   0.756016  \n",
       "126  -1.638037  \n",
       "127   0.153349  \n",
       "128   1.251111  \n",
       "\n",
       "[129 rows x 8 columns]"
      ]
     },
     "execution_count": 201,
     "metadata": {},
     "output_type": "execute_result"
    }
   ],
   "source": [
    "# Scale decision variables between 0 and 1\n",
    "inputs = data[input_columns]\n",
    "input_min = inputs.min()\n",
    "input_max = inputs.max()\n",
    "scaled_inputs = (inputs-input_min)/(input_max-input_min)\n",
    "\n",
    "# Scale objectives to 0 mean and unit variance\n",
    "outputs = data[output_columns]\n",
    "output_mean = outputs.mean()\n",
    "output_std = outputs.std()\n",
    "scaled_outputs = (outputs-output_mean)/output_std\n",
    "\n",
    "# Join back\n",
    "scaled_data = pd.concat([scaled_input, scaled_output], axis=1)\n",
    "scaled_data"
   ]
  },
  {
   "cell_type": "code",
   "execution_count": 204,
   "metadata": {},
   "outputs": [],
   "source": [
    "kern = GPy.kern.Exponential(input_dim=6,ARD=True)\n",
    "y0 =  scaled_outputs['y_0'].to_numpy()\n",
    "y0 = np.atleast_2d(y0).T\n",
    "model_y0 = GPy.models.GPRegression(\n",
    "            scaled_inputs.to_numpy(),y0, kern, noise_var=1e-3\n",
    "        )"
   ]
  },
  {
   "cell_type": "code",
   "execution_count": 205,
   "metadata": {},
   "outputs": [],
   "source": [
    "_ = model_y0.optimize_restarts(num_restarts=100, \n",
    "                        verbose=False,\n",
    "                        max_iters=10000,\n",
    "                        parallel=True)"
   ]
  },
  {
   "cell_type": "code",
   "execution_count": 207,
   "metadata": {},
   "outputs": [
    {
     "data": {
      "text/plain": [
       "NAME  TYPE\n",
       "x_0   DATA    11.790879\n",
       "x_1   DATA    59.722268\n",
       "x_2   DATA    40.502966\n",
       "x_3   DATA    56.587710\n",
       "x_4   DATA    60.570374\n",
       "x_5   DATA    53.375054\n",
       "dtype: float64"
      ]
     },
     "execution_count": 207,
     "metadata": {},
     "output_type": "execute_result"
    }
   ],
   "source": [
    "lengthscale = model_y0.kern.lengthscale.values\n",
    "lengthscale = lengthscale*(input_max-input_min)+input_min\n",
    "lengthscale"
   ]
  },
  {
   "cell_type": "code",
   "execution_count": 208,
   "metadata": {},
   "outputs": [
    {
     "data": {
      "text/plain": [
       "12.47496020034471"
      ]
     },
     "execution_count": 208,
     "metadata": {},
     "output_type": "execute_result"
    }
   ],
   "source": [
    "model_y0.log_likelihood()"
   ]
  },
  {
   "cell_type": "code",
   "execution_count": 212,
   "metadata": {},
   "outputs": [
    {
     "data": {
      "text/plain": [
       "TYPE\n",
       "DATA    1.919842\n",
       "dtype: float64"
      ]
     },
     "execution_count": 212,
     "metadata": {},
     "output_type": "execute_result"
    }
   ],
   "source": [
    "model_y0.kern.variance.values*output_std['y_0']"
   ]
  },
  {
   "cell_type": "code",
   "execution_count": 209,
   "metadata": {},
   "outputs": [
    {
     "data": {
      "text/plain": [
       "array([1.16853061e-29])"
      ]
     },
     "execution_count": 209,
     "metadata": {},
     "output_type": "execute_result"
    }
   ],
   "source": [
    "model_y0.Gaussian_noise.variance.values"
   ]
  },
  {
   "cell_type": "markdown",
   "metadata": {},
   "source": [
    "These are quite different from the Matlab hyperparameters which are:\n",
    "\n",
    " Example Final hyperparameter values: \n",
    " \n",
    " Hyperparameter | y0 | y1\n",
    " ---- | ---- | ----\n",
    " lambda1 | 5.1223 | 4.5762\n",
    " lambda2 | 16.9314 | 13.4619\n",
    " lambda3 | 19.4787 | 13.6769\n",
    " lambda4 | 13.6067 | 31.6228\n",
    " lambda5 | 20.3284 | 11.1775\n",
    " lambda6 | 13.5731 | 15.9444\n",
    "  sigmaf | 0.5590  | 0.5159\n",
    "  sigman |0.0012   |0.0012"
   ]
  },
  {
   "cell_type": "markdown",
   "metadata": {},
   "source": [
    "## Try training on Matlab Data"
   ]
  },
  {
   "cell_type": "code",
   "execution_count": 31,
   "metadata": {},
   "outputs": [],
   "source": [
    "# Read in data from one Matlab experiment\n",
    "X = pd.read_csv('data/matlab/experiment_20/X.csv', names=[f\"x_{i}\" for i in range(6)])\n",
    "y = pd.read_csv('data/matlab/experiment_20/Y.csv', names=['y_0', 'y_1'])"
   ]
  },
  {
   "cell_type": "code",
   "execution_count": 32,
   "metadata": {},
   "outputs": [
    {
     "data": {
      "text/plain": [
       "y_0    6.192200e-17\n",
       "y_1    0.000000e+00\n",
       "dtype: float64"
      ]
     },
     "execution_count": 32,
     "metadata": {},
     "output_type": "execute_result"
    }
   ],
   "source": [
    "y.min()"
   ]
  },
  {
   "cell_type": "code",
   "execution_count": 33,
   "metadata": {},
   "outputs": [
    {
     "data": {
      "text/plain": [
       "<matplotlib.collections.PathCollection at 0x12ff1d320>"
      ]
     },
     "execution_count": 33,
     "metadata": {},
     "output_type": "execute_result"
    },
    {
     "data": {
      "image/png": "[encoded data removed]",
      "text/plain": [
       "<Figure size 432x288 with 1 Axes>"
      ]
     },
     "metadata": {
      "needs_background": "light"
     },
     "output_type": "display_data"
    }
   ],
   "source": [
    "plt.scatter(y['y_0'], y['y_1'])"
   ]
  },
  {
   "cell_type": "code",
   "execution_count": 34,
   "metadata": {},
   "outputs": [],
   "source": [
    "# Scale decision variables between 0 and 1\n",
    "X_min = X.min()\n",
    "X_max = X.max()\n",
    "X_scaled = (X-X_min)/(X_max-X_min)\n",
    "\n",
    "# Scale objectives to 0 mean and unit variance\n",
    "y_mean = y.mean()\n",
    "y_std = y.std()\n",
    "y_scaled = (y-y_mean)/y_std"
   ]
  },
  {
   "cell_type": "code",
   "execution_count": 43,
   "metadata": {},
   "outputs": [
    {
     "data": {
      "text/html": [
       "<style type=\"text/css\">\n",
       ".pd{\n",
       "    font-family: \"Courier New\", Courier, monospace !important;\n",
       "    width: 100%;\n",
       "    padding: 3px;\n",
       "}\n",
       "</style>\n",
       "\n",
       "<p class=pd>\n",
       "<b>Model</b>: GP regression<br>\n",
       "<b>Objective</b>: 149.4129591187684<br>\n",
       "<b>Number of Parameters</b>: 8<br>\n",
       "<b>Number of Optimization Parameters</b>: 8<br>\n",
       "<b>Updates</b>: True<br>\n",
       "</p>\n",
       "<style type=\"text/css\">\n",
       ".tg  {font-family:\"Courier New\", Courier, monospace !important;padding:2px 3px;word-break:normal;border-collapse:collapse;border-spacing:0;border-color:#DCDCDC;margin:0px auto;width:100%;}\n",
       ".tg td{font-family:\"Courier New\", Courier, monospace !important;font-weight:bold;color:#444;background-color:#F7FDFA;border-style:solid;border-width:1px;overflow:hidden;word-break:normal;border-color:#DCDCDC;}\n",
       ".tg th{font-family:\"Courier New\", Courier, monospace !important;font-weight:normal;color:#fff;background-color:#26ADE4;border-style:solid;border-width:1px;overflow:hidden;word-break:normal;border-color:#DCDCDC;}\n",
       ".tg .tg-left{font-family:\"Courier New\", Courier, monospace !important;font-weight:normal;text-align:left;}\n",
       ".tg .tg-center{font-family:\"Courier New\", Courier, monospace !important;font-weight:normal;text-align:center;}\n",
       ".tg .tg-right{font-family:\"Courier New\", Courier, monospace !important;font-weight:normal;text-align:right;}\n",
       "</style>\n",
       "<table class=\"tg\"><tr><th><b>  GP_regression.         </b></th><th><b>             value</b></th><th><b>       constraints       </b></th><th><b>  priors   </b></th></tr>\n",
       "<tr><td class=tg-left>  Exponential.variance   </td><td class=tg-right>               1.0</td><td class=tg-center>           +ve           </td><td class=tg-center>lnN(-6, 10)</td></tr>\n",
       "<tr><td class=tg-left>  Exponential.lengthscale</td><td class=tg-right>              (6,)</td><td class=tg-center>           +ve           </td><td class=tg-center>lnN(0, 10) </td></tr>\n",
       "<tr><td class=tg-left>  Gaussian_noise.variance</td><td class=tg-right>0.5012393760883331</td><td class=tg-center>0.0024787521766663585,1.0</td><td class=tg-center>           </td></tr>\n",
       "</table>"
      ],
      "text/plain": [
       "<GPy.models.gp_regression.GPRegression at 0x132ec8438>"
      ]
     },
     "execution_count": 43,
     "metadata": {},
     "output_type": "execute_result"
    }
   ],
   "source": [
    "kern = GPy.kern.Exponential(input_dim=6,ARD=True)\n",
    "kern.lengthscale.set_prior(GPy.priors.LogGaussian(0, 10), warning=False)\n",
    "kern.variance.set_prior(GPy.priors.LogGaussian(-6, 10), warning=False)\n",
    "\n",
    "y0_matlab =  y_scaled['y_0'].to_numpy()\n",
    "y0_matlab = np.atleast_2d(y0_matlab).T\n",
    "model_y0 = GPy.models.GPRegression(\n",
    "            X_scaled,y0_matlab, kern, noise_var=1e-3\n",
    "        )\n",
    "model_y0.Gaussian_noise.constrain_bounded(np.exp(-6), 1, warning=False)\n",
    "model_y0"
   ]
  },
  {
   "cell_type": "code",
   "execution_count": 46,
   "metadata": {},
   "outputs": [
    {
     "name": "stderr",
     "output_type": "stream",
     "text": [
      " /Users/Kobi/Library/Caches/pypoetry/virtualenvs/summit-TfmmV07p-py3.7/lib/python3.7/site-packages/GPy/core/parameterization/priorizable.py:81: RuntimeWarning:overflow encountered in double_scalars\n",
      " /Users/Kobi/Library/Caches/pypoetry/virtualenvs/summit-TfmmV07p-py3.7/lib/python3.7/site-packages/GPy/core/parameterization/priorizable.py:81: RuntimeWarning:overflow encountered in double_scalars\n"
     ]
    },
    {
     "data": {
      "text/html": [
       "<style type=\"text/css\">\n",
       ".pd{\n",
       "    font-family: \"Courier New\", Courier, monospace !important;\n",
       "    width: 100%;\n",
       "    padding: 3px;\n",
       "}\n",
       "</style>\n",
       "\n",
       "<p class=pd>\n",
       "<b>Model</b>: GP regression<br>\n",
       "<b>Objective</b>: 2.0998509157623673<br>\n",
       "<b>Number of Parameters</b>: 8<br>\n",
       "<b>Number of Optimization Parameters</b>: 8<br>\n",
       "<b>Updates</b>: True<br>\n",
       "</p>\n",
       "<style type=\"text/css\">\n",
       ".tg  {font-family:\"Courier New\", Courier, monospace !important;padding:2px 3px;word-break:normal;border-collapse:collapse;border-spacing:0;border-color:#DCDCDC;margin:0px auto;width:100%;}\n",
       ".tg td{font-family:\"Courier New\", Courier, monospace !important;font-weight:bold;color:#444;background-color:#F7FDFA;border-style:solid;border-width:1px;overflow:hidden;word-break:normal;border-color:#DCDCDC;}\n",
       ".tg th{font-family:\"Courier New\", Courier, monospace !important;font-weight:normal;color:#fff;background-color:#26ADE4;border-style:solid;border-width:1px;overflow:hidden;word-break:normal;border-color:#DCDCDC;}\n",
       ".tg .tg-left{font-family:\"Courier New\", Courier, monospace !important;font-weight:normal;text-align:left;}\n",
       ".tg .tg-center{font-family:\"Courier New\", Courier, monospace !important;font-weight:normal;text-align:center;}\n",
       ".tg .tg-right{font-family:\"Courier New\", Courier, monospace !important;font-weight:normal;text-align:right;}\n",
       "</style>\n",
       "<table class=\"tg\"><tr><th><b>  GP_regression.         </b></th><th><b>                value</b></th><th><b>       constraints       </b></th><th><b>  priors   </b></th></tr>\n",
       "<tr><td class=tg-left>  Exponential.variance   </td><td class=tg-right>   0.5236297970519979</td><td class=tg-center>           +ve           </td><td class=tg-center>lnN(-6, 10)</td></tr>\n",
       "<tr><td class=tg-left>  Exponential.lengthscale</td><td class=tg-right>                 (6,)</td><td class=tg-center>           +ve           </td><td class=tg-center>lnN(0, 10) </td></tr>\n",
       "<tr><td class=tg-left>  Gaussian_noise.variance</td><td class=tg-right>0.0024787521766663585</td><td class=tg-center>0.0024787521766663585,1.0</td><td class=tg-center>           </td></tr>\n",
       "</table>"
      ],
      "text/plain": [
       "<GPy.models.gp_regression.GPRegression at 0x132ec8438>"
      ]
     },
     "execution_count": 46,
     "metadata": {},
     "output_type": "execute_result"
    }
   ],
   "source": [
    "_ = model_y0.optimize_restarts(num_restarts=200, \n",
    "                        verbose=False,\n",
    "                        max_iters=10000,\n",
    "                        parallel=True)\n",
    "model_y0"
   ]
  },
  {
   "cell_type": "code",
   "execution_count": 47,
   "metadata": {},
   "outputs": [
    {
     "data": {
      "text/plain": [
       "x_0    1.739766\n",
       "x_1    5.881942\n",
       "x_2    6.929602\n",
       "x_3    4.679347\n",
       "x_4    7.303400\n",
       "x_5    4.627237\n",
       "dtype: float64"
      ]
     },
     "execution_count": 47,
     "metadata": {},
     "output_type": "execute_result"
    }
   ],
   "source": [
    "lengthscale = model_y0.kern.lengthscale.values\n",
    "lengthscale = lengthscale*(X_max-X_min)+X_min\n",
    "lengthscale"
   ]
  },
  {
   "cell_type": "code",
   "execution_count": 48,
   "metadata": {},
   "outputs": [
    {
     "data": {
      "text/plain": [
       "0.0011966022011843558"
      ]
     },
     "execution_count": 48,
     "metadata": {},
     "output_type": "execute_result"
    }
   ],
   "source": [
    "model_y0.Gaussian_noise.variance.values[0]*y_std['y_0']"
   ]
  },
  {
   "cell_type": "markdown",
   "metadata": {},
   "source": [
    "So it seems the problem is with the priors on the hyperparameters. By using a strong prior on the hyperameters (a [Gamma distribution](https://en.wikipedia.org/wiki/Gamma_distribution#Scaling)), we end up with much better results."
   ]
  },
  {
   "cell_type": "markdown",
   "metadata": {},
   "source": [
    "## Retrain with priors"
   ]
  },
  {
   "cell_type": "code",
   "execution_count": 213,
   "metadata": {},
   "outputs": [],
   "source": [
    "tsemo = TSEMO.load('data/new_tsemo_params_0.json')\n",
    "data = tsemo.all_experiments.copy()\n",
    "input_columns = [v.name for v in tsemo.domain.input_variables]\n",
    "output_columns = ['y_0', 'y_1']"
   ]
  },
  {
   "cell_type": "code",
   "execution_count": 214,
   "metadata": {},
   "outputs": [
    {
     "data": {
      "text/html": [
       "<div>\n",
       "<style scoped>\n",
       "    .dataframe tbody tr th:only-of-type {\n",
       "        vertical-align: middle;\n",
       "    }\n",
       "\n",
       "    .dataframe tbody tr th {\n",
       "        vertical-align: top;\n",
       "    }\n",
       "\n",
       "    .dataframe thead th {\n",
       "        text-align: right;\n",
       "    }\n",
       "</style>\n",
       "<table border=\"1\" class=\"dataframe\">\n",
       "  <thead>\n",
       "    <tr style=\"text-align: right;\">\n",
       "      <th></th>\n",
       "      <th>x_0</th>\n",
       "      <th>x_1</th>\n",
       "      <th>x_2</th>\n",
       "      <th>x_3</th>\n",
       "      <th>x_4</th>\n",
       "      <th>x_5</th>\n",
       "      <th>y_0</th>\n",
       "      <th>y_1</th>\n",
       "    </tr>\n",
       "  </thead>\n",
       "  <tbody>\n",
       "    <tr>\n",
       "      <th>0</th>\n",
       "      <td>0.984074</td>\n",
       "      <td>0.109904</td>\n",
       "      <td>0.115399</td>\n",
       "      <td>0.932195</td>\n",
       "      <td>0.413793</td>\n",
       "      <td>0.284762</td>\n",
       "      <td>-1.823522</td>\n",
       "      <td>1.494427</td>\n",
       "    </tr>\n",
       "    <tr>\n",
       "      <th>1</th>\n",
       "      <td>0.349846</td>\n",
       "      <td>0.930989</td>\n",
       "      <td>0.652220</td>\n",
       "      <td>0.864390</td>\n",
       "      <td>0.862069</td>\n",
       "      <td>0.726118</td>\n",
       "      <td>0.777429</td>\n",
       "      <td>-0.146041</td>\n",
       "    </tr>\n",
       "    <tr>\n",
       "      <th>2</th>\n",
       "      <td>0.483368</td>\n",
       "      <td>0.349387</td>\n",
       "      <td>0.417361</td>\n",
       "      <td>0.152440</td>\n",
       "      <td>0.793103</td>\n",
       "      <td>0.386614</td>\n",
       "      <td>0.004773</td>\n",
       "      <td>0.030655</td>\n",
       "    </tr>\n",
       "    <tr>\n",
       "      <th>3</th>\n",
       "      <td>0.016043</td>\n",
       "      <td>0.725718</td>\n",
       "      <td>0.216053</td>\n",
       "      <td>0.288049</td>\n",
       "      <td>0.137931</td>\n",
       "      <td>0.352663</td>\n",
       "      <td>0.883119</td>\n",
       "      <td>-1.785659</td>\n",
       "    </tr>\n",
       "    <tr>\n",
       "      <th>4</th>\n",
       "      <td>0.283086</td>\n",
       "      <td>0.520447</td>\n",
       "      <td>0.081847</td>\n",
       "      <td>0.389757</td>\n",
       "      <td>0.206897</td>\n",
       "      <td>0.895870</td>\n",
       "      <td>0.794638</td>\n",
       "      <td>-0.517789</td>\n",
       "    </tr>\n",
       "    <tr>\n",
       "      <th>...</th>\n",
       "      <td>...</td>\n",
       "      <td>...</td>\n",
       "      <td>...</td>\n",
       "      <td>...</td>\n",
       "      <td>...</td>\n",
       "      <td>...</td>\n",
       "      <td>...</td>\n",
       "      <td>...</td>\n",
       "    </tr>\n",
       "    <tr>\n",
       "      <th>124</th>\n",
       "      <td>0.001115</td>\n",
       "      <td>0.277655</td>\n",
       "      <td>0.372306</td>\n",
       "      <td>0.688764</td>\n",
       "      <td>0.002992</td>\n",
       "      <td>0.615015</td>\n",
       "      <td>0.925194</td>\n",
       "      <td>-1.853695</td>\n",
       "    </tr>\n",
       "    <tr>\n",
       "      <th>125</th>\n",
       "      <td>0.524540</td>\n",
       "      <td>0.067626</td>\n",
       "      <td>0.520234</td>\n",
       "      <td>0.915902</td>\n",
       "      <td>0.012577</td>\n",
       "      <td>0.741355</td>\n",
       "      <td>0.417023</td>\n",
       "      <td>0.756016</td>\n",
       "    </tr>\n",
       "    <tr>\n",
       "      <th>126</th>\n",
       "      <td>0.056322</td>\n",
       "      <td>0.271406</td>\n",
       "      <td>0.326506</td>\n",
       "      <td>0.555558</td>\n",
       "      <td>0.715915</td>\n",
       "      <td>0.605159</td>\n",
       "      <td>0.487882</td>\n",
       "      <td>-1.638037</td>\n",
       "    </tr>\n",
       "    <tr>\n",
       "      <th>127</th>\n",
       "      <td>0.445369</td>\n",
       "      <td>0.544687</td>\n",
       "      <td>0.266070</td>\n",
       "      <td>0.562698</td>\n",
       "      <td>0.960163</td>\n",
       "      <td>0.914386</td>\n",
       "      <td>0.388500</td>\n",
       "      <td>0.153349</td>\n",
       "    </tr>\n",
       "    <tr>\n",
       "      <th>128</th>\n",
       "      <td>0.820584</td>\n",
       "      <td>0.095380</td>\n",
       "      <td>0.760313</td>\n",
       "      <td>0.385728</td>\n",
       "      <td>0.962811</td>\n",
       "      <td>0.681679</td>\n",
       "      <td>-1.040839</td>\n",
       "      <td>1.251111</td>\n",
       "    </tr>\n",
       "  </tbody>\n",
       "</table>\n",
       "<p>129 rows × 8 columns</p>\n",
       "</div>"
      ],
      "text/plain": [
       "NAME       x_0       x_1       x_2       x_3       x_4       x_5       y_0  \\\n",
       "TYPE      DATA      DATA      DATA      DATA      DATA      DATA      DATA   \n",
       "0     0.984074  0.109904  0.115399  0.932195  0.413793  0.284762 -1.823522   \n",
       "1     0.349846  0.930989  0.652220  0.864390  0.862069  0.726118  0.777429   \n",
       "2     0.483368  0.349387  0.417361  0.152440  0.793103  0.386614  0.004773   \n",
       "3     0.016043  0.725718  0.216053  0.288049  0.137931  0.352663  0.883119   \n",
       "4     0.283086  0.520447  0.081847  0.389757  0.206897  0.895870  0.794638   \n",
       "..         ...       ...       ...       ...       ...       ...       ...   \n",
       "124   0.001115  0.277655  0.372306  0.688764  0.002992  0.615015  0.925194   \n",
       "125   0.524540  0.067626  0.520234  0.915902  0.012577  0.741355  0.417023   \n",
       "126   0.056322  0.271406  0.326506  0.555558  0.715915  0.605159  0.487882   \n",
       "127   0.445369  0.544687  0.266070  0.562698  0.960163  0.914386  0.388500   \n",
       "128   0.820584  0.095380  0.760313  0.385728  0.962811  0.681679 -1.040839   \n",
       "\n",
       "NAME       y_1  \n",
       "TYPE      DATA  \n",
       "0     1.494427  \n",
       "1    -0.146041  \n",
       "2     0.030655  \n",
       "3    -1.785659  \n",
       "4    -0.517789  \n",
       "..         ...  \n",
       "124  -1.853695  \n",
       "125   0.756016  \n",
       "126  -1.638037  \n",
       "127   0.153349  \n",
       "128   1.251111  \n",
       "\n",
       "[129 rows x 8 columns]"
      ]
     },
     "execution_count": 214,
     "metadata": {},
     "output_type": "execute_result"
    }
   ],
   "source": [
    "# Scale decision variables between 0 and 1\n",
    "inputs = data[input_columns]\n",
    "input_min = inputs.min()\n",
    "input_max = inputs.max()\n",
    "scaled_inputs = (inputs-input_min)/(input_max-input_min)\n",
    "\n",
    "# Scale objectives to 0 mean and unit variance\n",
    "outputs = data[output_columns]\n",
    "output_mean = outputs.mean()\n",
    "output_std = outputs.std()\n",
    "scaled_outputs = (outputs-output_mean)/output_std\n",
    "\n",
    "# Join back\n",
    "scaled_data = pd.concat([scaled_input, scaled_output], axis=1)\n",
    "scaled_data"
   ]
  },
  {
   "cell_type": "code",
   "execution_count": 221,
   "metadata": {},
   "outputs": [
    {
     "name": "stderr",
     "output_type": "stream",
     "text": [
      "reconstraining parameters GP_regression.Gaussian_noise.variance\n"
     ]
    }
   ],
   "source": [
    "kern = GPy.kern.Exponential(input_dim=6,ARD=True)\n",
    "y0 =  scaled_outputs['y_0'].to_numpy()\n",
    "y0 = np.atleast_2d(y0).T\n",
    "model_y0 = GPy.models.GPRegression(\n",
    "            scaled_inputs.to_numpy(),y0, kern, noise_var=1e-3\n",
    "        )\n",
    "# model_y0.kern.lengthscale.set_prior(GPy.priors.Gamma(1, 0.1))\n",
    "# model_y0.kern.variance.set_prior(GPy.priors.Gamma(1, 0.1))\n",
    "model_y0.Gaussian_noise.variance.set_prior(GPy.priors.Gamma(0.5,0.1))"
   ]
  },
  {
   "cell_type": "code",
   "execution_count": 222,
   "metadata": {},
   "outputs": [
    {
     "name": "stderr",
     "output_type": "stream",
     "text": [
      " /Users/Kobi/Library/Caches/pypoetry/virtualenvs/summit-TfmmV07p-py3.7/lib/python3.7/site-packages/GPy/kern/src/stationary.py:137: RuntimeWarning:overflow encountered in square\n",
      " /Users/Kobi/Library/Caches/pypoetry/virtualenvs/summit-TfmmV07p-py3.7/lib/python3.7/site-packages/GPy/kern/src/stationary.py:138: RuntimeWarning:invalid value encountered in add\n"
     ]
    }
   ],
   "source": [
    "_ = model_y0.optimize_restarts(num_restarts=100, \n",
    "                        verbose=False,\n",
    "                        max_iters=10000,\n",
    "                        parallel=True)"
   ]
  },
  {
   "cell_type": "code",
   "execution_count": 217,
   "metadata": {},
   "outputs": [
    {
     "data": {
      "text/plain": [
       "NAME  TYPE\n",
       "x_0   DATA    1.823878\n",
       "x_1   DATA    9.266253\n",
       "x_2   DATA    6.418694\n",
       "x_3   DATA    8.931985\n",
       "x_4   DATA    9.008365\n",
       "x_5   DATA    8.582556\n",
       "dtype: float64"
      ]
     },
     "execution_count": 217,
     "metadata": {},
     "output_type": "execute_result"
    }
   ],
   "source": [
    "lengthscale = model_y0.kern.lengthscale.values\n",
    "lengthscale = lengthscale*(input_max-input_min)+input_min\n",
    "lengthscale"
   ]
  },
  {
   "cell_type": "code",
   "execution_count": 218,
   "metadata": {},
   "outputs": [
    {
     "data": {
      "text/plain": [
       "TYPE\n",
       "DATA    0.320016\n",
       "dtype: float64"
      ]
     },
     "execution_count": 218,
     "metadata": {},
     "output_type": "execute_result"
    }
   ],
   "source": [
    "model_y0.kern.variance*output_std['y_0']"
   ]
  },
  {
   "cell_type": "code",
   "execution_count": 219,
   "metadata": {},
   "outputs": [
    {
     "data": {
      "text/plain": [
       "array([0.00068906])"
      ]
     },
     "execution_count": 219,
     "metadata": {},
     "output_type": "execute_result"
    }
   ],
   "source": [
    "model_y0.Gaussian_noise.variance.values"
   ]
  },
  {
   "cell_type": "code",
   "execution_count": 220,
   "metadata": {},
   "outputs": [
    {
     "data": {
      "text/plain": [
       "9.80862267321848"
      ]
     },
     "execution_count": 220,
     "metadata": {},
     "output_type": "execute_result"
    }
   ],
   "source": [
    "model_y0.log_likelihood()"
   ]
  },
  {
   "cell_type": "markdown",
   "metadata": {},
   "source": [
    "## Sklearn"
   ]
  },
  {
   "cell_type": "code",
   "execution_count": 105,
   "metadata": {},
   "outputs": [],
   "source": [
    "from sklearn.gaussian_process import GaussianProcessRegressor, "
   ]
  },
  {
   "cell_type": "code",
   "execution_count": 103,
   "metadata": {},
   "outputs": [],
   "source": [
    "# Read in data from one Matlab experiment\n",
    "X = pd.read_csv('data/matlab/experiment_20/X.csv', names=[f\"x_{i}\" for i in range(6)])\n",
    "y = pd.read_csv('data/matlab/experiment_20/Y.csv', names=['y_0', 'y_1'])"
   ]
  },
  {
   "cell_type": "code",
   "execution_count": 104,
   "metadata": {},
   "outputs": [],
   "source": [
    "# Scale decision variables between 0 and 1\n",
    "X_min = X.min()\n",
    "X_max = X.max()\n",
    "X_scaled = (X-X_min)/(X_max-X_min)\n",
    "\n",
    "# Scale objectives to 0 mean and unit variance\n",
    "y_mean = y.mean()\n",
    "y_std = y.std()\n",
    "y_scaled = (y-y_mean)/y_std"
   ]
  },
  {
   "cell_type": "code",
   "execution_count": null,
   "metadata": {},
   "outputs": [],
   "source": [
    "kern = np.ones(6)*kernels.Matern(length_scale=[10 for i in range(6)], nu=1.5)\n",
    "y0_m =  y_scaled['y_0'].to_numpy()\n",
    "y0_matlab = np.atleast_2d(y0_matlab).T\n",
    "gpr = GaussianProcessRegressor(kernel=kern,random_state=0).fit(X_scaled.to_numpy(), y0_matlab)\n",
    "np.exp(kern.theta)"
   ]
  },
  {
   "cell_type": "markdown",
   "metadata": {},
   "source": [
    "## Platypus NSGA-II Test"
   ]
  },
  {
   "cell_type": "code",
   "execution_count": 23,
   "metadata": {},
   "outputs": [],
   "source": [
    "from scipy.optimize import OptimizeResult\n",
    "import platypus as pp\n",
    "from summit.benchmarks import DTLZ2\n",
    "from summit.utils.dataset import DataSet\n",
    "from summit.utils.multiobjective import pareto_efficient, HvI"
   ]
  },
  {
   "cell_type": "code",
   "execution_count": 15,
   "metadata": {},
   "outputs": [],
   "source": [
    "class NSGAII():\n",
    "    def __init__(self, experiment):\n",
    "        self.experiment = experiment\n",
    "        self.domain = self.experiment.domain\n",
    "\n",
    "        # Set up platypus problem\n",
    "        self.problem = pp.Problem(\n",
    "            nvars=self.domain.num_variables(),\n",
    "            nobjs=len(self.domain.output_variables),\n",
    "            nconstrs=len(self.domain.constraints),\n",
    "        )\n",
    "        # Set maximization or minimization for each objective\n",
    "        j=0\n",
    "        for i, v in enumerate(self.domain.variables):\n",
    "            if v.is_objective:\n",
    "                direction = self.problem.MAXIMIZE if v.maximize else self.problem.MINIMIZE\n",
    "                self.problem.directions[j] = direction\n",
    "                j+=1\n",
    "            elif v.variable_type == \"continuous\":\n",
    "                self.problem.types[i] = pp.Real(v.lower_bound, v.upper_bound)\n",
    "            elif v.variable_type == \"discrete\":\n",
    "                # Select a subset of one of the available options\n",
    "                raise NotImplementedError(\n",
    "                    \"The NSGAII optimizer does not work with discrete variables\"\n",
    "                )\n",
    "                # self.problem.types[i] = pp.Subset(elements=v.levels, size=1)\n",
    "            elif v.variable_type == \"descriptors\":\n",
    "                raise NotImplementedError(\n",
    "                    \"The NSGAII optimizer does not work with descriptors variables\"\n",
    "                )\n",
    "            else:\n",
    "                raise TypeError(f\"{v.variable_type} is not a valid variable type.\")\n",
    "\n",
    "        # Set up constraints\n",
    "        self.problem.constraints[:] = [\n",
    "            c.constraint_type + \"0\" for c in self.domain.constraints\n",
    "        ]\n",
    "\n",
    "    def optimize(self, **kwargs):\n",
    "        input_columns = [v.name for v in self.domain.variables if not v.is_objective]\n",
    "        output_columns = [v.name for v in self.domain.variables if v.is_objective]\n",
    "\n",
    "        def problem_wrapper(X):\n",
    "            X = DataSet(np.atleast_2d(X), columns=input_columns)\n",
    "            X[(\"strategy\", \"METADATA\")] = \"NSGAII\"\n",
    "            result = self.experiment.run_experiments(X)\n",
    "            if self.domain.constraints:\n",
    "                constraint_res = [\n",
    "                    X.eval(c.lhs, resolvers=[X]) for c in self.domain.constraints\n",
    "                ]\n",
    "                constraint_res = [c.tolist()[0] for c in constraint_res]\n",
    "\n",
    "                return result[output_columns].to_numpy()[0,:], constraint_res\n",
    "            else:\n",
    "                return result[output_columns].to_numpy()[0,:]\n",
    "\n",
    "        # Run optimization\n",
    "        self.problem.function = problem_wrapper\n",
    "        algorithm = pp.NSGAII(self.problem, population_size=1000)\n",
    "        iterations = kwargs.get(\"iterations\", 1000)\n",
    "        algorithm.run(iterations)\n",
    "\n",
    "        x = [\n",
    "            [s.variables[i] for i in range(self.domain.num_variables())]\n",
    "            for s in algorithm.result\n",
    "            if s.feasible\n",
    "        ]\n",
    "        x = DataSet(x, columns=input_columns)\n",
    "        y = [\n",
    "            [s.objectives[i] for i in range(len(self.domain.output_variables))]\n",
    "            for s in algorithm.result\n",
    "            if s.feasible\n",
    "        ]\n",
    "        y = DataSet(y, columns=output_columns)\n",
    "        return OptimizeResult(x=x, fun=y, success=True)"
   ]
  },
  {
   "cell_type": "code",
   "execution_count": 16,
   "metadata": {},
   "outputs": [],
   "source": [
    "dtlz2 = DTLZ2()\n",
    "nsgaii = NSGAII(dtlz2)"
   ]
  },
  {
   "cell_type": "code",
   "execution_count": 17,
   "metadata": {},
   "outputs": [],
   "source": [
    "r = nsgaii.optimize()"
   ]
  },
  {
   "cell_type": "code",
   "execution_count": 18,
   "metadata": {},
   "outputs": [
    {
     "data": {
      "text/plain": [
       "(<Figure size 432x288 with 1 Axes>,\n",
       " <matplotlib.axes._subplots.AxesSubplot at 0x1243d7278>)"
      ]
     },
     "execution_count": 18,
     "metadata": {},
     "output_type": "execute_result"
    },
    {
     "data": {
      "image/png": "[encoded data removed]",
      "text/plain": [
       "<Figure size 432x288 with 1 Axes>"
      ]
     },
     "metadata": {
      "needs_background": "light"
     },
     "output_type": "display_data"
    }
   ],
   "source": [
    "dtlz2.pareto_plot()"
   ]
  },
  {
   "cell_type": "markdown",
   "metadata": {},
   "source": [
    "This is really not good. The pareto front is between (1,0) and (0,1) and it clearly does not find it. Furthermore, as shown below, none of the optimal points (x*=0.5) are found."
   ]
  },
  {
   "cell_type": "code",
   "execution_count": 21,
   "metadata": {},
   "outputs": [
    {
     "data": {
      "text/html": [
       "<div>\n",
       "<style scoped>\n",
       "    .dataframe tbody tr th:only-of-type {\n",
       "        vertical-align: middle;\n",
       "    }\n",
       "\n",
       "    .dataframe tbody tr th {\n",
       "        vertical-align: top;\n",
       "    }\n",
       "\n",
       "    .dataframe thead th {\n",
       "        text-align: right;\n",
       "    }\n",
       "</style>\n",
       "<table border=\"1\" class=\"dataframe\">\n",
       "  <thead>\n",
       "    <tr style=\"text-align: right;\">\n",
       "      <th></th>\n",
       "      <th>computation_t</th>\n",
       "      <th>experiment_t</th>\n",
       "      <th>strategy</th>\n",
       "      <th>x_0</th>\n",
       "      <th>x_1</th>\n",
       "      <th>x_2</th>\n",
       "      <th>x_3</th>\n",
       "      <th>x_4</th>\n",
       "      <th>x_5</th>\n",
       "      <th>y_0</th>\n",
       "      <th>y_1</th>\n",
       "    </tr>\n",
       "  </thead>\n",
       "  <tbody>\n",
       "    <tr>\n",
       "      <th>0</th>\n",
       "      <td>0</td>\n",
       "      <td>0.00817013</td>\n",
       "      <td>NSGAII</td>\n",
       "      <td>0.502827</td>\n",
       "      <td>0.531149</td>\n",
       "      <td>0.132505</td>\n",
       "      <td>0.750924</td>\n",
       "      <td>0.153492</td>\n",
       "      <td>0.317094</td>\n",
       "      <td>0.952111</td>\n",
       "      <td>0.960606</td>\n",
       "    </tr>\n",
       "    <tr>\n",
       "      <th>11</th>\n",
       "      <td>0.00430202</td>\n",
       "      <td>0.00404096</td>\n",
       "      <td>NSGAII</td>\n",
       "      <td>0.507255</td>\n",
       "      <td>0.785163</td>\n",
       "      <td>0.902755</td>\n",
       "      <td>0.848710</td>\n",
       "      <td>0.307409</td>\n",
       "      <td>0.587246</td>\n",
       "      <td>0.985476</td>\n",
       "      <td>1.008198</td>\n",
       "    </tr>\n",
       "    <tr>\n",
       "      <th>40</th>\n",
       "      <td>0.00349808</td>\n",
       "      <td>0.00400591</td>\n",
       "      <td>NSGAII</td>\n",
       "      <td>0.498186</td>\n",
       "      <td>0.712510</td>\n",
       "      <td>0.844802</td>\n",
       "      <td>0.532695</td>\n",
       "      <td>0.850232</td>\n",
       "      <td>0.872515</td>\n",
       "      <td>1.011592</td>\n",
       "      <td>1.005843</td>\n",
       "    </tr>\n",
       "    <tr>\n",
       "      <th>80</th>\n",
       "      <td>0.0035007</td>\n",
       "      <td>0.00388527</td>\n",
       "      <td>NSGAII</td>\n",
       "      <td>0.490512</td>\n",
       "      <td>0.780019</td>\n",
       "      <td>0.847606</td>\n",
       "      <td>0.050713</td>\n",
       "      <td>0.205446</td>\n",
       "      <td>0.675281</td>\n",
       "      <td>1.089685</td>\n",
       "      <td>1.057679</td>\n",
       "    </tr>\n",
       "    <tr>\n",
       "      <th>132</th>\n",
       "      <td>0.00354791</td>\n",
       "      <td>0.00395608</td>\n",
       "      <td>NSGAII</td>\n",
       "      <td>0.494854</td>\n",
       "      <td>0.679649</td>\n",
       "      <td>0.401917</td>\n",
       "      <td>0.237922</td>\n",
       "      <td>0.160769</td>\n",
       "      <td>0.378278</td>\n",
       "      <td>0.884208</td>\n",
       "      <td>0.870028</td>\n",
       "    </tr>\n",
       "    <tr>\n",
       "      <th>147</th>\n",
       "      <td>0.00366306</td>\n",
       "      <td>0.00558114</td>\n",
       "      <td>NSGAII</td>\n",
       "      <td>0.500844</td>\n",
       "      <td>0.955894</td>\n",
       "      <td>0.939264</td>\n",
       "      <td>0.053531</td>\n",
       "      <td>0.678112</td>\n",
       "      <td>0.341210</td>\n",
       "      <td>1.170168</td>\n",
       "      <td>1.173273</td>\n",
       "    </tr>\n",
       "    <tr>\n",
       "      <th>260</th>\n",
       "      <td>0.00384212</td>\n",
       "      <td>0.00426078</td>\n",
       "      <td>NSGAII</td>\n",
       "      <td>0.509292</td>\n",
       "      <td>0.019488</td>\n",
       "      <td>0.537181</td>\n",
       "      <td>0.070103</td>\n",
       "      <td>0.271896</td>\n",
       "      <td>0.214008</td>\n",
       "      <td>1.080536</td>\n",
       "      <td>1.112547</td>\n",
       "    </tr>\n",
       "    <tr>\n",
       "      <th>291</th>\n",
       "      <td>0.00431609</td>\n",
       "      <td>0.00756598</td>\n",
       "      <td>NSGAII</td>\n",
       "      <td>0.504796</td>\n",
       "      <td>0.271182</td>\n",
       "      <td>0.874596</td>\n",
       "      <td>0.145555</td>\n",
       "      <td>0.286757</td>\n",
       "      <td>0.070730</td>\n",
       "      <td>1.086364</td>\n",
       "      <td>1.102856</td>\n",
       "    </tr>\n",
       "    <tr>\n",
       "      <th>394</th>\n",
       "      <td>0.00356388</td>\n",
       "      <td>0.00449896</td>\n",
       "      <td>NSGAII</td>\n",
       "      <td>0.490644</td>\n",
       "      <td>0.799881</td>\n",
       "      <td>0.262535</td>\n",
       "      <td>0.494841</td>\n",
       "      <td>0.157639</td>\n",
       "      <td>0.380277</td>\n",
       "      <td>0.916786</td>\n",
       "      <td>0.890227</td>\n",
       "    </tr>\n",
       "    <tr>\n",
       "      <th>398</th>\n",
       "      <td>0.00366402</td>\n",
       "      <td>0.00387931</td>\n",
       "      <td>NSGAII</td>\n",
       "      <td>0.499750</td>\n",
       "      <td>0.812385</td>\n",
       "      <td>0.894907</td>\n",
       "      <td>0.863084</td>\n",
       "      <td>0.139628</td>\n",
       "      <td>0.306220</td>\n",
       "      <td>1.098416</td>\n",
       "      <td>1.097553</td>\n",
       "    </tr>\n",
       "    <tr>\n",
       "      <th>414</th>\n",
       "      <td>0.00376892</td>\n",
       "      <td>0.00418806</td>\n",
       "      <td>NSGAII</td>\n",
       "      <td>0.502028</td>\n",
       "      <td>0.309016</td>\n",
       "      <td>0.773180</td>\n",
       "      <td>0.441226</td>\n",
       "      <td>0.050271</td>\n",
       "      <td>0.964056</td>\n",
       "      <td>1.079944</td>\n",
       "      <td>1.086847</td>\n",
       "    </tr>\n",
       "    <tr>\n",
       "      <th>431</th>\n",
       "      <td>0.00583696</td>\n",
       "      <td>0.00570917</td>\n",
       "      <td>NSGAII</td>\n",
       "      <td>0.507521</td>\n",
       "      <td>0.129594</td>\n",
       "      <td>0.937151</td>\n",
       "      <td>0.724537</td>\n",
       "      <td>0.571669</td>\n",
       "      <td>0.804275</td>\n",
       "      <td>1.031593</td>\n",
       "      <td>1.056260</td>\n",
       "    </tr>\n",
       "    <tr>\n",
       "      <th>524</th>\n",
       "      <td>0.00364804</td>\n",
       "      <td>0.00395393</td>\n",
       "      <td>NSGAII</td>\n",
       "      <td>0.491437</td>\n",
       "      <td>0.374217</td>\n",
       "      <td>0.773000</td>\n",
       "      <td>0.981394</td>\n",
       "      <td>0.846660</td>\n",
       "      <td>0.276470</td>\n",
       "      <td>1.069263</td>\n",
       "      <td>1.040877</td>\n",
       "    </tr>\n",
       "    <tr>\n",
       "      <th>575</th>\n",
       "      <td>0.00351691</td>\n",
       "      <td>0.00392008</td>\n",
       "      <td>NSGAII</td>\n",
       "      <td>0.492333</td>\n",
       "      <td>0.714535</td>\n",
       "      <td>0.185960</td>\n",
       "      <td>0.767422</td>\n",
       "      <td>0.665375</td>\n",
       "      <td>0.730578</td>\n",
       "      <td>0.927864</td>\n",
       "      <td>0.905780</td>\n",
       "    </tr>\n",
       "    <tr>\n",
       "      <th>590</th>\n",
       "      <td>0.00353098</td>\n",
       "      <td>0.00486493</td>\n",
       "      <td>NSGAII</td>\n",
       "      <td>0.498621</td>\n",
       "      <td>0.121677</td>\n",
       "      <td>0.041351</td>\n",
       "      <td>0.606156</td>\n",
       "      <td>0.570820</td>\n",
       "      <td>0.681374</td>\n",
       "      <td>0.993982</td>\n",
       "      <td>0.989686</td>\n",
       "    </tr>\n",
       "    <tr>\n",
       "      <th>674</th>\n",
       "      <td>0.00367308</td>\n",
       "      <td>0.00430894</td>\n",
       "      <td>NSGAII</td>\n",
       "      <td>0.506163</td>\n",
       "      <td>0.672852</td>\n",
       "      <td>0.803157</td>\n",
       "      <td>0.642383</td>\n",
       "      <td>0.193626</td>\n",
       "      <td>0.188808</td>\n",
       "      <td>0.933236</td>\n",
       "      <td>0.951483</td>\n",
       "    </tr>\n",
       "    <tr>\n",
       "      <th>683</th>\n",
       "      <td>0.003968</td>\n",
       "      <td>0.00407982</td>\n",
       "      <td>NSGAII</td>\n",
       "      <td>0.504836</td>\n",
       "      <td>0.205568</td>\n",
       "      <td>0.987542</td>\n",
       "      <td>0.326777</td>\n",
       "      <td>0.839406</td>\n",
       "      <td>0.254511</td>\n",
       "      <td>1.073521</td>\n",
       "      <td>1.089957</td>\n",
       "    </tr>\n",
       "    <tr>\n",
       "      <th>744</th>\n",
       "      <td>0.00352788</td>\n",
       "      <td>0.00430417</td>\n",
       "      <td>NSGAII</td>\n",
       "      <td>0.509807</td>\n",
       "      <td>0.767562</td>\n",
       "      <td>0.540250</td>\n",
       "      <td>0.334624</td>\n",
       "      <td>0.576837</td>\n",
       "      <td>0.437806</td>\n",
       "      <td>0.772935</td>\n",
       "      <td>0.797123</td>\n",
       "    </tr>\n",
       "    <tr>\n",
       "      <th>769</th>\n",
       "      <td>0.00356889</td>\n",
       "      <td>0.00553012</td>\n",
       "      <td>NSGAII</td>\n",
       "      <td>0.500447</td>\n",
       "      <td>0.088828</td>\n",
       "      <td>0.803912</td>\n",
       "      <td>0.741219</td>\n",
       "      <td>0.348604</td>\n",
       "      <td>0.611821</td>\n",
       "      <td>0.957483</td>\n",
       "      <td>0.958827</td>\n",
       "    </tr>\n",
       "    <tr>\n",
       "      <th>787</th>\n",
       "      <td>0.00401902</td>\n",
       "      <td>0.00389981</td>\n",
       "      <td>NSGAII</td>\n",
       "      <td>0.494662</td>\n",
       "      <td>0.276303</td>\n",
       "      <td>0.288373</td>\n",
       "      <td>0.290370</td>\n",
       "      <td>0.459637</td>\n",
       "      <td>0.268884</td>\n",
       "      <td>0.851203</td>\n",
       "      <td>0.837047</td>\n",
       "    </tr>\n",
       "    <tr>\n",
       "      <th>873</th>\n",
       "      <td>0.00392199</td>\n",
       "      <td>0.00438476</td>\n",
       "      <td>NSGAII</td>\n",
       "      <td>0.505901</td>\n",
       "      <td>0.800934</td>\n",
       "      <td>0.428978</td>\n",
       "      <td>0.840193</td>\n",
       "      <td>0.814359</td>\n",
       "      <td>0.731024</td>\n",
       "      <td>0.955183</td>\n",
       "      <td>0.973057</td>\n",
       "    </tr>\n",
       "  </tbody>\n",
       "</table>\n",
       "</div>"
      ],
      "text/plain": [
       "NAME computation_t experiment_t strategy       x_0       x_1       x_2       x_3       x_4       x_5       y_0       y_1\n",
       "TYPE      METADATA     METADATA METADATA      DATA      DATA      DATA      DATA      DATA      DATA      DATA      DATA\n",
       "0                0   0.00817013   NSGAII  0.502827  0.531149  0.132505  0.750924  0.153492  0.317094  0.952111  0.960606\n",
       "11      0.00430202   0.00404096   NSGAII  0.507255  0.785163  0.902755  0.848710  0.307409  0.587246  0.985476  1.008198\n",
       "40      0.00349808   0.00400591   NSGAII  0.498186  0.712510  0.844802  0.532695  0.850232  0.872515  1.011592  1.005843\n",
       "80       0.0035007   0.00388527   NSGAII  0.490512  0.780019  0.847606  0.050713  0.205446  0.675281  1.089685  1.057679\n",
       "132     0.00354791   0.00395608   NSGAII  0.494854  0.679649  0.401917  0.237922  0.160769  0.378278  0.884208  0.870028\n",
       "147     0.00366306   0.00558114   NSGAII  0.500844  0.955894  0.939264  0.053531  0.678112  0.341210  1.170168  1.173273\n",
       "260     0.00384212   0.00426078   NSGAII  0.509292  0.019488  0.537181  0.070103  0.271896  0.214008  1.080536  1.112547\n",
       "291     0.00431609   0.00756598   NSGAII  0.504796  0.271182  0.874596  0.145555  0.286757  0.070730  1.086364  1.102856\n",
       "394     0.00356388   0.00449896   NSGAII  0.490644  0.799881  0.262535  0.494841  0.157639  0.380277  0.916786  0.890227\n",
       "398     0.00366402   0.00387931   NSGAII  0.499750  0.812385  0.894907  0.863084  0.139628  0.306220  1.098416  1.097553\n",
       "414     0.00376892   0.00418806   NSGAII  0.502028  0.309016  0.773180  0.441226  0.050271  0.964056  1.079944  1.086847\n",
       "431     0.00583696   0.00570917   NSGAII  0.507521  0.129594  0.937151  0.724537  0.571669  0.804275  1.031593  1.056260\n",
       "524     0.00364804   0.00395393   NSGAII  0.491437  0.374217  0.773000  0.981394  0.846660  0.276470  1.069263  1.040877\n",
       "575     0.00351691   0.00392008   NSGAII  0.492333  0.714535  0.185960  0.767422  0.665375  0.730578  0.927864  0.905780\n",
       "590     0.00353098   0.00486493   NSGAII  0.498621  0.121677  0.041351  0.606156  0.570820  0.681374  0.993982  0.989686\n",
       "674     0.00367308   0.00430894   NSGAII  0.506163  0.672852  0.803157  0.642383  0.193626  0.188808  0.933236  0.951483\n",
       "683       0.003968   0.00407982   NSGAII  0.504836  0.205568  0.987542  0.326777  0.839406  0.254511  1.073521  1.089957\n",
       "744     0.00352788   0.00430417   NSGAII  0.509807  0.767562  0.540250  0.334624  0.576837  0.437806  0.772935  0.797123\n",
       "769     0.00356889   0.00553012   NSGAII  0.500447  0.088828  0.803912  0.741219  0.348604  0.611821  0.957483  0.958827\n",
       "787     0.00401902   0.00389981   NSGAII  0.494662  0.276303  0.288373  0.290370  0.459637  0.268884  0.851203  0.837047\n",
       "873     0.00392199   0.00438476   NSGAII  0.505901  0.800934  0.428978  0.840193  0.814359  0.731024  0.955183  0.973057"
      ]
     },
     "execution_count": 21,
     "metadata": {},
     "output_type": "execute_result"
    }
   ],
   "source": [
    "data = dtlz2.data\n",
    "data[(data['x_0']<0.51) & (data['x_0']>0.49)]"
   ]
  },
  {
   "cell_type": "code",
   "execution_count": 27,
   "metadata": {},
   "outputs": [
    {
     "data": {
      "text/plain": [
       "119.96807465297428"
      ]
     },
     "execution_count": 27,
     "metadata": {},
     "output_type": "execute_result"
    }
   ],
   "source": [
    "y_front, _ = pareto_efficient(data[['y_0', 'y_1']].to_numpy(), maximize=False)\n",
    "HvI.hypervolume(y_front, ref=[11,11])"
   ]
  },
  {
   "cell_type": "markdown",
   "metadata": {},
   "source": [
    "## Pymoo NSGA-II"
   ]
  },
  {
   "cell_type": "code",
   "execution_count": 18,
   "metadata": {},
   "outputs": [],
   "source": [
    "from pymoo.algorithms.nsga2 import NSGA2\n",
    "from pymoo.factory import get_problem\n",
    "from pymoo.optimize import minimize\n",
    "from pymoo.visualization.scatter import Scatter\n",
    "from summit.utils.multiobjective import pareto_efficient, HvI"
   ]
  },
  {
   "cell_type": "code",
   "execution_count": 26,
   "metadata": {},
   "outputs": [],
   "source": [
    "problem = get_problem(\"dtlz2\", n_var=6, n_obj=2)\n",
    "\n",
    "algorithm = NSGA2(pop_size=100)\n",
    "\n",
    "res = minimize(problem,\n",
    "               algorithm,\n",
    "               ('n_gen', 100),\n",
    "               seed=1,\n",
    "               verbose=False)"
   ]
  },
  {
   "cell_type": "code",
   "execution_count": 27,
   "metadata": {},
   "outputs": [
    {
     "data": {
      "image/png": "[encoded data removed]",
      "text/plain": [
       "<Figure size 576x432 with 1 Axes>"
      ]
     },
     "metadata": {
      "needs_background": "light"
     },
     "output_type": "display_data"
    }
   ],
   "source": [
    "plot = Scatter()\n",
    "# plot.add(problem.pareto_front(), plot_type=\"line\", color=\"black\", alpha=0.7)\n",
    "plot.add(res.F, color=\"red\")\n",
    "plot.show()"
   ]
  },
  {
   "cell_type": "markdown",
   "metadata": {},
   "source": [
    "## Pymoo NSGA-II TSEMO"
   ]
  },
  {
   "cell_type": "code",
   "execution_count": 55,
   "metadata": {},
   "outputs": [],
   "source": [
    "from pymoo.algorithms.nsga2 import NSGA2\n",
    "from pymoo.factory import get_problem\n",
    "from pymoo.optimize import minimize\n",
    "from pymoo.visualization.scatter import Scatter\n",
    "from summit.utils.models import GPyModel, ModelGroup\n",
    "from summit.utils.dataset import DataSet\n",
    "from summit.strategies.tsemo import TSEMO,TSEMOInternalWrapper\n",
    "from summit.utils.multiobjective import pareto_efficient, HvI\n",
    "from summit.benchmarks import DTLZ2\n",
    "import pandas as pd"
   ]
  },
  {
   "cell_type": "code",
   "execution_count": 58,
   "metadata": {},
   "outputs": [],
   "source": [
    "tsemo = TSEMO.load('data/new_tsemo_params_0.json')\n",
    "data = tsemo.all_experiments.copy()\n",
    "input_columns = [v.name for v in tsemo.domain.input_variables]\n",
    "output_columns = ['y_0', 'y_1']"
   ]
  },
  {
   "cell_type": "code",
   "execution_count": 60,
   "metadata": {},
   "outputs": [
    {
     "data": {
      "text/plain": [
       "<matplotlib.axes._subplots.AxesSubplot at 0x121926940>"
      ]
     },
     "execution_count": 60,
     "metadata": {},
     "output_type": "execute_result"
    },
    {
     "data": {
      "image/png": "[encoded data removed]",
      "text/plain": [
       "<Figure size 432x288 with 1 Axes>"
      ]
     },
     "metadata": {
      "needs_background": "light"
     },
     "output_type": "display_data"
    }
   ],
   "source": [
    "data.boxplot(column=[f'x_{i}' for i in range(5)])"
   ]
  },
  {
   "cell_type": "code",
   "execution_count": 20,
   "metadata": {},
   "outputs": [
    {
     "data": {
      "text/html": [
       "<div>\n",
       "<style scoped>\n",
       "    .dataframe tbody tr th:only-of-type {\n",
       "        vertical-align: middle;\n",
       "    }\n",
       "\n",
       "    .dataframe tbody tr th {\n",
       "        vertical-align: top;\n",
       "    }\n",
       "\n",
       "    .dataframe thead th {\n",
       "        text-align: right;\n",
       "    }\n",
       "</style>\n",
       "<table border=\"1\" class=\"dataframe\">\n",
       "  <thead>\n",
       "    <tr style=\"text-align: right;\">\n",
       "      <th></th>\n",
       "      <th>x_0</th>\n",
       "      <th>x_1</th>\n",
       "      <th>x_2</th>\n",
       "      <th>x_3</th>\n",
       "      <th>x_4</th>\n",
       "      <th>x_5</th>\n",
       "      <th>y_0</th>\n",
       "      <th>y_1</th>\n",
       "    </tr>\n",
       "  </thead>\n",
       "  <tbody>\n",
       "    <tr>\n",
       "      <th>0</th>\n",
       "      <td>0.984074</td>\n",
       "      <td>0.109904</td>\n",
       "      <td>0.115399</td>\n",
       "      <td>0.932195</td>\n",
       "      <td>0.413793</td>\n",
       "      <td>0.284762</td>\n",
       "      <td>-1.823522</td>\n",
       "      <td>1.494427</td>\n",
       "    </tr>\n",
       "    <tr>\n",
       "      <th>1</th>\n",
       "      <td>0.349846</td>\n",
       "      <td>0.930989</td>\n",
       "      <td>0.652220</td>\n",
       "      <td>0.864390</td>\n",
       "      <td>0.862069</td>\n",
       "      <td>0.726118</td>\n",
       "      <td>0.777429</td>\n",
       "      <td>-0.146041</td>\n",
       "    </tr>\n",
       "    <tr>\n",
       "      <th>2</th>\n",
       "      <td>0.483368</td>\n",
       "      <td>0.349387</td>\n",
       "      <td>0.417361</td>\n",
       "      <td>0.152440</td>\n",
       "      <td>0.793103</td>\n",
       "      <td>0.386614</td>\n",
       "      <td>0.004773</td>\n",
       "      <td>0.030655</td>\n",
       "    </tr>\n",
       "    <tr>\n",
       "      <th>3</th>\n",
       "      <td>0.016043</td>\n",
       "      <td>0.725718</td>\n",
       "      <td>0.216053</td>\n",
       "      <td>0.288049</td>\n",
       "      <td>0.137931</td>\n",
       "      <td>0.352663</td>\n",
       "      <td>0.883119</td>\n",
       "      <td>-1.785659</td>\n",
       "    </tr>\n",
       "    <tr>\n",
       "      <th>4</th>\n",
       "      <td>0.283086</td>\n",
       "      <td>0.520447</td>\n",
       "      <td>0.081847</td>\n",
       "      <td>0.389757</td>\n",
       "      <td>0.206897</td>\n",
       "      <td>0.895870</td>\n",
       "      <td>0.794638</td>\n",
       "      <td>-0.517789</td>\n",
       "    </tr>\n",
       "    <tr>\n",
       "      <th>...</th>\n",
       "      <td>...</td>\n",
       "      <td>...</td>\n",
       "      <td>...</td>\n",
       "      <td>...</td>\n",
       "      <td>...</td>\n",
       "      <td>...</td>\n",
       "      <td>...</td>\n",
       "      <td>...</td>\n",
       "    </tr>\n",
       "    <tr>\n",
       "      <th>124</th>\n",
       "      <td>0.001115</td>\n",
       "      <td>0.277655</td>\n",
       "      <td>0.372306</td>\n",
       "      <td>0.688764</td>\n",
       "      <td>0.002992</td>\n",
       "      <td>0.615015</td>\n",
       "      <td>0.925194</td>\n",
       "      <td>-1.853695</td>\n",
       "    </tr>\n",
       "    <tr>\n",
       "      <th>125</th>\n",
       "      <td>0.524540</td>\n",
       "      <td>0.067626</td>\n",
       "      <td>0.520234</td>\n",
       "      <td>0.915902</td>\n",
       "      <td>0.012577</td>\n",
       "      <td>0.741355</td>\n",
       "      <td>0.417023</td>\n",
       "      <td>0.756016</td>\n",
       "    </tr>\n",
       "    <tr>\n",
       "      <th>126</th>\n",
       "      <td>0.056322</td>\n",
       "      <td>0.271406</td>\n",
       "      <td>0.326506</td>\n",
       "      <td>0.555558</td>\n",
       "      <td>0.715915</td>\n",
       "      <td>0.605159</td>\n",
       "      <td>0.487882</td>\n",
       "      <td>-1.638037</td>\n",
       "    </tr>\n",
       "    <tr>\n",
       "      <th>127</th>\n",
       "      <td>0.445369</td>\n",
       "      <td>0.544687</td>\n",
       "      <td>0.266070</td>\n",
       "      <td>0.562698</td>\n",
       "      <td>0.960163</td>\n",
       "      <td>0.914386</td>\n",
       "      <td>0.388500</td>\n",
       "      <td>0.153349</td>\n",
       "    </tr>\n",
       "    <tr>\n",
       "      <th>128</th>\n",
       "      <td>0.820584</td>\n",
       "      <td>0.095380</td>\n",
       "      <td>0.760313</td>\n",
       "      <td>0.385728</td>\n",
       "      <td>0.962811</td>\n",
       "      <td>0.681679</td>\n",
       "      <td>-1.040839</td>\n",
       "      <td>1.251111</td>\n",
       "    </tr>\n",
       "  </tbody>\n",
       "</table>\n",
       "<p>129 rows × 8 columns</p>\n",
       "</div>"
      ],
      "text/plain": [
       "NAME       x_0       x_1       x_2       x_3       x_4       x_5       y_0  \\\n",
       "TYPE      DATA      DATA      DATA      DATA      DATA      DATA      DATA   \n",
       "0     0.984074  0.109904  0.115399  0.932195  0.413793  0.284762 -1.823522   \n",
       "1     0.349846  0.930989  0.652220  0.864390  0.862069  0.726118  0.777429   \n",
       "2     0.483368  0.349387  0.417361  0.152440  0.793103  0.386614  0.004773   \n",
       "3     0.016043  0.725718  0.216053  0.288049  0.137931  0.352663  0.883119   \n",
       "4     0.283086  0.520447  0.081847  0.389757  0.206897  0.895870  0.794638   \n",
       "..         ...       ...       ...       ...       ...       ...       ...   \n",
       "124   0.001115  0.277655  0.372306  0.688764  0.002992  0.615015  0.925194   \n",
       "125   0.524540  0.067626  0.520234  0.915902  0.012577  0.741355  0.417023   \n",
       "126   0.056322  0.271406  0.326506  0.555558  0.715915  0.605159  0.487882   \n",
       "127   0.445369  0.544687  0.266070  0.562698  0.960163  0.914386  0.388500   \n",
       "128   0.820584  0.095380  0.760313  0.385728  0.962811  0.681679 -1.040839   \n",
       "\n",
       "NAME       y_1  \n",
       "TYPE      DATA  \n",
       "0     1.494427  \n",
       "1    -0.146041  \n",
       "2     0.030655  \n",
       "3    -1.785659  \n",
       "4    -0.517789  \n",
       "..         ...  \n",
       "124  -1.853695  \n",
       "125   0.756016  \n",
       "126  -1.638037  \n",
       "127   0.153349  \n",
       "128   1.251111  \n",
       "\n",
       "[129 rows x 8 columns]"
      ]
     },
     "execution_count": 20,
     "metadata": {},
     "output_type": "execute_result"
    }
   ],
   "source": [
    "# Scale decision variables between 0 and 1\n",
    "inputs = data[input_columns]\n",
    "input_min = inputs.min()\n",
    "input_max = inputs.max()\n",
    "scaled_inputs = (inputs-input_min)/(input_max-input_min)\n",
    "\n",
    "# Scale objectives to 0 mean and unit variance\n",
    "outputs = data[output_columns]\n",
    "output_mean = outputs.mean()\n",
    "output_std = outputs.std()\n",
    "scaled_outputs = (outputs-output_mean)/output_std\n",
    "\n",
    "# Join back\n",
    "scaled_data = pd.concat([scaled_inputs, scaled_outputs], axis=1)\n",
    "scaled_data"
   ]
  },
  {
   "cell_type": "code",
   "execution_count": 21,
   "metadata": {},
   "outputs": [
    {
     "name": "stderr",
     "output_type": "stream",
     "text": [
      " /Users/Kobi/Library/Caches/pypoetry/virtualenvs/summit-TfmmV07p-py3.7/lib/python3.7/site-packages/GPy/kern/src/stationary.py:137: RuntimeWarning:overflow encountered in square\n",
      " /Users/Kobi/Library/Caches/pypoetry/virtualenvs/summit-TfmmV07p-py3.7/lib/python3.7/site-packages/GPy/kern/src/stationary.py:138: RuntimeWarning:invalid value encountered in add\n",
      " /Users/Kobi/Library/Caches/pypoetry/virtualenvs/summit-TfmmV07p-py3.7/lib/python3.7/site-packages/GPy/kern/src/stationary.py:565: RuntimeWarning:invalid value encountered in multiply\n",
      " /Users/Kobi/Library/Caches/pypoetry/virtualenvs/summit-TfmmV07p-py3.7/lib/python3.7/site-packages/GPy/kern/src/stationary.py:568: RuntimeWarning:invalid value encountered in subtract\n",
      " /Users/Kobi/Library/Caches/pypoetry/virtualenvs/summit-TfmmV07p-py3.7/lib/python3.7/site-packages/paramz/transformations.py:119: RuntimeWarning:overflow encountered in expm1\n",
      " /Users/Kobi/Library/Caches/pypoetry/virtualenvs/summit-TfmmV07p-py3.7/lib/python3.7/site-packages/paramz/transformations.py:121: RuntimeWarning:overflow encountered in expm1\n",
      " /Users/Kobi/Library/Caches/pypoetry/virtualenvs/summit-TfmmV07p-py3.7/lib/python3.7/site-packages/GPy/kern/src/stationary.py:138: RuntimeWarning:overflow encountered in multiply\n"
     ]
    }
   ],
   "source": [
    "models = ModelGroup({'y_0':GPyModel(input_dim=6), 'y_1':GPyModel(input_dim=6)})\n",
    "models.fit(scaled_inputs, scaled_outputs, spectral_sample=True, n_spectral_points=4000)"
   ]
  },
  {
   "cell_type": "code",
   "execution_count": 22,
   "metadata": {},
   "outputs": [],
   "source": [
    "dtlz2 = DTLZ2(6,2)\n",
    "problem = TSEMOInternalWrapper(models, dtlz2.domain)\n",
    "algorithm = NSGA2(pop_size=100)\n",
    "\n",
    "res = minimize(problem,\n",
    "               algorithm,\n",
    "               ('n_gen', 100),\n",
    "               seed=1,\n",
    "               verbose=False)"
   ]
  },
  {
   "cell_type": "code",
   "execution_count": 23,
   "metadata": {},
   "outputs": [
    {
     "data": {
      "image/png": "[encoded data removed]",
      "text/plain": [
       "<Figure size 576x432 with 1 Axes>"
      ]
     },
     "metadata": {
      "needs_background": "light"
     },
     "output_type": "display_data"
    }
   ],
   "source": [
    "plot = Scatter()\n",
    "\n",
    "y = res.F*output_std.to_numpy() + output_mean.to_numpy()\n",
    "plot.add(y, color=\"red\")\n",
    "\n",
    "problem = get_problem(\"dtlz2\", n_var=6, n_obj=2)\n",
    "X_unscaled = res.X*(input_max.to_numpy()-input_min.to_numpy())+input_min.to_numpy()\n",
    "y_real = problem.evaluate(X_unscaled)\n",
    "plot.add(y_real, color=\"blue\")\n",
    "plot.show()"
   ]
  },
  {
   "cell_type": "code",
   "execution_count": 8,
   "metadata": {},
   "outputs": [
    {
     "data": {
      "text/plain": [
       "121.1972615622313"
      ]
     },
     "execution_count": 8,
     "metadata": {},
     "output_type": "execute_result"
    }
   ],
   "source": [
    "y_front, _ = pareto_efficient(y, maximize=False)\n",
    "HvI.hypervolume(y_front, [11,11])"
   ]
  },
  {
   "cell_type": "code",
   "execution_count": 30,
   "metadata": {},
   "outputs": [
    {
     "data": {
      "text/plain": [
       "(0.5578759140191458, [3])"
      ]
     },
     "execution_count": 30,
     "metadata": {},
     "output_type": "execute_result"
    }
   ],
   "source": [
    "ds_nsga = DataSet(res.F, columns=[v.name for v in tsemo.domain.output_variables])\n",
    "tsemo.select_max_hvi(scaled_outputs, ds_nsga, 1)"
   ]
  },
  {
   "cell_type": "code",
   "execution_count": 32,
   "metadata": {},
   "outputs": [
    {
     "data": {
      "text/plain": [
       "array([2.06716291e-04, 5.10242027e-01, 5.11200817e-01, 5.21559969e-01,\n",
       "       4.97690165e-01, 5.12779021e-01])"
      ]
     },
     "execution_count": 32,
     "metadata": {},
     "output_type": "execute_result"
    }
   ],
   "source": [
    "res.X[3, :]"
   ]
  },
  {
   "cell_type": "code",
   "execution_count": 36,
   "metadata": {},
   "outputs": [
    {
     "data": {
      "text/plain": [
       "array([1.00036621, 0.00134068])"
      ]
     },
     "execution_count": 36,
     "metadata": {},
     "output_type": "execute_result"
    }
   ],
   "source": [
    "y_real[3,:]"
   ]
  },
  {
   "cell_type": "markdown",
   "metadata": {},
   "source": [
    "## TSEMO results"
   ]
  },
  {
   "cell_type": "code",
   "execution_count": 61,
   "metadata": {},
   "outputs": [],
   "source": [
    "from summit.strategies import TSEMO\n",
    "import matplotlib.pyplot as plt"
   ]
  },
  {
   "cell_type": "code",
   "execution_count": 64,
   "metadata": {},
   "outputs": [
    {
     "data": {
      "text/plain": [
       "<matplotlib.axes._subplots.AxesSubplot at 0x120c73a20>"
      ]
     },
     "execution_count": 64,
     "metadata": {},
     "output_type": "execute_result"
    },
    {
     "data": {
      "image/png": "[encoded data removed]",
      "text/plain": [
       "<Figure size 432x288 with 1 Axes>"
      ]
     },
     "metadata": {
      "needs_background": "light"
     },
     "output_type": "display_data"
    }
   ],
   "source": [
    "tsemo = TSEMO.load('data/tsemo_settings.json')\n",
    "data = tsemo.all_experiments\n",
    "data.boxplot(column=[f'x_{i}'for i in range(6)])"
   ]
  },
  {
   "cell_type": "code",
   "execution_count": 45,
   "metadata": {},
   "outputs": [
    {
     "data": {
      "text/plain": [
       "<matplotlib.legend.Legend at 0x12f82a0f0>"
      ]
     },
     "execution_count": 45,
     "metadata": {},
     "output_type": "execute_result"
    },
    {
     "data": {
      "image/png": "[encoded data removed]",
      "text/plain": [
       "<Figure size 432x288 with 1 Axes>"
      ]
     },
     "metadata": {
      "needs_background": "light"
     },
     "output_type": "display_data"
    }
   ],
   "source": [
    "y_front, _ = pareto_efficient(data[['y_0','y_1']].to_numpy(), maximize=False)\n",
    "plt.scatter(data['y_0'], data['y_1'])\n",
    "plt.scatter(y_front[:,0], y_front[:,1], label='pareto front')\n",
    "plt.legend()"
   ]
  },
  {
   "cell_type": "code",
   "execution_count": 46,
   "metadata": {},
   "outputs": [
    {
     "data": {
      "text/html": [
       "<div>\n",
       "<style scoped>\n",
       "    .dataframe tbody tr th:only-of-type {\n",
       "        vertical-align: middle;\n",
       "    }\n",
       "\n",
       "    .dataframe tbody tr th {\n",
       "        vertical-align: top;\n",
       "    }\n",
       "\n",
       "    .dataframe thead th {\n",
       "        text-align: right;\n",
       "    }\n",
       "</style>\n",
       "<table border=\"1\" class=\"dataframe\">\n",
       "  <thead>\n",
       "    <tr style=\"text-align: right;\">\n",
       "      <th></th>\n",
       "      <th>x_0</th>\n",
       "      <th>x_1</th>\n",
       "      <th>x_2</th>\n",
       "      <th>x_3</th>\n",
       "      <th>x_4</th>\n",
       "      <th>x_5</th>\n",
       "      <th>y_0</th>\n",
       "      <th>y_1</th>\n",
       "    </tr>\n",
       "  </thead>\n",
       "  <tbody>\n",
       "    <tr>\n",
       "      <th>0</th>\n",
       "      <td>0.965517</td>\n",
       "      <td>0.965517</td>\n",
       "      <td>0.689655</td>\n",
       "      <td>0.137931</td>\n",
       "      <td>0.034483</td>\n",
       "      <td>0.689655</td>\n",
       "      <td>-0.270008</td>\n",
       "      <td>0.464026</td>\n",
       "    </tr>\n",
       "    <tr>\n",
       "      <th>1</th>\n",
       "      <td>0.517241</td>\n",
       "      <td>0.931034</td>\n",
       "      <td>0.931034</td>\n",
       "      <td>0.206897</td>\n",
       "      <td>0.586207</td>\n",
       "      <td>0.034483</td>\n",
       "      <td>2.109137</td>\n",
       "      <td>-0.418406</td>\n",
       "    </tr>\n",
       "    <tr>\n",
       "      <th>2</th>\n",
       "      <td>0.827586</td>\n",
       "      <td>0.068966</td>\n",
       "      <td>0.965517</td>\n",
       "      <td>0.793103</td>\n",
       "      <td>0.068966</td>\n",
       "      <td>0.103448</td>\n",
       "      <td>0.631505</td>\n",
       "      <td>0.713933</td>\n",
       "    </tr>\n",
       "    <tr>\n",
       "      <th>3</th>\n",
       "      <td>0.896552</td>\n",
       "      <td>0.689655</td>\n",
       "      <td>0.517241</td>\n",
       "      <td>0.724138</td>\n",
       "      <td>0.000000</td>\n",
       "      <td>0.862069</td>\n",
       "      <td>0.054776</td>\n",
       "      <td>0.076055</td>\n",
       "    </tr>\n",
       "    <tr>\n",
       "      <th>4</th>\n",
       "      <td>0.586207</td>\n",
       "      <td>0.379310</td>\n",
       "      <td>0.344828</td>\n",
       "      <td>0.620690</td>\n",
       "      <td>0.793103</td>\n",
       "      <td>0.724138</td>\n",
       "      <td>1.134561</td>\n",
       "      <td>-0.974660</td>\n",
       "    </tr>\n",
       "    <tr>\n",
       "      <th>...</th>\n",
       "      <td>...</td>\n",
       "      <td>...</td>\n",
       "      <td>...</td>\n",
       "      <td>...</td>\n",
       "      <td>...</td>\n",
       "      <td>...</td>\n",
       "      <td>...</td>\n",
       "      <td>...</td>\n",
       "    </tr>\n",
       "    <tr>\n",
       "      <th>124</th>\n",
       "      <td>0.999993</td>\n",
       "      <td>0.527440</td>\n",
       "      <td>0.539738</td>\n",
       "      <td>0.492297</td>\n",
       "      <td>0.486245</td>\n",
       "      <td>0.464935</td>\n",
       "      <td>-0.504767</td>\n",
       "      <td>-0.822292</td>\n",
       "    </tr>\n",
       "    <tr>\n",
       "      <th>125</th>\n",
       "      <td>0.999997</td>\n",
       "      <td>0.502545</td>\n",
       "      <td>0.461340</td>\n",
       "      <td>0.517995</td>\n",
       "      <td>0.494388</td>\n",
       "      <td>0.480639</td>\n",
       "      <td>-0.504875</td>\n",
       "      <td>-0.825526</td>\n",
       "    </tr>\n",
       "    <tr>\n",
       "      <th>126</th>\n",
       "      <td>1.000000</td>\n",
       "      <td>0.465471</td>\n",
       "      <td>0.478274</td>\n",
       "      <td>0.518713</td>\n",
       "      <td>0.459432</td>\n",
       "      <td>0.510537</td>\n",
       "      <td>-0.504796</td>\n",
       "      <td>-0.822371</td>\n",
       "    </tr>\n",
       "    <tr>\n",
       "      <th>127</th>\n",
       "      <td>1.000000</td>\n",
       "      <td>0.483440</td>\n",
       "      <td>0.460938</td>\n",
       "      <td>0.510947</td>\n",
       "      <td>0.508743</td>\n",
       "      <td>0.529951</td>\n",
       "      <td>-0.504847</td>\n",
       "      <td>-0.824169</td>\n",
       "    </tr>\n",
       "    <tr>\n",
       "      <th>128</th>\n",
       "      <td>0.999999</td>\n",
       "      <td>0.484793</td>\n",
       "      <td>0.537891</td>\n",
       "      <td>0.508764</td>\n",
       "      <td>0.550604</td>\n",
       "      <td>0.494610</td>\n",
       "      <td>-0.504758</td>\n",
       "      <td>-0.821219</td>\n",
       "    </tr>\n",
       "  </tbody>\n",
       "</table>\n",
       "<p>129 rows × 8 columns</p>\n",
       "</div>"
      ],
      "text/plain": [
       "NAME       x_0       x_1       x_2       x_3       x_4       x_5       y_0  \\\n",
       "TYPE      DATA      DATA      DATA      DATA      DATA      DATA      DATA   \n",
       "0     0.965517  0.965517  0.689655  0.137931  0.034483  0.689655 -0.270008   \n",
       "1     0.517241  0.931034  0.931034  0.206897  0.586207  0.034483  2.109137   \n",
       "2     0.827586  0.068966  0.965517  0.793103  0.068966  0.103448  0.631505   \n",
       "3     0.896552  0.689655  0.517241  0.724138  0.000000  0.862069  0.054776   \n",
       "4     0.586207  0.379310  0.344828  0.620690  0.793103  0.724138  1.134561   \n",
       "..         ...       ...       ...       ...       ...       ...       ...   \n",
       "124   0.999993  0.527440  0.539738  0.492297  0.486245  0.464935 -0.504767   \n",
       "125   0.999997  0.502545  0.461340  0.517995  0.494388  0.480639 -0.504875   \n",
       "126   1.000000  0.465471  0.478274  0.518713  0.459432  0.510537 -0.504796   \n",
       "127   1.000000  0.483440  0.460938  0.510947  0.508743  0.529951 -0.504847   \n",
       "128   0.999999  0.484793  0.537891  0.508764  0.550604  0.494610 -0.504758   \n",
       "\n",
       "NAME       y_1  \n",
       "TYPE      DATA  \n",
       "0     0.464026  \n",
       "1    -0.418406  \n",
       "2     0.713933  \n",
       "3     0.076055  \n",
       "4    -0.974660  \n",
       "..         ...  \n",
       "124  -0.822292  \n",
       "125  -0.825526  \n",
       "126  -0.822371  \n",
       "127  -0.824169  \n",
       "128  -0.821219  \n",
       "\n",
       "[129 rows x 8 columns]"
      ]
     },
     "execution_count": 46,
     "metadata": {},
     "output_type": "execute_result"
    }
   ],
   "source": [
    "# Scale decision variables between 0 and 1\n",
    "inputs = data[input_columns]\n",
    "input_min = inputs.min()\n",
    "input_max = inputs.max()\n",
    "scaled_inputs = (inputs-input_min)/(input_max-input_min)\n",
    "\n",
    "# Scale objectives to 0 mean and unit variance\n",
    "outputs = data[output_columns]\n",
    "output_mean = outputs.mean()\n",
    "output_std = outputs.std()\n",
    "scaled_outputs = (outputs-output_mean)/output_std\n",
    "\n",
    "# Join back\n",
    "scaled_data = pd.concat([scaled_inputs, scaled_outputs], axis=1)\n",
    "scaled_data"
   ]
  },
  {
   "cell_type": "code",
   "execution_count": 47,
   "metadata": {},
   "outputs": [
    {
     "name": "stderr",
     "output_type": "stream",
     "text": [
      " /Users/Kobi/Library/Caches/pypoetry/virtualenvs/summit-TfmmV07p-py3.7/lib/python3.7/site-packages/GPy/kern/src/stationary.py:243: RuntimeWarning:invalid value encountered in true_divide\n"
     ]
    }
   ],
   "source": [
    "models = ModelGroup({'y_0':GPyModel(input_dim=6), 'y_1':GPyModel(input_dim=6)})\n",
    "models.fit(scaled_inputs, scaled_outputs, spectral_sample=True, n_spectral_points=4000)"
   ]
  },
  {
   "cell_type": "code",
   "execution_count": 48,
   "metadata": {},
   "outputs": [],
   "source": [
    "dtlz2 = DTLZ2(6,2)\n",
    "problem = TSEMOInternalWrapper(models, dtlz2.domain)\n",
    "algorithm = NSGA2(pop_size=100)\n",
    "\n",
    "res = minimize(problem,\n",
    "               algorithm,\n",
    "               ('n_gen', 100),\n",
    "               seed=1,\n",
    "               verbose=False)"
   ]
  },
  {
   "cell_type": "code",
   "execution_count": 49,
   "metadata": {},
   "outputs": [
    {
     "data": {
      "image/png": "[encoded data removed]",
      "text/plain": [
       "<Figure size 576x432 with 1 Axes>"
      ]
     },
     "metadata": {
      "needs_background": "light"
     },
     "output_type": "display_data"
    }
   ],
   "source": [
    "plot = Scatter()\n",
    "\n",
    "y = res.F*output_std.to_numpy() + output_mean.to_numpy()\n",
    "plot.add(y, color=\"red\")\n",
    "\n",
    "problem = get_problem(\"dtlz2\", n_var=6, n_obj=2)\n",
    "X_unscaled = res.X*(input_max.to_numpy()-input_min.to_numpy())+input_min.to_numpy()\n",
    "y_real = problem.evaluate(X_unscaled)\n",
    "plot.add(y_real, color=\"blue\")\n",
    "plot.show()"
   ]
  },
  {
   "cell_type": "markdown",
   "metadata": {},
   "source": [
    "What I am noticing is that the results are highly dependent on the quality of the data. This is because of the nature of the GP models.\n",
    "\n",
    "The above graph is simply a different set of data the one in the previous section, and you get a totally different quality of model."
   ]
  },
  {
   "cell_type": "code",
   "execution_count": 69,
   "metadata": {},
   "outputs": [
    {
     "data": {
      "text/plain": [
       "array([0.98326219, 0.9799856 , 0.49971927, 0.97075725, 0.982584  ,\n",
       "       0.5091859 ])"
      ]
     },
     "execution_count": 69,
     "metadata": {},
     "output_type": "execute_result"
    }
   ],
   "source": [
    "X_unscaled.max(axis=0)"
   ]
  },
  {
   "cell_type": "markdown",
   "metadata": {},
   "source": [
    "## TSEMO More Model Restarts"
   ]
  },
  {
   "cell_type": "code",
   "execution_count": 3,
   "metadata": {},
   "outputs": [],
   "source": [
    "from pymoo.algorithms.nsga2 import NSGA2\n",
    "from pymoo.factory import get_problem\n",
    "from pymoo.optimize import minimize\n",
    "from pymoo.visualization.scatter import Scatter\n",
    "from summit.strategies.tsemo import TSEMO,TSEMOInternalWrapper\n",
    "import matplotlib.pyplot as plt\n",
    "from summit.utils.multiobjective import pareto_efficient, HvI"
   ]
  },
  {
   "cell_type": "code",
   "execution_count": 4,
   "metadata": {},
   "outputs": [
    {
     "data": {
      "text/plain": [
       "<matplotlib.axes._subplots.AxesSubplot at 0x12b76deb8>"
      ]
     },
     "execution_count": 4,
     "metadata": {},
     "output_type": "execute_result"
    },
    {
     "data": {
      "image/png": "[encoded data removed]",
      "text/plain": [
       "<Figure size 432x288 with 1 Axes>"
      ]
     },
     "metadata": {
      "needs_background": "light"
     },
     "output_type": "display_data"
    }
   ],
   "source": [
    "tsemo = TSEMO.load('data/tsemo_settings_more_restarts.json')\n",
    "data = tsemo.all_experiments\n",
    "data.boxplot(column=[f'x_{i}'for i in range(6)])"
   ]
  },
  {
   "cell_type": "code",
   "execution_count": 5,
   "metadata": {},
   "outputs": [
    {
     "data": {
      "text/plain": [
       "<matplotlib.legend.Legend at 0x12d96e9b0>"
      ]
     },
     "execution_count": 5,
     "metadata": {},
     "output_type": "execute_result"
    },
    {
     "data": {
      "image/png": "[encoded data removed]",
      "text/plain": [
       "<Figure size 432x288 with 1 Axes>"
      ]
     },
     "metadata": {
      "needs_background": "light"
     },
     "output_type": "display_data"
    }
   ],
   "source": [
    "y_front, _ = pareto_efficient(data[['y_0','y_1']].to_numpy(), maximize=False)\n",
    "plt.scatter(data['y_0'], data['y_1'])\n",
    "plt.scatter(y_front[:,0], y_front[:,1], label='pareto front')\n",
    "plt.legend()"
   ]
  },
  {
   "cell_type": "code",
   "execution_count": 6,
   "metadata": {},
   "outputs": [
    {
     "data": {
      "text/html": [
       "<div>\n",
       "<style scoped>\n",
       "    .dataframe tbody tr th:only-of-type {\n",
       "        vertical-align: middle;\n",
       "    }\n",
       "\n",
       "    .dataframe tbody tr th {\n",
       "        vertical-align: top;\n",
       "    }\n",
       "\n",
       "    .dataframe thead th {\n",
       "        text-align: right;\n",
       "    }\n",
       "</style>\n",
       "<table border=\"1\" class=\"dataframe\">\n",
       "  <thead>\n",
       "    <tr style=\"text-align: right;\">\n",
       "      <th></th>\n",
       "      <th>x_0</th>\n",
       "      <th>x_1</th>\n",
       "      <th>x_2</th>\n",
       "      <th>x_3</th>\n",
       "      <th>x_4</th>\n",
       "      <th>x_5</th>\n",
       "      <th>y_0</th>\n",
       "      <th>y_1</th>\n",
       "    </tr>\n",
       "  </thead>\n",
       "  <tbody>\n",
       "    <tr>\n",
       "      <th>0</th>\n",
       "      <td>0.275862</td>\n",
       "      <td>0.379310</td>\n",
       "      <td>0.931034</td>\n",
       "      <td>0.862069</td>\n",
       "      <td>0.655172</td>\n",
       "      <td>0.862069</td>\n",
       "      <td>2.513935</td>\n",
       "      <td>-1.602575</td>\n",
       "    </tr>\n",
       "    <tr>\n",
       "      <th>1</th>\n",
       "      <td>0.448276</td>\n",
       "      <td>0.793103</td>\n",
       "      <td>0.655172</td>\n",
       "      <td>0.620690</td>\n",
       "      <td>0.137931</td>\n",
       "      <td>0.827586</td>\n",
       "      <td>1.823263</td>\n",
       "      <td>-1.081070</td>\n",
       "    </tr>\n",
       "    <tr>\n",
       "      <th>2</th>\n",
       "      <td>0.034483</td>\n",
       "      <td>0.724138</td>\n",
       "      <td>0.344828</td>\n",
       "      <td>0.448276</td>\n",
       "      <td>0.034483</td>\n",
       "      <td>0.000000</td>\n",
       "      <td>2.960154</td>\n",
       "      <td>-2.690706</td>\n",
       "    </tr>\n",
       "    <tr>\n",
       "      <th>3</th>\n",
       "      <td>0.827586</td>\n",
       "      <td>0.896552</td>\n",
       "      <td>0.379310</td>\n",
       "      <td>0.344828</td>\n",
       "      <td>0.827586</td>\n",
       "      <td>0.344828</td>\n",
       "      <td>0.305913</td>\n",
       "      <td>-0.262027</td>\n",
       "    </tr>\n",
       "    <tr>\n",
       "      <th>4</th>\n",
       "      <td>0.931034</td>\n",
       "      <td>0.241379</td>\n",
       "      <td>0.068966</td>\n",
       "      <td>0.275862</td>\n",
       "      <td>0.241379</td>\n",
       "      <td>0.965517</td>\n",
       "      <td>-0.089728</td>\n",
       "      <td>0.343682</td>\n",
       "    </tr>\n",
       "    <tr>\n",
       "      <th>...</th>\n",
       "      <td>...</td>\n",
       "      <td>...</td>\n",
       "      <td>...</td>\n",
       "      <td>...</td>\n",
       "      <td>...</td>\n",
       "      <td>...</td>\n",
       "      <td>...</td>\n",
       "      <td>...</td>\n",
       "    </tr>\n",
       "    <tr>\n",
       "      <th>124</th>\n",
       "      <td>1.000000</td>\n",
       "      <td>0.492647</td>\n",
       "      <td>0.528487</td>\n",
       "      <td>0.513372</td>\n",
       "      <td>0.454929</td>\n",
       "      <td>0.523336</td>\n",
       "      <td>-0.501731</td>\n",
       "      <td>-0.795474</td>\n",
       "    </tr>\n",
       "    <tr>\n",
       "      <th>125</th>\n",
       "      <td>0.999986</td>\n",
       "      <td>0.445267</td>\n",
       "      <td>0.530187</td>\n",
       "      <td>0.429227</td>\n",
       "      <td>0.318013</td>\n",
       "      <td>0.513506</td>\n",
       "      <td>-0.499467</td>\n",
       "      <td>-0.718240</td>\n",
       "    </tr>\n",
       "    <tr>\n",
       "      <th>126</th>\n",
       "      <td>1.000000</td>\n",
       "      <td>0.500371</td>\n",
       "      <td>0.500755</td>\n",
       "      <td>0.529356</td>\n",
       "      <td>0.511274</td>\n",
       "      <td>0.499892</td>\n",
       "      <td>-0.501882</td>\n",
       "      <td>-0.800738</td>\n",
       "    </tr>\n",
       "    <tr>\n",
       "      <th>127</th>\n",
       "      <td>1.000000</td>\n",
       "      <td>0.508710</td>\n",
       "      <td>0.524253</td>\n",
       "      <td>0.492821</td>\n",
       "      <td>0.490197</td>\n",
       "      <td>0.525524</td>\n",
       "      <td>-0.501855</td>\n",
       "      <td>-0.799790</td>\n",
       "    </tr>\n",
       "    <tr>\n",
       "      <th>128</th>\n",
       "      <td>0.999984</td>\n",
       "      <td>0.508136</td>\n",
       "      <td>0.441465</td>\n",
       "      <td>0.563991</td>\n",
       "      <td>0.482298</td>\n",
       "      <td>0.529778</td>\n",
       "      <td>-0.501378</td>\n",
       "      <td>-0.785135</td>\n",
       "    </tr>\n",
       "  </tbody>\n",
       "</table>\n",
       "<p>129 rows × 8 columns</p>\n",
       "</div>"
      ],
      "text/plain": [
       "NAME       x_0       x_1       x_2       x_3       x_4       x_5       y_0  \\\n",
       "TYPE      DATA      DATA      DATA      DATA      DATA      DATA      DATA   \n",
       "0     0.275862  0.379310  0.931034  0.862069  0.655172  0.862069  2.513935   \n",
       "1     0.448276  0.793103  0.655172  0.620690  0.137931  0.827586  1.823263   \n",
       "2     0.034483  0.724138  0.344828  0.448276  0.034483  0.000000  2.960154   \n",
       "3     0.827586  0.896552  0.379310  0.344828  0.827586  0.344828  0.305913   \n",
       "4     0.931034  0.241379  0.068966  0.275862  0.241379  0.965517 -0.089728   \n",
       "..         ...       ...       ...       ...       ...       ...       ...   \n",
       "124   1.000000  0.492647  0.528487  0.513372  0.454929  0.523336 -0.501731   \n",
       "125   0.999986  0.445267  0.530187  0.429227  0.318013  0.513506 -0.499467   \n",
       "126   1.000000  0.500371  0.500755  0.529356  0.511274  0.499892 -0.501882   \n",
       "127   1.000000  0.508710  0.524253  0.492821  0.490197  0.525524 -0.501855   \n",
       "128   0.999984  0.508136  0.441465  0.563991  0.482298  0.529778 -0.501378   \n",
       "\n",
       "NAME       y_1  \n",
       "TYPE      DATA  \n",
       "0    -1.602575  \n",
       "1    -1.081070  \n",
       "2    -2.690706  \n",
       "3    -0.262027  \n",
       "4     0.343682  \n",
       "..         ...  \n",
       "124  -0.795474  \n",
       "125  -0.718240  \n",
       "126  -0.800738  \n",
       "127  -0.799790  \n",
       "128  -0.785135  \n",
       "\n",
       "[129 rows x 8 columns]"
      ]
     },
     "execution_count": 6,
     "metadata": {},
     "output_type": "execute_result"
    }
   ],
   "source": [
    "input_columns = [v.name for v in tsemo.domain.input_variables]\n",
    "output_columns = ['y_0', 'y_1']\n",
    "# Scale decision variables between 0 and 1\n",
    "inputs = data[input_columns]\n",
    "input_min = inputs.min()\n",
    "input_max = inputs.max()\n",
    "scaled_inputs = (inputs-input_min)/(input_max-input_min)\n",
    "\n",
    "# Scale objectives to 0 mean and unit variance\n",
    "outputs = data[output_columns]\n",
    "output_mean = outputs.mean()\n",
    "output_std = outputs.std()\n",
    "scaled_outputs = (outputs-output_mean)/output_std\n",
    "\n",
    "# Join back\n",
    "scaled_data = pd.concat([scaled_inputs, scaled_outputs], axis=1)\n",
    "scaled_data"
   ]
  },
  {
   "cell_type": "code",
   "execution_count": 71,
   "metadata": {},
   "outputs": [
    {
     "name": "stderr",
     "output_type": "stream",
     "text": [
      "reconstraining parameters GP_regression.Mat52.lengthscale\n",
      "reconstraining parameters GP_regression.Mat52.variance\n"
     ]
    },
    {
     "ename": "LinAlgError",
     "evalue": "not positive definite, even with jitter.",
     "output_type": "error",
     "traceback": [
      "\u001b[0;31m---------------------------------------------------------------------------\u001b[0m",
      "\u001b[0;31mLinAlgError\u001b[0m                               Traceback (most recent call last)",
      "\u001b[0;32m<ipython-input-71-b8d14fce5416>\u001b[0m in \u001b[0;36m<module>\u001b[0;34m\u001b[0m\n\u001b[1;32m      5\u001b[0m            \u001b[0mspectral_sample\u001b[0m\u001b[0;34m=\u001b[0m\u001b[0;32mFalse\u001b[0m\u001b[0;34m,\u001b[0m\u001b[0;34m\u001b[0m\u001b[0;34m\u001b[0m\u001b[0m\n\u001b[1;32m      6\u001b[0m            \u001b[0mnum_restarts\u001b[0m\u001b[0;34m=\u001b[0m\u001b[0;36m200\u001b[0m\u001b[0;34m,\u001b[0m\u001b[0;34m\u001b[0m\u001b[0;34m\u001b[0m\u001b[0m\n\u001b[0;32m----> 7\u001b[0;31m            n_spectral_points=4000)\n\u001b[0m\u001b[1;32m      8\u001b[0m \u001b[0mmodels\u001b[0m\u001b[0;34m[\u001b[0m\u001b[0;34m'y_0'\u001b[0m\u001b[0;34m]\u001b[0m\u001b[0;34m.\u001b[0m\u001b[0m_model\u001b[0m\u001b[0;34m\u001b[0m\u001b[0;34m\u001b[0m\u001b[0m\n",
      "\u001b[0;32m~/Documents/Research/summit/summit/utils/models.py\u001b[0m in \u001b[0;36mfit\u001b[0;34m(self, X, y, **kwargs)\u001b[0m\n\u001b[1;32m     43\u001b[0m     \u001b[0;32mdef\u001b[0m \u001b[0mfit\u001b[0m\u001b[0;34m(\u001b[0m\u001b[0mself\u001b[0m\u001b[0;34m,\u001b[0m \u001b[0mX\u001b[0m\u001b[0;34m,\u001b[0m \u001b[0my\u001b[0m\u001b[0;34m,\u001b[0m \u001b[0;34m**\u001b[0m\u001b[0mkwargs\u001b[0m\u001b[0;34m)\u001b[0m\u001b[0;34m:\u001b[0m\u001b[0;34m\u001b[0m\u001b[0;34m\u001b[0m\u001b[0m\n\u001b[1;32m     44\u001b[0m         \u001b[0;32mfor\u001b[0m \u001b[0mcolumn_name\u001b[0m\u001b[0;34m,\u001b[0m \u001b[0mmodel\u001b[0m \u001b[0;32min\u001b[0m \u001b[0mself\u001b[0m\u001b[0;34m.\u001b[0m\u001b[0mmodels\u001b[0m\u001b[0;34m.\u001b[0m\u001b[0mitems\u001b[0m\u001b[0;34m(\u001b[0m\u001b[0;34m)\u001b[0m\u001b[0;34m:\u001b[0m\u001b[0;34m\u001b[0m\u001b[0;34m\u001b[0m\u001b[0m\n\u001b[0;32m---> 45\u001b[0;31m             \u001b[0mmodel\u001b[0m\u001b[0;34m.\u001b[0m\u001b[0mfit\u001b[0m\u001b[0;34m(\u001b[0m\u001b[0mX\u001b[0m\u001b[0;34m,\u001b[0m \u001b[0my\u001b[0m\u001b[0;34m[\u001b[0m\u001b[0;34m[\u001b[0m\u001b[0mcolumn_name\u001b[0m\u001b[0;34m]\u001b[0m\u001b[0;34m]\u001b[0m\u001b[0;34m,\u001b[0m \u001b[0;34m**\u001b[0m\u001b[0mkwargs\u001b[0m\u001b[0;34m)\u001b[0m\u001b[0;34m\u001b[0m\u001b[0;34m\u001b[0m\u001b[0m\n\u001b[0m\u001b[1;32m     46\u001b[0m \u001b[0;34m\u001b[0m\u001b[0m\n\u001b[1;32m     47\u001b[0m     \u001b[0;32mdef\u001b[0m \u001b[0mpredict\u001b[0m\u001b[0;34m(\u001b[0m\u001b[0mself\u001b[0m\u001b[0;34m,\u001b[0m \u001b[0mX\u001b[0m\u001b[0;34m,\u001b[0m \u001b[0;34m**\u001b[0m\u001b[0mkwargs\u001b[0m\u001b[0;34m)\u001b[0m\u001b[0;34m:\u001b[0m\u001b[0;34m\u001b[0m\u001b[0;34m\u001b[0m\u001b[0m\n",
      "\u001b[0;32m~/Documents/Research/summit/summit/utils/models.py\u001b[0m in \u001b[0;36mfit\u001b[0;34m(self, X, y, **kwargs)\u001b[0m\n\u001b[1;32m    193\u001b[0m                                           \u001b[0mverbose\u001b[0m\u001b[0;34m=\u001b[0m\u001b[0mverbose\u001b[0m\u001b[0;34m,\u001b[0m\u001b[0;34m\u001b[0m\u001b[0;34m\u001b[0m\u001b[0m\n\u001b[1;32m    194\u001b[0m                                           \u001b[0mmax_iters\u001b[0m\u001b[0;34m=\u001b[0m\u001b[0mmax_iters\u001b[0m\u001b[0;34m,\u001b[0m\u001b[0;34m\u001b[0m\u001b[0;34m\u001b[0m\u001b[0m\n\u001b[0;32m--> 195\u001b[0;31m                                           parallel=parallel)\n\u001b[0m\u001b[1;32m    196\u001b[0m         \u001b[0;32mif\u001b[0m \u001b[0mspectral_sample\u001b[0m\u001b[0;34m:\u001b[0m\u001b[0;34m\u001b[0m\u001b[0;34m\u001b[0m\u001b[0m\n\u001b[1;32m    197\u001b[0m             \u001b[0mself\u001b[0m\u001b[0;34m.\u001b[0m\u001b[0mspectral_sample\u001b[0m\u001b[0;34m(\u001b[0m\u001b[0mX\u001b[0m\u001b[0;34m,\u001b[0m \u001b[0my\u001b[0m\u001b[0;34m)\u001b[0m\u001b[0;34m\u001b[0m\u001b[0;34m\u001b[0m\u001b[0m\n",
      "\u001b[0;32m~/Library/Caches/pypoetry/virtualenvs/summit-TfmmV07p-py3.7/lib/python3.7/site-packages/paramz/model.py\u001b[0m in \u001b[0;36moptimize_restarts\u001b[0;34m(self, num_restarts, robust, verbose, parallel, num_processes, **kwargs)\u001b[0m\n\u001b[1;32m    180\u001b[0m                     \u001b[0mprint\u001b[0m\u001b[0;34m(\u001b[0m\u001b[0;34m(\u001b[0m\u001b[0;34m\"Warning - optimization restart {0}/{1} failed\"\u001b[0m\u001b[0;34m.\u001b[0m\u001b[0mformat\u001b[0m\u001b[0;34m(\u001b[0m\u001b[0mi\u001b[0m \u001b[0;34m+\u001b[0m \u001b[0;36m1\u001b[0m\u001b[0;34m,\u001b[0m \u001b[0mnum_restarts\u001b[0m\u001b[0;34m)\u001b[0m\u001b[0;34m)\u001b[0m\u001b[0;34m)\u001b[0m\u001b[0;34m\u001b[0m\u001b[0;34m\u001b[0m\u001b[0m\n\u001b[1;32m    181\u001b[0m                 \u001b[0;32melse\u001b[0m\u001b[0;34m:\u001b[0m\u001b[0;34m\u001b[0m\u001b[0;34m\u001b[0m\u001b[0m\n\u001b[0;32m--> 182\u001b[0;31m                     \u001b[0;32mraise\u001b[0m \u001b[0me\u001b[0m\u001b[0;34m\u001b[0m\u001b[0;34m\u001b[0m\u001b[0m\n\u001b[0m\u001b[1;32m    183\u001b[0m \u001b[0;34m\u001b[0m\u001b[0m\n\u001b[1;32m    184\u001b[0m         \u001b[0;32mif\u001b[0m \u001b[0mlen\u001b[0m\u001b[0;34m(\u001b[0m\u001b[0mself\u001b[0m\u001b[0;34m.\u001b[0m\u001b[0moptimization_runs\u001b[0m\u001b[0;34m)\u001b[0m \u001b[0;34m>\u001b[0m \u001b[0minitial_length\u001b[0m\u001b[0;34m:\u001b[0m\u001b[0;34m\u001b[0m\u001b[0;34m\u001b[0m\u001b[0m\n",
      "\u001b[0;32m~/Library/Caches/pypoetry/virtualenvs/summit-TfmmV07p-py3.7/lib/python3.7/site-packages/paramz/model.py\u001b[0m in \u001b[0;36moptimize_restarts\u001b[0;34m(self, num_restarts, robust, verbose, parallel, num_processes, **kwargs)\u001b[0m\n\u001b[1;32m    169\u001b[0m                 \u001b[0;32mif\u001b[0m \u001b[0;32mnot\u001b[0m \u001b[0mparallel\u001b[0m\u001b[0;34m:\u001b[0m\u001b[0;34m\u001b[0m\u001b[0;34m\u001b[0m\u001b[0m\n\u001b[1;32m    170\u001b[0m                     \u001b[0;32mif\u001b[0m \u001b[0mi\u001b[0m \u001b[0;34m>\u001b[0m \u001b[0;36m0\u001b[0m\u001b[0;34m:\u001b[0m\u001b[0;34m\u001b[0m\u001b[0;34m\u001b[0m\u001b[0m\n\u001b[0;32m--> 171\u001b[0;31m                         \u001b[0mself\u001b[0m\u001b[0;34m.\u001b[0m\u001b[0mrandomize\u001b[0m\u001b[0;34m(\u001b[0m\u001b[0;34m)\u001b[0m\u001b[0;34m\u001b[0m\u001b[0;34m\u001b[0m\u001b[0m\n\u001b[0m\u001b[1;32m    172\u001b[0m                     \u001b[0mself\u001b[0m\u001b[0;34m.\u001b[0m\u001b[0moptimize\u001b[0m\u001b[0;34m(\u001b[0m\u001b[0;34m**\u001b[0m\u001b[0mkwargs\u001b[0m\u001b[0;34m)\u001b[0m\u001b[0;34m\u001b[0m\u001b[0;34m\u001b[0m\u001b[0m\n\u001b[1;32m    173\u001b[0m                 \u001b[0;32melse\u001b[0m\u001b[0;34m:\u001b[0m\u001b[0;31m#pragma: no cover\u001b[0m\u001b[0;34m\u001b[0m\u001b[0;34m\u001b[0m\u001b[0m\n",
      "\u001b[0;32m~/Library/Caches/pypoetry/virtualenvs/summit-TfmmV07p-py3.7/lib/python3.7/site-packages/GPy/core/__init__.py\u001b[0m in \u001b[0;36mrandomize\u001b[0;34m(self, rand_gen, *args, **kwargs)\u001b[0m\n\u001b[1;32m     41\u001b[0m     \u001b[0munfixlist\u001b[0m\u001b[0;34m[\u001b[0m\u001b[0mself\u001b[0m\u001b[0;34m.\u001b[0m\u001b[0mconstraints\u001b[0m\u001b[0;34m[\u001b[0m\u001b[0m__fixed__\u001b[0m\u001b[0;34m]\u001b[0m\u001b[0;34m]\u001b[0m \u001b[0;34m=\u001b[0m \u001b[0;32mFalse\u001b[0m\u001b[0;34m\u001b[0m\u001b[0;34m\u001b[0m\u001b[0m\n\u001b[1;32m     42\u001b[0m     \u001b[0mself\u001b[0m\u001b[0;34m.\u001b[0m\u001b[0mparam_array\u001b[0m\u001b[0;34m.\u001b[0m\u001b[0mflat\u001b[0m\u001b[0;34m[\u001b[0m\u001b[0munfixlist\u001b[0m\u001b[0;34m]\u001b[0m \u001b[0;34m=\u001b[0m \u001b[0mx\u001b[0m\u001b[0;34m.\u001b[0m\u001b[0mview\u001b[0m\u001b[0;34m(\u001b[0m\u001b[0mnp\u001b[0m\u001b[0;34m.\u001b[0m\u001b[0mndarray\u001b[0m\u001b[0;34m)\u001b[0m\u001b[0;34m.\u001b[0m\u001b[0mravel\u001b[0m\u001b[0;34m(\u001b[0m\u001b[0;34m)\u001b[0m\u001b[0;34m[\u001b[0m\u001b[0munfixlist\u001b[0m\u001b[0;34m]\u001b[0m\u001b[0;34m\u001b[0m\u001b[0;34m\u001b[0m\u001b[0m\n\u001b[0;32m---> 43\u001b[0;31m     \u001b[0mself\u001b[0m\u001b[0;34m.\u001b[0m\u001b[0mupdate_model\u001b[0m\u001b[0;34m(\u001b[0m\u001b[0mupdates\u001b[0m\u001b[0;34m)\u001b[0m\u001b[0;34m\u001b[0m\u001b[0;34m\u001b[0m\u001b[0m\n\u001b[0m\u001b[1;32m     44\u001b[0m \u001b[0;34m\u001b[0m\u001b[0m\n\u001b[1;32m     45\u001b[0m \u001b[0mModel\u001b[0m\u001b[0;34m.\u001b[0m\u001b[0mrandomize\u001b[0m \u001b[0;34m=\u001b[0m \u001b[0mrandomize\u001b[0m\u001b[0;34m\u001b[0m\u001b[0;34m\u001b[0m\u001b[0m\n",
      "\u001b[0;32m~/Library/Caches/pypoetry/virtualenvs/summit-TfmmV07p-py3.7/lib/python3.7/site-packages/paramz/core/updateable.py\u001b[0m in \u001b[0;36mupdate_model\u001b[0;34m(self, updates)\u001b[0m\n\u001b[1;32m     58\u001b[0m             \u001b[0ms\u001b[0m\u001b[0;34m.\u001b[0m\u001b[0m_update_on\u001b[0m \u001b[0;34m=\u001b[0m \u001b[0mupdates\u001b[0m\u001b[0;34m\u001b[0m\u001b[0;34m\u001b[0m\u001b[0m\n\u001b[1;32m     59\u001b[0m         \u001b[0mp\u001b[0m\u001b[0;34m.\u001b[0m\u001b[0mtraverse\u001b[0m\u001b[0;34m(\u001b[0m\u001b[0mturn_updates\u001b[0m\u001b[0;34m)\u001b[0m\u001b[0;34m\u001b[0m\u001b[0;34m\u001b[0m\u001b[0m\n\u001b[0;32m---> 60\u001b[0;31m         \u001b[0mself\u001b[0m\u001b[0;34m.\u001b[0m\u001b[0mtrigger_update\u001b[0m\u001b[0;34m(\u001b[0m\u001b[0;34m)\u001b[0m\u001b[0;34m\u001b[0m\u001b[0;34m\u001b[0m\u001b[0m\n\u001b[0m\u001b[1;32m     61\u001b[0m \u001b[0;34m\u001b[0m\u001b[0m\n\u001b[1;32m     62\u001b[0m     \u001b[0;32mdef\u001b[0m \u001b[0mtoggle_update\u001b[0m\u001b[0;34m(\u001b[0m\u001b[0mself\u001b[0m\u001b[0;34m)\u001b[0m\u001b[0;34m:\u001b[0m\u001b[0;34m\u001b[0m\u001b[0;34m\u001b[0m\u001b[0m\n",
      "\u001b[0;32m~/Library/Caches/pypoetry/virtualenvs/summit-TfmmV07p-py3.7/lib/python3.7/site-packages/paramz/core/updateable.py\u001b[0m in \u001b[0;36mtrigger_update\u001b[0;34m(self, trigger_parent)\u001b[0m\n\u001b[1;32m     77\u001b[0m             \u001b[0;31m#print \"Warning: updates are off, updating the model will do nothing\"\u001b[0m\u001b[0;34m\u001b[0m\u001b[0;34m\u001b[0m\u001b[0;34m\u001b[0m\u001b[0m\n\u001b[1;32m     78\u001b[0m             \u001b[0;32mreturn\u001b[0m\u001b[0;34m\u001b[0m\u001b[0;34m\u001b[0m\u001b[0m\n\u001b[0;32m---> 79\u001b[0;31m         \u001b[0mself\u001b[0m\u001b[0;34m.\u001b[0m\u001b[0m_trigger_params_changed\u001b[0m\u001b[0;34m(\u001b[0m\u001b[0mtrigger_parent\u001b[0m\u001b[0;34m)\u001b[0m\u001b[0;34m\u001b[0m\u001b[0;34m\u001b[0m\u001b[0m\n\u001b[0m",
      "\u001b[0;32m~/Library/Caches/pypoetry/virtualenvs/summit-TfmmV07p-py3.7/lib/python3.7/site-packages/paramz/core/parameter_core.py\u001b[0m in \u001b[0;36m_trigger_params_changed\u001b[0;34m(self, trigger_parent)\u001b[0m\n\u001b[1;32m    132\u001b[0m         \"\"\"\n\u001b[1;32m    133\u001b[0m         \u001b[0;34m[\u001b[0m\u001b[0mp\u001b[0m\u001b[0;34m.\u001b[0m\u001b[0m_trigger_params_changed\u001b[0m\u001b[0;34m(\u001b[0m\u001b[0mtrigger_parent\u001b[0m\u001b[0;34m=\u001b[0m\u001b[0;32mFalse\u001b[0m\u001b[0;34m)\u001b[0m \u001b[0;32mfor\u001b[0m \u001b[0mp\u001b[0m \u001b[0;32min\u001b[0m \u001b[0mself\u001b[0m\u001b[0;34m.\u001b[0m\u001b[0mparameters\u001b[0m \u001b[0;32mif\u001b[0m \u001b[0;32mnot\u001b[0m \u001b[0mp\u001b[0m\u001b[0;34m.\u001b[0m\u001b[0mis_fixed\u001b[0m\u001b[0;34m]\u001b[0m\u001b[0;34m\u001b[0m\u001b[0;34m\u001b[0m\u001b[0m\n\u001b[0;32m--> 134\u001b[0;31m         \u001b[0mself\u001b[0m\u001b[0;34m.\u001b[0m\u001b[0mnotify_observers\u001b[0m\u001b[0;34m(\u001b[0m\u001b[0;32mNone\u001b[0m\u001b[0;34m,\u001b[0m \u001b[0;32mNone\u001b[0m \u001b[0;32mif\u001b[0m \u001b[0mtrigger_parent\u001b[0m \u001b[0;32melse\u001b[0m \u001b[0;34m-\u001b[0m\u001b[0mnp\u001b[0m\u001b[0;34m.\u001b[0m\u001b[0minf\u001b[0m\u001b[0;34m)\u001b[0m\u001b[0;34m\u001b[0m\u001b[0;34m\u001b[0m\u001b[0m\n\u001b[0m\u001b[1;32m    135\u001b[0m \u001b[0;34m\u001b[0m\u001b[0m\n\u001b[1;32m    136\u001b[0m     \u001b[0;32mdef\u001b[0m \u001b[0m_size_transformed\u001b[0m\u001b[0;34m(\u001b[0m\u001b[0mself\u001b[0m\u001b[0;34m)\u001b[0m\u001b[0;34m:\u001b[0m\u001b[0;34m\u001b[0m\u001b[0;34m\u001b[0m\u001b[0m\n",
      "\u001b[0;32m~/Library/Caches/pypoetry/virtualenvs/summit-TfmmV07p-py3.7/lib/python3.7/site-packages/paramz/core/observable.py\u001b[0m in \u001b[0;36mnotify_observers\u001b[0;34m(self, which, min_priority)\u001b[0m\n\u001b[1;32m     89\u001b[0m                 \u001b[0mwhich\u001b[0m \u001b[0;34m=\u001b[0m \u001b[0mself\u001b[0m\u001b[0;34m\u001b[0m\u001b[0;34m\u001b[0m\u001b[0m\n\u001b[1;32m     90\u001b[0m             \u001b[0;32mif\u001b[0m \u001b[0mmin_priority\u001b[0m \u001b[0;32mis\u001b[0m \u001b[0;32mNone\u001b[0m\u001b[0;34m:\u001b[0m\u001b[0;34m\u001b[0m\u001b[0;34m\u001b[0m\u001b[0m\n\u001b[0;32m---> 91\u001b[0;31m                 \u001b[0;34m[\u001b[0m\u001b[0mcallble\u001b[0m\u001b[0;34m(\u001b[0m\u001b[0mself\u001b[0m\u001b[0;34m,\u001b[0m \u001b[0mwhich\u001b[0m\u001b[0;34m=\u001b[0m\u001b[0mwhich\u001b[0m\u001b[0;34m)\u001b[0m \u001b[0;32mfor\u001b[0m \u001b[0m_\u001b[0m\u001b[0;34m,\u001b[0m \u001b[0m_\u001b[0m\u001b[0;34m,\u001b[0m \u001b[0mcallble\u001b[0m \u001b[0;32min\u001b[0m \u001b[0mself\u001b[0m\u001b[0;34m.\u001b[0m\u001b[0mobservers\u001b[0m\u001b[0;34m]\u001b[0m\u001b[0;34m\u001b[0m\u001b[0;34m\u001b[0m\u001b[0m\n\u001b[0m\u001b[1;32m     92\u001b[0m             \u001b[0;32melse\u001b[0m\u001b[0;34m:\u001b[0m\u001b[0;34m\u001b[0m\u001b[0;34m\u001b[0m\u001b[0m\n\u001b[1;32m     93\u001b[0m                 \u001b[0;32mfor\u001b[0m \u001b[0mp\u001b[0m\u001b[0;34m,\u001b[0m \u001b[0m_\u001b[0m\u001b[0;34m,\u001b[0m \u001b[0mcallble\u001b[0m \u001b[0;32min\u001b[0m \u001b[0mself\u001b[0m\u001b[0;34m.\u001b[0m\u001b[0mobservers\u001b[0m\u001b[0;34m:\u001b[0m\u001b[0;34m\u001b[0m\u001b[0;34m\u001b[0m\u001b[0m\n",
      "\u001b[0;32m~/Library/Caches/pypoetry/virtualenvs/summit-TfmmV07p-py3.7/lib/python3.7/site-packages/paramz/core/observable.py\u001b[0m in \u001b[0;36m<listcomp>\u001b[0;34m(.0)\u001b[0m\n\u001b[1;32m     89\u001b[0m                 \u001b[0mwhich\u001b[0m \u001b[0;34m=\u001b[0m \u001b[0mself\u001b[0m\u001b[0;34m\u001b[0m\u001b[0;34m\u001b[0m\u001b[0m\n\u001b[1;32m     90\u001b[0m             \u001b[0;32mif\u001b[0m \u001b[0mmin_priority\u001b[0m \u001b[0;32mis\u001b[0m \u001b[0;32mNone\u001b[0m\u001b[0;34m:\u001b[0m\u001b[0;34m\u001b[0m\u001b[0;34m\u001b[0m\u001b[0m\n\u001b[0;32m---> 91\u001b[0;31m                 \u001b[0;34m[\u001b[0m\u001b[0mcallble\u001b[0m\u001b[0;34m(\u001b[0m\u001b[0mself\u001b[0m\u001b[0;34m,\u001b[0m \u001b[0mwhich\u001b[0m\u001b[0;34m=\u001b[0m\u001b[0mwhich\u001b[0m\u001b[0;34m)\u001b[0m \u001b[0;32mfor\u001b[0m \u001b[0m_\u001b[0m\u001b[0;34m,\u001b[0m \u001b[0m_\u001b[0m\u001b[0;34m,\u001b[0m \u001b[0mcallble\u001b[0m \u001b[0;32min\u001b[0m \u001b[0mself\u001b[0m\u001b[0;34m.\u001b[0m\u001b[0mobservers\u001b[0m\u001b[0;34m]\u001b[0m\u001b[0;34m\u001b[0m\u001b[0;34m\u001b[0m\u001b[0m\n\u001b[0m\u001b[1;32m     92\u001b[0m             \u001b[0;32melse\u001b[0m\u001b[0;34m:\u001b[0m\u001b[0;34m\u001b[0m\u001b[0;34m\u001b[0m\u001b[0m\n\u001b[1;32m     93\u001b[0m                 \u001b[0;32mfor\u001b[0m \u001b[0mp\u001b[0m\u001b[0;34m,\u001b[0m \u001b[0m_\u001b[0m\u001b[0;34m,\u001b[0m \u001b[0mcallble\u001b[0m \u001b[0;32min\u001b[0m \u001b[0mself\u001b[0m\u001b[0;34m.\u001b[0m\u001b[0mobservers\u001b[0m\u001b[0;34m:\u001b[0m\u001b[0;34m\u001b[0m\u001b[0;34m\u001b[0m\u001b[0m\n",
      "\u001b[0;32m~/Library/Caches/pypoetry/virtualenvs/summit-TfmmV07p-py3.7/lib/python3.7/site-packages/paramz/core/parameter_core.py\u001b[0m in \u001b[0;36m_parameters_changed_notification\u001b[0;34m(self, me, which)\u001b[0m\n\u001b[1;32m    506\u001b[0m         \"\"\"\n\u001b[1;32m    507\u001b[0m         \u001b[0mself\u001b[0m\u001b[0;34m.\u001b[0m\u001b[0m_optimizer_copy_transformed\u001b[0m \u001b[0;34m=\u001b[0m \u001b[0;32mFalse\u001b[0m \u001b[0;31m# tells the optimizer array to update on next request\u001b[0m\u001b[0;34m\u001b[0m\u001b[0;34m\u001b[0m\u001b[0m\n\u001b[0;32m--> 508\u001b[0;31m         \u001b[0mself\u001b[0m\u001b[0;34m.\u001b[0m\u001b[0mparameters_changed\u001b[0m\u001b[0;34m(\u001b[0m\u001b[0;34m)\u001b[0m\u001b[0;34m\u001b[0m\u001b[0;34m\u001b[0m\u001b[0m\n\u001b[0m\u001b[1;32m    509\u001b[0m     \u001b[0;32mdef\u001b[0m \u001b[0m_pass_through_notify_observers\u001b[0m\u001b[0;34m(\u001b[0m\u001b[0mself\u001b[0m\u001b[0;34m,\u001b[0m \u001b[0mme\u001b[0m\u001b[0;34m,\u001b[0m \u001b[0mwhich\u001b[0m\u001b[0;34m=\u001b[0m\u001b[0;32mNone\u001b[0m\u001b[0;34m)\u001b[0m\u001b[0;34m:\u001b[0m\u001b[0;34m\u001b[0m\u001b[0;34m\u001b[0m\u001b[0m\n\u001b[1;32m    510\u001b[0m         \u001b[0mself\u001b[0m\u001b[0;34m.\u001b[0m\u001b[0mnotify_observers\u001b[0m\u001b[0;34m(\u001b[0m\u001b[0mwhich\u001b[0m\u001b[0;34m=\u001b[0m\u001b[0mwhich\u001b[0m\u001b[0;34m)\u001b[0m\u001b[0;34m\u001b[0m\u001b[0;34m\u001b[0m\u001b[0m\n",
      "\u001b[0;32m~/Library/Caches/pypoetry/virtualenvs/summit-TfmmV07p-py3.7/lib/python3.7/site-packages/GPy/core/gp.py\u001b[0m in \u001b[0;36mparameters_changed\u001b[0;34m(self)\u001b[0m\n\u001b[1;32m    265\u001b[0m             \u001b[0mthis\u001b[0m \u001b[0mmethod\u001b[0m \u001b[0myourself\u001b[0m\u001b[0;34m,\u001b[0m \u001b[0mthere\u001b[0m \u001b[0mmay\u001b[0m \u001b[0mbe\u001b[0m \u001b[0munexpected\u001b[0m \u001b[0mconsequences\u001b[0m\u001b[0;34m.\u001b[0m\u001b[0;34m\u001b[0m\u001b[0;34m\u001b[0m\u001b[0m\n\u001b[1;32m    266\u001b[0m         \"\"\"\n\u001b[0;32m--> 267\u001b[0;31m         \u001b[0mself\u001b[0m\u001b[0;34m.\u001b[0m\u001b[0mposterior\u001b[0m\u001b[0;34m,\u001b[0m \u001b[0mself\u001b[0m\u001b[0;34m.\u001b[0m\u001b[0m_log_marginal_likelihood\u001b[0m\u001b[0;34m,\u001b[0m \u001b[0mself\u001b[0m\u001b[0;34m.\u001b[0m\u001b[0mgrad_dict\u001b[0m \u001b[0;34m=\u001b[0m \u001b[0mself\u001b[0m\u001b[0;34m.\u001b[0m\u001b[0minference_method\u001b[0m\u001b[0;34m.\u001b[0m\u001b[0minference\u001b[0m\u001b[0;34m(\u001b[0m\u001b[0mself\u001b[0m\u001b[0;34m.\u001b[0m\u001b[0mkern\u001b[0m\u001b[0;34m,\u001b[0m \u001b[0mself\u001b[0m\u001b[0;34m.\u001b[0m\u001b[0mX\u001b[0m\u001b[0;34m,\u001b[0m \u001b[0mself\u001b[0m\u001b[0;34m.\u001b[0m\u001b[0mlikelihood\u001b[0m\u001b[0;34m,\u001b[0m \u001b[0mself\u001b[0m\u001b[0;34m.\u001b[0m\u001b[0mY_normalized\u001b[0m\u001b[0;34m,\u001b[0m \u001b[0mself\u001b[0m\u001b[0;34m.\u001b[0m\u001b[0mmean_function\u001b[0m\u001b[0;34m,\u001b[0m \u001b[0mself\u001b[0m\u001b[0;34m.\u001b[0m\u001b[0mY_metadata\u001b[0m\u001b[0;34m)\u001b[0m\u001b[0;34m\u001b[0m\u001b[0;34m\u001b[0m\u001b[0m\n\u001b[0m\u001b[1;32m    268\u001b[0m         \u001b[0mself\u001b[0m\u001b[0;34m.\u001b[0m\u001b[0mlikelihood\u001b[0m\u001b[0;34m.\u001b[0m\u001b[0mupdate_gradients\u001b[0m\u001b[0;34m(\u001b[0m\u001b[0mself\u001b[0m\u001b[0;34m.\u001b[0m\u001b[0mgrad_dict\u001b[0m\u001b[0;34m[\u001b[0m\u001b[0;34m'dL_dthetaL'\u001b[0m\u001b[0;34m]\u001b[0m\u001b[0;34m)\u001b[0m\u001b[0;34m\u001b[0m\u001b[0;34m\u001b[0m\u001b[0m\n\u001b[1;32m    269\u001b[0m         \u001b[0mself\u001b[0m\u001b[0;34m.\u001b[0m\u001b[0mkern\u001b[0m\u001b[0;34m.\u001b[0m\u001b[0mupdate_gradients_full\u001b[0m\u001b[0;34m(\u001b[0m\u001b[0mself\u001b[0m\u001b[0;34m.\u001b[0m\u001b[0mgrad_dict\u001b[0m\u001b[0;34m[\u001b[0m\u001b[0;34m'dL_dK'\u001b[0m\u001b[0;34m]\u001b[0m\u001b[0;34m,\u001b[0m \u001b[0mself\u001b[0m\u001b[0;34m.\u001b[0m\u001b[0mX\u001b[0m\u001b[0;34m)\u001b[0m\u001b[0;34m\u001b[0m\u001b[0;34m\u001b[0m\u001b[0m\n",
      "\u001b[0;32m~/Library/Caches/pypoetry/virtualenvs/summit-TfmmV07p-py3.7/lib/python3.7/site-packages/GPy/inference/latent_function_inference/exact_gaussian_inference.py\u001b[0m in \u001b[0;36minference\u001b[0;34m(self, kern, X, likelihood, Y, mean_function, Y_metadata, K, variance, Z_tilde)\u001b[0m\n\u001b[1;32m     56\u001b[0m         \u001b[0mdiag\u001b[0m\u001b[0;34m.\u001b[0m\u001b[0madd\u001b[0m\u001b[0;34m(\u001b[0m\u001b[0mKy\u001b[0m\u001b[0;34m,\u001b[0m \u001b[0mvariance\u001b[0m\u001b[0;34m+\u001b[0m\u001b[0;36m1e-8\u001b[0m\u001b[0;34m)\u001b[0m\u001b[0;34m\u001b[0m\u001b[0;34m\u001b[0m\u001b[0m\n\u001b[1;32m     57\u001b[0m \u001b[0;34m\u001b[0m\u001b[0m\n\u001b[0;32m---> 58\u001b[0;31m         \u001b[0mWi\u001b[0m\u001b[0;34m,\u001b[0m \u001b[0mLW\u001b[0m\u001b[0;34m,\u001b[0m \u001b[0mLWi\u001b[0m\u001b[0;34m,\u001b[0m \u001b[0mW_logdet\u001b[0m \u001b[0;34m=\u001b[0m \u001b[0mpdinv\u001b[0m\u001b[0;34m(\u001b[0m\u001b[0mKy\u001b[0m\u001b[0;34m)\u001b[0m\u001b[0;34m\u001b[0m\u001b[0;34m\u001b[0m\u001b[0m\n\u001b[0m\u001b[1;32m     59\u001b[0m \u001b[0;34m\u001b[0m\u001b[0m\n\u001b[1;32m     60\u001b[0m         \u001b[0malpha\u001b[0m\u001b[0;34m,\u001b[0m \u001b[0m_\u001b[0m \u001b[0;34m=\u001b[0m \u001b[0mdpotrs\u001b[0m\u001b[0;34m(\u001b[0m\u001b[0mLW\u001b[0m\u001b[0;34m,\u001b[0m \u001b[0mYYT_factor\u001b[0m\u001b[0;34m,\u001b[0m \u001b[0mlower\u001b[0m\u001b[0;34m=\u001b[0m\u001b[0;36m1\u001b[0m\u001b[0;34m)\u001b[0m\u001b[0;34m\u001b[0m\u001b[0;34m\u001b[0m\u001b[0m\n",
      "\u001b[0;32m~/Library/Caches/pypoetry/virtualenvs/summit-TfmmV07p-py3.7/lib/python3.7/site-packages/GPy/util/linalg.py\u001b[0m in \u001b[0;36mpdinv\u001b[0;34m(A, *args)\u001b[0m\n\u001b[1;32m    205\u001b[0m \u001b[0;34m\u001b[0m\u001b[0m\n\u001b[1;32m    206\u001b[0m     \"\"\"\n\u001b[0;32m--> 207\u001b[0;31m     \u001b[0mL\u001b[0m \u001b[0;34m=\u001b[0m \u001b[0mjitchol\u001b[0m\u001b[0;34m(\u001b[0m\u001b[0mA\u001b[0m\u001b[0;34m,\u001b[0m \u001b[0;34m*\u001b[0m\u001b[0margs\u001b[0m\u001b[0;34m)\u001b[0m\u001b[0;34m\u001b[0m\u001b[0;34m\u001b[0m\u001b[0m\n\u001b[0m\u001b[1;32m    208\u001b[0m     \u001b[0mlogdet\u001b[0m \u001b[0;34m=\u001b[0m \u001b[0;36m2.\u001b[0m\u001b[0;34m*\u001b[0m\u001b[0mnp\u001b[0m\u001b[0;34m.\u001b[0m\u001b[0msum\u001b[0m\u001b[0;34m(\u001b[0m\u001b[0mnp\u001b[0m\u001b[0;34m.\u001b[0m\u001b[0mlog\u001b[0m\u001b[0;34m(\u001b[0m\u001b[0mnp\u001b[0m\u001b[0;34m.\u001b[0m\u001b[0mdiag\u001b[0m\u001b[0;34m(\u001b[0m\u001b[0mL\u001b[0m\u001b[0;34m)\u001b[0m\u001b[0;34m)\u001b[0m\u001b[0;34m)\u001b[0m\u001b[0;34m\u001b[0m\u001b[0;34m\u001b[0m\u001b[0m\n\u001b[1;32m    209\u001b[0m     \u001b[0mLi\u001b[0m \u001b[0;34m=\u001b[0m \u001b[0mdtrtri\u001b[0m\u001b[0;34m(\u001b[0m\u001b[0mL\u001b[0m\u001b[0;34m)\u001b[0m\u001b[0;34m\u001b[0m\u001b[0;34m\u001b[0m\u001b[0m\n",
      "\u001b[0;32m~/Library/Caches/pypoetry/virtualenvs/summit-TfmmV07p-py3.7/lib/python3.7/site-packages/GPy/util/linalg.py\u001b[0m in \u001b[0;36mjitchol\u001b[0;34m(A, maxtries)\u001b[0m\n\u001b[1;32m     73\u001b[0m             \u001b[0;32mfinally\u001b[0m\u001b[0;34m:\u001b[0m\u001b[0;34m\u001b[0m\u001b[0;34m\u001b[0m\u001b[0m\n\u001b[1;32m     74\u001b[0m                 \u001b[0mnum_tries\u001b[0m \u001b[0;34m+=\u001b[0m \u001b[0;36m1\u001b[0m\u001b[0;34m\u001b[0m\u001b[0;34m\u001b[0m\u001b[0m\n\u001b[0;32m---> 75\u001b[0;31m         \u001b[0;32mraise\u001b[0m \u001b[0mlinalg\u001b[0m\u001b[0;34m.\u001b[0m\u001b[0mLinAlgError\u001b[0m\u001b[0;34m(\u001b[0m\u001b[0;34m\"not positive definite, even with jitter.\"\u001b[0m\u001b[0;34m)\u001b[0m\u001b[0;34m\u001b[0m\u001b[0;34m\u001b[0m\u001b[0m\n\u001b[0m\u001b[1;32m     76\u001b[0m     \u001b[0;32mimport\u001b[0m \u001b[0mtraceback\u001b[0m\u001b[0;34m\u001b[0m\u001b[0;34m\u001b[0m\u001b[0m\n\u001b[1;32m     77\u001b[0m     \u001b[0;32mtry\u001b[0m\u001b[0;34m:\u001b[0m \u001b[0;32mraise\u001b[0m\u001b[0;34m\u001b[0m\u001b[0;34m\u001b[0m\u001b[0m\n",
      "\u001b[0;31mLinAlgError\u001b[0m: not positive definite, even with jitter."
     ]
    }
   ],
   "source": [
    "kerns = [GPy.kern.Matern52(input_dim=6,ARD=True) for i in range(2)]\n",
    "models = ModelGroup({'y_0':GPyModel(kernel=kerns[0],noise_var=1e-2), 'y_1':GPyModel(kernel=kerns[1], noise_var=1e-2)})\n",
    "models.fit(scaled_inputs, \n",
    "           scaled_outputs,\n",
    "           spectral_sample=False,\n",
    "           num_restarts=200,\n",
    "           n_spectral_points=4000)\n",
    "models['y_0']._model"
   ]
  },
  {
   "cell_type": "code",
   "execution_count": 72,
   "metadata": {},
   "outputs": [
    {
     "data": {
      "text/plain": [
       "NAME  TYPE\n",
       "x_0   DATA    1.666667e-02\n",
       "x_1   DATA    9.974041e-02\n",
       "x_2   DATA    2.062926e+05\n",
       "x_3   DATA    1.223569e+06\n",
       "x_4   DATA    1.279186e+06\n",
       "x_5   DATA    1.258676e+02\n",
       "dtype: float64"
      ]
     },
     "execution_count": 72,
     "metadata": {},
     "output_type": "execute_result"
    }
   ],
   "source": [
    "lengthscales = models['y_0'].hyperparameters[0]\n",
    "lengthscales = lengthscales*(input_max-input_min)+input_min\n",
    "lengthscales"
   ]
  },
  {
   "cell_type": "code",
   "execution_count": 59,
   "metadata": {},
   "outputs": [
    {
     "data": {
      "text/plain": [
       "TYPE\n",
       "DATA    0.844996\n",
       "dtype: float64"
      ]
     },
     "execution_count": 59,
     "metadata": {},
     "output_type": "execute_result"
    }
   ],
   "source": [
    "variance = models['y_0'].hyperparameters[1]\n",
    "variance = variance*output_std['y_0']\n",
    "variance"
   ]
  },
  {
   "cell_type": "code",
   "execution_count": 60,
   "metadata": {},
   "outputs": [
    {
     "data": {
      "text/plain": [
       "TYPE\n",
       "DATA    0.001058\n",
       "dtype: float64"
      ]
     },
     "execution_count": 60,
     "metadata": {},
     "output_type": "execute_result"
    }
   ],
   "source": [
    "models['y_0'].hyperparameters[2]*output_std['y_0']"
   ]
  },
  {
   "cell_type": "code",
   "execution_count": 15,
   "metadata": {},
   "outputs": [],
   "source": [
    "dtlz2 = DTLZ2(6,2)\n",
    "problem = TSEMOInternalWrapper(models, dtlz2.domain)\n",
    "algorithm = NSGA2(pop_size=100)\n",
    "\n",
    "res = minimize(problem,\n",
    "               algorithm,\n",
    "               ('n_gen', 100),\n",
    "               seed=1,\n",
    "               verbose=False)"
   ]
  },
  {
   "cell_type": "code",
   "execution_count": 16,
   "metadata": {},
   "outputs": [
    {
     "data": {
      "image/png": "[encoded data removed]",
      "text/plain": [
       "<Figure size 576x432 with 1 Axes>"
      ]
     },
     "metadata": {
      "needs_background": "light"
     },
     "output_type": "display_data"
    }
   ],
   "source": [
    "plot = Scatter()\n",
    "\n",
    "y = res.F*output_std.to_numpy() + output_mean.to_numpy()\n",
    "plot.add(y, color=\"red\")\n",
    "\n",
    "problem = get_problem(\"dtlz2\", n_var=6, n_obj=2)\n",
    "X_unscaled = res.X*(input_max.to_numpy()-input_min.to_numpy())+input_min.to_numpy()\n",
    "y_real = problem.evaluate(X_unscaled)\n",
    "plot.add(y_real, color=\"blue\")\n",
    "plot.show()"
   ]
  },
  {
   "cell_type": "markdown",
   "metadata": {},
   "source": [
    "What I am noticing is that the results are highly dependent on the quality of the data. This is because of the nature of the GP models.\n",
    "\n",
    "The above graph is simply a different set of data the one in the previous section, and you get a totally different quality of model."
   ]
  },
  {
   "cell_type": "code",
   "execution_count": 79,
   "metadata": {},
   "outputs": [
    {
     "data": {
      "text/plain": [
       "array([0.98329005, 0.98022184, 0.97862049, 0.51376056, 0.98268438,\n",
       "       0.98328265])"
      ]
     },
     "execution_count": 79,
     "metadata": {},
     "output_type": "execute_result"
    }
   ],
   "source": [
    "X_unscaled.max(axis=0)"
   ]
  },
  {
   "cell_type": "code",
   "execution_count": null,
   "metadata": {},
   "outputs": [],
   "source": []
  }
 ],
 "metadata": {
  "kernelspec": {
   "display_name": "Python 3.7.3 64-bit ('summit-TfmmV07p-py3.7': venv)",
   "language": "python",
   "name": "python37364bitsummittfmmv07ppy37venv6fc212842bc44e839a51e6623a646abd"
  },
  "language_info": {
   "codemirror_mode": {
    "name": "ipython",
    "version": 3
   },
   "file_extension": ".py",
   "mimetype": "text/x-python",
   "name": "python",
   "nbconvert_exporter": "python",
   "pygments_lexer": "ipython3",
   "version": "3.7.3"
  }
 },
 "nbformat": 4,
 "nbformat_minor": 4
}

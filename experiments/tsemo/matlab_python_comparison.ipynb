{
 "cells": [
  {
   "cell_type": "markdown",
   "metadata": {},
   "source": [
    "# TSEMO Matlab vs. Python Comparision\n",
    "\n",
    "This notebook does a comparison of the experiments on optimizing DTLZ2 using the Matlab and Python versions of TSEMO."
   ]
  },
  {
   "cell_type": "code",
   "execution_count": 5,
   "metadata": {},
   "outputs": [],
   "source": [
    "import pandas as pd\n",
    "import numpy as np\n",
    "import matplotlib.pyplot as plt\n",
    "from summit.utils.dataset import DataSet\n",
    "from summit.utils.multiobjective import pareto_efficient, HvI"
   ]
  },
  {
   "cell_type": "code",
   "execution_count": 9,
   "metadata": {},
   "outputs": [],
   "source": [
    "def calculate_mo_data(data):\n",
    "    y_pareto, _ = pareto_efficient(data,maximize=False)\n",
    "    percent_pareto = y_pareto.shape[0]/data.shape[0]\n",
    "    hv = HvI.hypervolume(y_pareto, [11,11])\n",
    "    return hv, percent_pareto, len(y_pareto)"
   ]
  },
  {
   "cell_type": "code",
   "execution_count": 27,
   "metadata": {},
   "outputs": [],
   "source": [
    "#Read in python data and calculate statistics\n",
    "python_data = [DataSet.read_csv(f'data/python/experiment_{i}.csv') for i in range(20)]\n",
    "mo_data = [calculate_mo_data(data[['y_0', 'y_1']].data_to_numpy())\n",
    "           for data in python_data]\n",
    "hv_python = [m[0] for m in mo_data]\n",
    "hv_average_python = np.mean(hv_python)\n",
    "hv_std_python = np.std(hv_python)"
   ]
  },
  {
   "cell_type": "code",
   "execution_count": 26,
   "metadata": {},
   "outputs": [],
   "source": [
    "# Read in Matlab data and calculate statistics\n",
    "matlab_data = [pd.read_csv(f'data/matlab/experiment_{i}/Y.csv',header=None)\n",
    "               for i in range(1, 21)]\n",
    "mo_matlab_data = [calculate_mo_data(data.to_numpy()) for data in matlab_data]\n",
    "hv_matlab = [m[0] for m in mo_matlab_data]\n",
    "hv_average_matlab = np.mean(hv_matlab)\n",
    "hv_std_matlab = np.std(hv_matlab)"
   ]
  },
  {
   "cell_type": "code",
   "execution_count": 32,
   "metadata": {},
   "outputs": [
    {
     "data": {
      "image/png": "[encoded data removed]",
      "text/plain": [
       "<Figure size 432x288 with 1 Axes>"
      ]
     },
     "metadata": {
      "needs_background": "light"
     },
     "output_type": "display_data"
    }
   ],
   "source": [
    "fig, ax = plt.subplots(1)\n",
    "hvs = np.array([hv_python, hv_matlab]).T\n",
    "_ = ax.boxplot(hvs, labels=['python', 'matlab'])\n",
    "fig.savefig('20200604_matlab_tsemo_comparison.png', dpi=300)"
   ]
  }
 ],
 "metadata": {
  "kernelspec": {
   "display_name": "Python 3",
   "language": "python",
   "name": "python3"
  },
  "language_info": {
   "codemirror_mode": {
    "name": "ipython",
    "version": 3
   },
   "file_extension": ".py",
   "mimetype": "text/x-python",
   "name": "python",
   "nbconvert_exporter": "python",
   "pygments_lexer": "ipython3",
   "version": "3.7.3"
  }
 },
 "nbformat": 4,
 "nbformat_minor": 4
}

{
 "cells": [
  {
   "cell_type": "code",
   "execution_count": 46,
   "metadata": {},
   "outputs": [],
   "source": [
    "from summit.strategies import TSEMO\n",
    "from summit.domain import Domain, DomainError\n",
    "from summit.utils.multiobjective import pareto_efficient, HvI\n",
    "from summit.utils.optimizers import NSGAII\n",
    "from summit.utils.models import ModelGroup, GPyModel\n",
    "from GPy.kern import Exponential\n",
    "from summit.utils.dataset import DataSet\n",
    "from summit.benchmarks import DTLZ2\n",
    "import warnings\n",
    "import time\n",
    "from fastprogress.fastprogress import master_bar, progress_bar\n",
    "from summit.utils.multiobjective import pareto_efficient, HvI"
   ]
  },
  {
   "cell_type": "code",
   "execution_count": 39,
   "metadata": {},
   "outputs": [],
   "source": [
    "errors = 0\n",
    "num_inputs=6\n",
    "num_objectives=2\n",
    "lab = DTLZ2(num_inputs=num_inputs, \n",
    "            num_objectives=num_objectives)\n",
    "models = {f'y_{i}': GPyModel(Exponential(input_dim=num_inputs,ARD=True))\n",
    "          for i in range(num_objectives)}\n",
    "\n",
    "# Initial suggestions\n",
    "warnings.filterwarnings(\"ignore\", category=RuntimeWarning)\n",
    "tsemo = TSEMO(lab.domain, models=models, random_rate=0.00)\n",
    "initial_experiments = tsemo.suggest_experiments(5*num_inputs)\n",
    "\n",
    "# Run initial experiments\n",
    "results = lab.run_experiments(initial_experiments)"
   ]
  },
  {
   "cell_type": "markdown",
   "metadata": {},
   "source": [
    "Run one iteration of tsemo step by step"
   ]
  },
  {
   "cell_type": "code",
   "execution_count": 17,
   "metadata": {},
   "outputs": [],
   "source": [
    "inputs, outputs = tsemo.transform.transform_inputs_outputs(results)"
   ]
  },
  {
   "cell_type": "code",
   "execution_count": 19,
   "metadata": {},
   "outputs": [
    {
     "name": "stdout",
     "output_type": "stream",
     "text": [
      "3.38 s ± 388 ms per loop (mean ± std. dev. of 7 runs, 1 loop each)\n"
     ]
    }
   ],
   "source": [
    "%timeit tsemo.models.fit(inputs, outputs, spectral_sample=False)"
   ]
  },
  {
   "cell_type": "code",
   "execution_count": 24,
   "metadata": {},
   "outputs": [
    {
     "name": "stdout",
     "output_type": "stream",
     "text": [
      "2.76 s ± 256 ms per loop (mean ± std. dev. of 7 runs, 1 loop each)\n"
     ]
    }
   ],
   "source": [
    "%timeit tsemo.models['y_0'].spectral_sample(inputs, outputs, n_spectral_points=1500)"
   ]
  },
  {
   "cell_type": "code",
   "execution_count": 23,
   "metadata": {},
   "outputs": [
    {
     "name": "stdout",
     "output_type": "stream",
     "text": [
      "2.77 s ± 194 ms per loop (mean ± std. dev. of 7 runs, 1 loop each)\n"
     ]
    }
   ],
   "source": [
    "%timeit tsemo.models['y_1'].spectral_sample(inputs, outputs, n_spectral_points=1500)"
   ]
  },
  {
   "cell_type": "code",
   "execution_count": 28,
   "metadata": {},
   "outputs": [
    {
     "name": "stdout",
     "output_type": "stream",
     "text": [
      "265 ms ± 20.6 ms per loop (mean ± std. dev. of 7 runs, 1 loop each)\n"
     ]
    }
   ],
   "source": [
    "%timeit tsemo.optimizer.optimize(tsemo.models, use_spectral_sample=True, pop_size=100, iterations=100)"
   ]
  },
  {
   "cell_type": "markdown",
   "metadata": {},
   "source": [
    "Let's run with more data."
   ]
  },
  {
   "cell_type": "markdown",
   "metadata": {},
   "source": [
    "## More Data"
   ]
  },
  {
   "cell_type": "code",
   "execution_count": 29,
   "metadata": {},
   "outputs": [],
   "source": [
    "errors = 0\n",
    "num_inputs=6\n",
    "num_objectives=2\n",
    "lab = DTLZ2(num_inputs=num_inputs, \n",
    "            num_objectives=num_objectives)\n",
    "models = {f'y_{i}': GPyModel(Exponential(input_dim=num_inputs,ARD=True))\n",
    "          for i in range(num_objectives)}\n",
    "\n",
    "# Initial suggestions\n",
    "warnings.filterwarnings(\"ignore\", category=RuntimeWarning)\n",
    "tsemo = TSEMO(lab.domain, models=models, random_rate=0.00)\n",
    "initial_experiments = tsemo.suggest_experiments(100)\n",
    "\n",
    "# Run initial experiments\n",
    "results = lab.run_experiments(initial_experiments)"
   ]
  },
  {
   "cell_type": "code",
   "execution_count": 30,
   "metadata": {},
   "outputs": [],
   "source": [
    "inputs, outputs = tsemo.transform.transform_inputs_outputs(results)"
   ]
  },
  {
   "cell_type": "code",
   "execution_count": 31,
   "metadata": {},
   "outputs": [
    {
     "name": "stdout",
     "output_type": "stream",
     "text": [
      "7.1 s ± 583 ms per loop (mean ± std. dev. of 7 runs, 1 loop each)\n"
     ]
    }
   ],
   "source": [
    "%timeit tsemo.models.fit(inputs, outputs, spectral_sample=False)"
   ]
  },
  {
   "cell_type": "code",
   "execution_count": 32,
   "metadata": {},
   "outputs": [
    {
     "name": "stdout",
     "output_type": "stream",
     "text": [
      "3.15 s ± 386 ms per loop (mean ± std. dev. of 7 runs, 1 loop each)\n"
     ]
    }
   ],
   "source": [
    "%timeit tsemo.models['y_0'].spectral_sample(inputs, outputs, n_spectral_points=1500)"
   ]
  },
  {
   "cell_type": "code",
   "execution_count": 33,
   "metadata": {},
   "outputs": [
    {
     "name": "stdout",
     "output_type": "stream",
     "text": [
      "2.92 s ± 350 ms per loop (mean ± std. dev. of 7 runs, 1 loop each)\n"
     ]
    }
   ],
   "source": [
    "%timeit tsemo.models['y_1'].spectral_sample(inputs, outputs, n_spectral_points=1500)"
   ]
  },
  {
   "cell_type": "code",
   "execution_count": 34,
   "metadata": {},
   "outputs": [
    {
     "name": "stdout",
     "output_type": "stream",
     "text": [
      "484 ms ± 158 ms per loop (mean ± std. dev. of 7 runs, 1 loop each)\n"
     ]
    }
   ],
   "source": [
    "%timeit tsemo.optimizer.optimize(tsemo.models, use_spectral_sample=True, pop_size=100, iterations=100)"
   ]
  },
  {
   "cell_type": "code",
   "execution_count": 37,
   "metadata": {},
   "outputs": [],
   "source": [
    "internal_res =tsemo.optimizer.optimize(tsemo.models, use_spectral_sample=True, pop_size=100, iterations=100)\n",
    "hv_imp, indices = tsemo.select_max_hvi(\n",
    "                outputs, internal_res.fun, 1\n",
    "            )\n"
   ]
  },
  {
   "cell_type": "markdown",
   "metadata": {},
   "source": [
    "It definitely does not make sense that that the algorithm is taking 2 days to run our server."
   ]
  },
  {
   "cell_type": "markdown",
   "metadata": {},
   "source": [
    "## Just try running it."
   ]
  },
  {
   "cell_type": "code",
   "execution_count": 44,
   "metadata": {},
   "outputs": [],
   "source": [
    "errors = 0\n",
    "num_inputs=6\n",
    "num_objectives=2\n",
    "lab = DTLZ2(num_inputs=num_inputs, \n",
    "            num_objectives=num_objectives)\n",
    "models = {f'y_{i}': GPyModel(Exponential(input_dim=num_inputs,ARD=True))\n",
    "          for i in range(num_objectives)}\n",
    "\n",
    "# Initial suggestions\n",
    "warnings.filterwarnings(\"ignore\", category=RuntimeWarning)\n",
    "tsemo = TSEMO(lab.domain, models=models, random_rate=0.00)\n",
    "initial_experiments = tsemo.suggest_experiments(5*num_inputs)\n",
    "\n",
    "# Run initial experiments\n",
    "experiments = lab.run_experiments(initial_experiments)"
   ]
  },
  {
   "cell_type": "code",
   "execution_count": 45,
   "metadata": {},
   "outputs": [
    {
     "data": {
      "text/html": [
       "\n",
       "    <div>\n",
       "        <style>\n",
       "            /* Turns off some styling */\n",
       "            progress {\n",
       "                /* gets rid of default border in Firefox and Opera. */\n",
       "                border: none;\n",
       "                /* Needs to be in here for Safari polyfill so background images work as expected. */\n",
       "                background-size: auto;\n",
       "            }\n",
       "            .progress-bar-interrupted, .progress-bar-interrupted::-webkit-progress-bar {\n",
       "                background: #F44336;\n",
       "            }\n",
       "        </style>\n",
       "      <progress value='100' class='' max='100' style='width:300px; height:20px; vertical-align: middle;'></progress>\n",
       "      100.00% [100/100 24:00<00:00]\n",
       "    </div>\n",
       "    "
      ],
      "text/plain": [
       "<IPython.core.display.HTML object>"
      ]
     },
     "metadata": {},
     "output_type": "display_data"
    }
   ],
   "source": [
    "for i in progress_bar(range(100)):\n",
    "    # Run experiments\n",
    "    experiments = lab.run_experiments(experiments)\n",
    "\n",
    "    # Get suggestions\n",
    "    experiments = tsemo.suggest_experiments(1, experiments,\n",
    "                                            use_spectral_sample=True, \n",
    "                                            pop_size=100, \n",
    "                                            iterations=100)"
   ]
  },
  {
   "cell_type": "markdown",
   "metadata": {},
   "source": [
    "I figured out the issue was I was putting back in all the data at every iteration according to the old TSEMO API instead of just the most recent experiments"
   ]
  },
  {
   "cell_type": "code",
   "execution_count": 47,
   "metadata": {},
   "outputs": [],
   "source": [
    "y_pareto, _ = pareto_efficient(lab.data[['y_0', 'y_1']].to_numpy(),\n",
    "                               maximize=False)  \n",
    "hv = HvI.hypervolume(y_pareto, [11,11])"
   ]
  },
  {
   "cell_type": "code",
   "execution_count": 48,
   "metadata": {},
   "outputs": [
    {
     "data": {
      "text/plain": [
       "119.53606798055976"
      ]
     },
     "execution_count": 48,
     "metadata": {},
     "output_type": "execute_result"
    }
   ],
   "source": [
    "hv"
   ]
  },
  {
   "cell_type": "markdown",
   "metadata": {},
   "source": [
    "## More Spectral Points"
   ]
  },
  {
   "cell_type": "code",
   "execution_count": 50,
   "metadata": {},
   "outputs": [],
   "source": [
    "errors = 0\n",
    "num_inputs=6\n",
    "num_objectives=2\n",
    "lab = DTLZ2(num_inputs=num_inputs, \n",
    "            num_objectives=num_objectives)\n",
    "models = {f'y_{i}': GPyModel(Exponential(input_dim=num_inputs,ARD=True))\n",
    "          for i in range(num_objectives)}\n",
    "\n",
    "# Initial suggestions\n",
    "warnings.filterwarnings(\"ignore\", category=RuntimeWarning)\n",
    "tsemo = TSEMO(lab.domain, models=models, random_rate=0.00)\n",
    "initial_experiments = tsemo.suggest_experiments(5*num_inputs)\n",
    "\n",
    "# Run initial experiments\n",
    "experiments = lab.run_experiments(initial_experiments)"
   ]
  },
  {
   "cell_type": "code",
   "execution_count": null,
   "metadata": {},
   "outputs": [],
   "source": [
    "for i in progress_bar(range(100)):\n",
    "    # Run experiments\n",
    "    experiments = lab.run_experiments(experiments)\n",
    "\n",
    "    # Get suggestions\n",
    "    experiments = tsemo.suggest_experiments(1, experiments,\n",
    "                                            use_spectral_sample=True,\n",
    "                                            n_spectral_points=4000,\n",
    "                                            pop_size=100, \n",
    "                                            iterations=100)"
   ]
  }
 ],
 "metadata": {
  "kernelspec": {
   "display_name": "Python 3",
   "language": "python",
   "name": "python3"
  },
  "language_info": {
   "codemirror_mode": {
    "name": "ipython",
    "version": 3
   },
   "file_extension": ".py",
   "mimetype": "text/x-python",
   "name": "python",
   "nbconvert_exporter": "python",
   "pygments_lexer": "ipython3",
   "version": "3.7.3"
  }
 },
 "nbformat": 4,
 "nbformat_minor": 4
}

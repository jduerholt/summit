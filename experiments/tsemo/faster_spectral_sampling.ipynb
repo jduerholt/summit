{
 "cells": [
  {
   "cell_type": "markdown",
   "metadata": {},
   "source": [
    "# Spectral Sampling with pyrff\n",
    "\n",
    "[Pyrff](https://github.com/michaelosthege/pyrff) is a library that implements spectral sampling. I want to see if I can get it to work and if it is reasonably accurate and fast."
   ]
  },
  {
   "cell_type": "code",
   "execution_count": 1,
   "metadata": {},
   "outputs": [],
   "source": [
    "%load_ext autoreload\n",
    "%autoreload 2"
   ]
  },
  {
   "cell_type": "code",
   "execution_count": 3,
   "metadata": {},
   "outputs": [],
   "source": [
    "from summit.utils.models import GPyModel\n",
    "import matplotlib.pyplot as plt\n",
    "import numpy as np"
   ]
  },
  {
   "cell_type": "markdown",
   "metadata": {},
   "source": [
    "## Simple Example\n",
    "\n",
    "Let's first try to approximate a simple sinusoidal function in 1D."
   ]
  },
  {
   "cell_type": "code",
   "execution_count": 4,
   "metadata": {},
   "outputs": [],
   "source": [
    "n_samples=20\n",
    "random_seed=100\n",
    "rng = np.random.default_rng(random_seed)\n",
    "\n",
    "def observed(X, noise_level=0.05):\n",
    "    noise = rng.standard_normal([X.shape[0],1])*noise_level\n",
    "    return np.sin(X) + noise\n",
    "\n",
    "X = rng.uniform(-3.,3.,(n_samples,1))\n",
    "Y = observed(X)\n",
    "X_true = rng.uniform(-3.,3.,(1000,1))\n",
    "X_true = np.sort(X_true, axis=0)\n",
    "Y_true = np.sin(X_true)\n",
    "\n",
    "#Fit model\n",
    "m = GPyModel(input_dim=1)\n",
    "m.fit(X, Y)\n",
    "sampled_f = m.spectral_sample(X, Y)\n",
    "predict_Y = m.predict(X)\n",
    "sample_Y = sampled_f(X)"
   ]
  },
  {
   "cell_type": "markdown",
   "metadata": {},
   "source": [
    "I noticed that I can run the spectral sampling with the same inputs multiple times, and I find that the algorithm will sometimes converge and sometimes not. \n",
    "\n",
    "I noticed this in my version of spectral sampling as well, and I think it is an issue with having points in the input or output space that are too close together."
   ]
  },
  {
   "cell_type": "code",
   "execution_count": 78,
   "metadata": {},
   "outputs": [],
   "source": [
    "def closest_point_index(design_point, candidate_matrix):\n",
    "    '''Return the index of the closest point in the candidate matrix'''\n",
    "    distances = _design_distances(design_point, candidate_matrix)\n",
    "    return np.argmin(np.atleast_2d(distances)) \n",
    "\n",
    "def closest_distance(design_point, candidate_matrix):\n",
    "    '''Return the index of the closest point in the candidate matrix'''\n",
    "    distances = _design_distances(design_point, candidate_matrix)\n",
    "    return np.min(np.atleast_2d(distances)) \n",
    "\n",
    "def _design_distances(design_point,candidate_matrix):\n",
    "    ''' Return the distances between a design_point and all candidates'''\n",
    "    diff = design_point - candidate_matrix\n",
    "    squared = np.power(diff, 2)\n",
    "    summed  = np.sum(squared, axis=1)\n",
    "    root_square = np.sqrt(summed)\n",
    "    return root_square"
   ]
  },
  {
   "cell_type": "code",
   "execution_count": 118,
   "metadata": {},
   "outputs": [
    {
     "data": {
      "text/plain": [
       "0.0004939374191934576"
      ]
     },
     "execution_count": 118,
     "metadata": {},
     "output_type": "execute_result"
    }
   ],
   "source": [
    "distances = numpy.zeros(X.shape[0])\n",
    "\n",
    "for i, x in enumerate(X):\n",
    "    mask = np.ones(X.shape[0], dtype=bool)\n",
    "    mask[i] = False\n",
    "    d = closest_distance(x, X[mask,:])\n",
    "    distances[i] = d\n",
    "\n",
    "np.min(distances)"
   ]
  },
  {
   "cell_type": "code",
   "execution_count": 6,
   "metadata": {},
   "outputs": [
    {
     "data": {
      "image/png": "[encoded data removed]",
      "text/plain": [
       "<Figure size 432x288 with 1 Axes>"
      ]
     },
     "metadata": {
      "needs_background": "light"
     },
     "output_type": "display_data"
    }
   ],
   "source": [
    "# X, Y, predict_Y, sample_Y = fit_and_sample()\n",
    "fig, ax = plt.subplots(1)\n",
    "ax.scatter(X[:,0], predict_Y[:, 0], marker= 'o', label='GP Prediction')\n",
    "ax.scatter(X[:,0], sample_Y, marker='^', label= 'Spectral Sample')\n",
    "ax.plot(X_true[:,0], Y_true[:,0], label='True')\n",
    "ax.legend()\n",
    "ax.tick_params(direction='in')\n",
    "ax.set_xlabel('X')\n",
    "_ = ax.set_ylabel('Y')"
   ]
  },
  {
   "cell_type": "markdown",
   "metadata": {},
   "source": [
    "## Test points at different distances"
   ]
  },
  {
   "cell_type": "code",
   "execution_count": 98,
   "metadata": {},
   "outputs": [],
   "source": [
    "def observed(X, noise_level=0.05):\n",
    "    noise = rng.standard_normal([X.shape[0],1])*noise_level\n",
    "    return np.sin(X) + noise\n",
    "\n",
    "def gen_noisy_data(num_points=20, spacing=0.01):\n",
    "    upper = -3 + num_points*spacing\n",
    "    x = np.linspace(-3,upper,num_points)\n",
    "    x = np.atleast_2d(x).T\n",
    "    y = observed(X)\n",
    "    return x, y"
   ]
  },
  {
   "cell_type": "code",
   "execution_count": null,
   "metadata": {},
   "outputs": [],
   "source": [
    "m = GPyModel(input_dim=1)\n",
    "spacings = [1e-5, 1e-4, 1e-3, 1e-2, 0.1]\n",
    "inputs = []\n",
    "outputs = []\n",
    "sampled_fs = []\n",
    "n_repeats = 20\n",
    "for s in spacings:\n",
    "    X, y = gen_noisy_data(spacing=s)\n",
    "    m.fit(X, Y)\n",
    "    repeats = []\n",
    "    for i in range(n_repeats):\n",
    "        try:\n",
    "            f = m.spectral_sample(X, Y)\n",
    "            repeats.append(f)\n",
    "        except np.linalg.LinAlgError as e:\n",
    "            repeats.append(e)\n",
    "    sampled_fs.append(repeats)\n",
    "    inputs.append(X)\n",
    "    outputs.append(y)"
   ]
  },
  {
   "cell_type": "code",
   "execution_count": 113,
   "metadata": {},
   "outputs": [],
   "source": [
    "num_errors = 0\n",
    "for sample in sampled_fs:\n",
    "    for r in sample:\n",
    "        if not callable(r):\n",
    "            num_errors += 1"
   ]
  },
  {
   "cell_type": "code",
   "execution_count": 114,
   "metadata": {},
   "outputs": [
    {
     "data": {
      "text/plain": [
       "0"
      ]
     },
     "execution_count": 114,
     "metadata": {},
     "output_type": "execute_result"
    }
   ],
   "source": [
    "num_errors"
   ]
  },
  {
   "cell_type": "code",
   "execution_count": null,
   "metadata": {},
   "outputs": [],
   "source": []
  }
 ],
 "metadata": {
  "kernelspec": {
   "display_name": "Python 3",
   "language": "python",
   "name": "python3"
  },
  "language_info": {
   "codemirror_mode": {
    "name": "ipython",
    "version": 3
   },
   "file_extension": ".py",
   "mimetype": "text/x-python",
   "name": "python",
   "nbconvert_exporter": "python",
   "pygments_lexer": "ipython3",
   "version": "3.7.3"
  }
 },
 "nbformat": 4,
 "nbformat_minor": 4
}

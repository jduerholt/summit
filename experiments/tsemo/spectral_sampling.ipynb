{
 "cells": [
  {
   "cell_type": "markdown",
   "metadata": {},
   "source": [
    "# Spectral Sampling Demonstration"
   ]
  },
  {
   "cell_type": "code",
   "execution_count": 1,
   "metadata": {},
   "outputs": [],
   "source": [
    "%load_ext autoreload\n",
    "%autoreload 2"
   ]
  },
  {
   "cell_type": "code",
   "execution_count": 2,
   "metadata": {},
   "outputs": [],
   "source": [
    "from summit.utils.models import GPyModel\n",
    "import matplotlib.pyplot as plt\n",
    "import numpy as np"
   ]
  },
  {
   "cell_type": "code",
   "execution_count": 16,
   "metadata": {},
   "outputs": [],
   "source": [
    "n_points=100\n",
    "X = np.random.uniform(-3.,3.,(n_points,6))\n",
    "Y = np.mean(np.sin(X), axis=1) + np.random.randn(n_points)*0.05\n",
    "Y = np.atleast_2d(Y).T\n",
    "m = GPyModel(input_dim=6)"
   ]
  },
  {
   "cell_type": "code",
   "execution_count": 17,
   "metadata": {},
   "outputs": [
    {
     "name": "stdout",
     "output_type": "stream",
     "text": [
      "1.25 s ± 66.1 ms per loop (mean ± std. dev. of 7 runs, 1 loop each)\n"
     ]
    }
   ],
   "source": [
    "%timeit m.fit(X, Y)"
   ]
  },
  {
   "cell_type": "code",
   "execution_count": 85,
   "metadata": {},
   "outputs": [
    {
     "name": "stdout",
     "output_type": "stream",
     "text": [
      "7.41 s ± 1.15 s per loop (mean ± std. dev. of 7 runs, 1 loop each)\n"
     ]
    }
   ],
   "source": [
    "%timeit m.fit(X, Y, spectral_sample=True)"
   ]
  },
  {
   "cell_type": "code",
   "execution_count": 51,
   "metadata": {},
   "outputs": [],
   "source": [
    "def fit_and_sample():\n",
    "    X = np.random.uniform(-3.,3.,(20,1))\n",
    "    Y = np.sin(X) + np.random.randn(20,1)*0.05\n",
    "    m = GPyModel(input_dim=1)\n",
    "    m.fit(X, Y)\n",
    "    sampled_f = m.spectral_sample(X, Y)\n",
    "    predict_Y = m.predict(X)\n",
    "    sample_Y = sampled_f(X)\n",
    "    return X, Y, predict_Y, sample_Y"
   ]
  },
  {
   "cell_type": "code",
   "execution_count": 52,
   "metadata": {},
   "outputs": [
    {
     "data": {
      "image/png": "[encoded data removed]",
      "text/plain": [
       "<Figure size 432x288 with 1 Axes>"
      ]
     },
     "metadata": {
      "needs_background": "light"
     },
     "output_type": "display_data"
    }
   ],
   "source": [
    "X, Y, predict_Y, sample_Y = fit_and_sample()\n",
    "fig, ax = plt.subplots(1)\n",
    "ax.scatter(X[:,0], predict_Y[:, 0], marker= 'o', label='GP Prediction')\n",
    "ax.scatter(X[:,0], sample_Y[:,0], marker='^', label= 'Spectral Sample')\n",
    "ax.scatter(X[:,0], Y[:, 0], marker='x', label='Data')\n",
    "ax.legend()\n",
    "ax.tick_params(direction='in')\n",
    "ax.set_xlabel('X')\n",
    "_ = ax.set_ylabel('Y')"
   ]
  },
  {
   "cell_type": "code",
   "execution_count": 53,
   "metadata": {},
   "outputs": [
    {
     "name": "stdout",
     "output_type": "stream",
     "text": [
      "MAE GP:  0.012582393439350009\n",
      "MAE Spectral Sample:  0.027726602185563044\n"
     ]
    }
   ],
   "source": [
    "mae_pred = np.mean(np.abs(predict_Y[:,0]-Y[:,0]))\n",
    "mae_sample = np.mean(np.abs(sample_Y[:,0]-Y[:,0]))\n",
    "print(\"MAE GP: \", mae_pred)\n",
    "print(\"MAE Spectral Sample: \", mae_sample)"
   ]
  },
  {
   "cell_type": "markdown",
   "metadata": {},
   "source": [
    "Comparing time for spectral sampling vs. calling the model directly."
   ]
  },
  {
   "cell_type": "code",
   "execution_count": 66,
   "metadata": {},
   "outputs": [],
   "source": [
    "def timed_fit_and_predict(use_spectral_sample=False):\n",
    "    X = np.random.uniform(-3.,3.,(20,1))\n",
    "    Y = np.sin(X) + np.random.randn(20,1)*0.05\n",
    "    m = GPyModel(input_dim=1)\n",
    "    m.fit(X, Y, spectral_sample=use_spectral_sample)\n",
    "    for i in range(1000):\n",
    "        m.predict(X, use_spectral_sample=use_spectral_sample)"
   ]
  },
  {
   "cell_type": "code",
   "execution_count": 6,
   "metadata": {},
   "outputs": [
    {
     "name": "stdout",
     "output_type": "stream",
     "text": [
      "660 ms ± 159 ms per loop (mean ± std. dev. of 7 runs, 1 loop each)\n"
     ]
    }
   ],
   "source": [
    "%timeit timed_fit_and_predict(use_spectral_sample=False)"
   ]
  },
  {
   "cell_type": "code",
   "execution_count": 9,
   "metadata": {},
   "outputs": [
    {
     "name": "stdout",
     "output_type": "stream",
     "text": [
      "8.79 s ± 468 ms per loop (mean ± std. dev. of 7 runs, 1 loop each)\n"
     ]
    }
   ],
   "source": [
    "%timeit timed_fit_and_predict(use_spectral_sample=True)"
   ]
  },
  {
   "cell_type": "code",
   "execution_count": 63,
   "metadata": {},
   "outputs": [],
   "source": [
    "import numpy as np\n",
    "from numpy import matlib\n",
    "from numpy.random import default_rng\n",
    "from GPy.models import GPRegression\n",
    "from GPy.kern import Matern52\n",
    "from scipy.stats import norm, invgamma\n",
    "from scipy.stats.distributions import chi2\n",
    "from scipy import linalg\n",
    "from summit.utils.lhs import lhs"
   ]
  },
  {
   "cell_type": "code",
   "execution_count": 64,
   "metadata": {},
   "outputs": [],
   "source": [
    "X = np.random.uniform(-3.,3.,(20,1))\n",
    "Y = np.sin(X) + np.random.randn(20,1)*0.05"
   ]
  },
  {
   "cell_type": "code",
   "execution_count": 65,
   "metadata": {},
   "outputs": [],
   "source": [
    "def create_and_train_model(X, Y):\n",
    "    m = GPyModel(input_dim=1)\n",
    "    m.fit(X, Y, spectral_sample=False)\n",
    "    return m"
   ]
  },
  {
   "cell_type": "code",
   "execution_count": 8,
   "metadata": {},
   "outputs": [
    {
     "name": "stdout",
     "output_type": "stream",
     "text": [
      "393 ms ± 106 ms per loop (mean ± std. dev. of 7 runs, 1 loop each)\n"
     ]
    }
   ],
   "source": [
    "%timeit create_and_train_model(X, Y)"
   ]
  },
  {
   "cell_type": "code",
   "execution_count": 66,
   "metadata": {},
   "outputs": [],
   "source": [
    "m = create_and_train_model(X, Y)"
   ]
  },
  {
   "cell_type": "code",
   "execution_count": 68,
   "metadata": {},
   "outputs": [],
   "source": [
    "def calculate_phi_b_W(m, X):\n",
    "    matern_nu = 5\n",
    "    n_spectral_points = 4000\n",
    "\n",
    "    # Get variables from problem structure\n",
    "    n, D = np.shape(X)\n",
    "    ell = np.array(m._model.kern.lengthscale) \n",
    "    sf2 = np.array(m._model.kern.variance)\n",
    "    sn2 = np.array(m._model.Gaussian_noise.variance)\n",
    "\n",
    "    # Monte carlo samples of W and b\n",
    "    # W = p*norminv(sW1)*q\n",
    "    sW = lhs(D, n_spectral_points)\n",
    "    p = matlib.repmat(np.divide(1, ell), n_spectral_points, 1)\n",
    "    if matern_nu != np.inf:            \n",
    "        inv = chi2.ppf(sW, matern_nu)\n",
    "        q = np.sqrt(np.divide(matern_nu, inv))\n",
    "        W = np.multiply(p, norm.ppf(sW))\n",
    "        W = np.multiply(W, q)\n",
    "    else:\n",
    "        raise NotImplementedError(\"RBF not implemented yet!\")\n",
    "\n",
    "    b = 2*np.pi*lhs(1, n_spectral_points)\n",
    "\n",
    "    # Calculate phi\n",
    "    phi = np.sqrt(2*sf2/n_spectral_points)*np.cos(W@X.T +  matlib.repmat(b, 1, n))\n",
    "    phi = np.round(phi, 3) # Round due to truncation errors that causes problems with inverse\n",
    "    return W, b, phi"
   ]
  },
  {
   "cell_type": "code",
   "execution_count": 33,
   "metadata": {},
   "outputs": [
    {
     "name": "stdout",
     "output_type": "stream",
     "text": [
      "9.85 ms ± 517 µs per loop (mean ± std. dev. of 7 runs, 100 loops each)\n"
     ]
    }
   ],
   "source": [
    "%timeit calculate_phi_b_W(m)"
   ]
  },
  {
   "cell_type": "code",
   "execution_count": 69,
   "metadata": {},
   "outputs": [],
   "source": [
    "W, b, phi = calculate_phi_b_W(m, X)"
   ]
  },
  {
   "cell_type": "markdown",
   "metadata": {},
   "source": [
    "## Matrix Inverse"
   ]
  },
  {
   "cell_type": "code",
   "execution_count": 73,
   "metadata": {},
   "outputs": [],
   "source": [
    "def calc_mean_cov_svd(sn2, n_spectral_points, phi):\n",
    "    A = phi@phi.T + sn2*np.identity(n_spectral_points)\n",
    "    u,s, vh = np.linalg.svd(A)\n",
    "    invA = vh*.u.T\n",
    "#     invA = np.dot(c.T,c)\n",
    "#     mu_theta = invA@phi@Y\n",
    "#     cov_theta = sn2*invA\n",
    "#     cov_theta = 0.5*(cov_theta+cov_theta.T)\n",
    "#     return mu_theta, cov_theta\n",
    "    return invA"
   ]
  },
  {
   "cell_type": "code",
   "execution_count": 76,
   "metadata": {},
   "outputs": [],
   "source": [
    "def calc_mean_cov(sn2, n_spectral_points, phi):\n",
    "    A = phi@phi.T + sn2*np.identity(n_spectral_points)\n",
    "    B = np.linalg.cholesky(A)\n",
    "    c = np.linalg.inv(B)\n",
    "    invA = np.dot(c.T,c)\n",
    "    mu_theta = invA@phi@Y\n",
    "    cov_theta = sn2*invA\n",
    "    cov_theta = 0.5*(cov_theta+cov_theta.T)\n",
    "    return mu_theta, cov_theta"
   ]
  },
  {
   "cell_type": "code",
   "execution_count": 48,
   "metadata": {},
   "outputs": [],
   "source": [
    "def inv_cholesky(A):\n",
    "    _, n = np.shape(A)\n",
    "    chol = np.linalg.cholesky(A)\n",
    "    x = np.linalg.solve(chol.transpose(), np.identity(n))\n",
    "    y = np.linalg.solve(chol, x)\n",
    "    return y"
   ]
  },
  {
   "cell_type": "code",
   "execution_count": 49,
   "metadata": {},
   "outputs": [],
   "source": [
    "@jit(nopython=True, fastmath=True)\n",
    "def inv_cholesky_jit(A):\n",
    "    _, n = np.shape(A)\n",
    "    chol = np.linalg.cholesky(A)\n",
    "    x = np.linalg.solve(chol.transpose(), np.identity(n))\n",
    "    y = np.linalg.solve(chol, x)\n",
    "    return y"
   ]
  },
  {
   "cell_type": "code",
   "execution_count": 49,
   "metadata": {},
   "outputs": [],
   "source": [
    "@jit(nopython=True, fastmath=True)\n",
    "def inv_cholesky_scipy(A):\n",
    "    _, n = np.shape(A)\n",
    "    chol = np.linalg.cholesky(A)\n",
    "    x = scipy.linalg.solve(chol.transpose(), np.identity(n))\n",
    "    y = scipy.linalg.solve(chol, x)\n",
    "    return y"
   ]
  },
  {
   "cell_type": "code",
   "execution_count": 71,
   "metadata": {},
   "outputs": [],
   "source": [
    "sn2 = np.array(m._model.Gaussian_noise.variance)\n",
    "n_spectral_points = 4000"
   ]
  },
  {
   "cell_type": "code",
   "execution_count": 45,
   "metadata": {},
   "outputs": [
    {
     "name": "stdout",
     "output_type": "stream",
     "text": [
      "7.72 s ± 1.26 s per loop (mean ± std. dev. of 7 runs, 1 loop each)\n"
     ]
    }
   ],
   "source": [
    "%timeit calc_mean_cov(sn2, n_spectral_points, phi)"
   ]
  },
  {
   "cell_type": "code",
   "execution_count": 72,
   "metadata": {},
   "outputs": [],
   "source": [
    "A = phi@phi.T + sn2*np.identity(n_spectral_points)"
   ]
  },
  {
   "cell_type": "code",
   "execution_count": 73,
   "metadata": {},
   "outputs": [],
   "source": [
    "u,s, vh = np.linalg.svd(A)"
   ]
  },
  {
   "cell_type": "code",
   "execution_count": 82,
   "metadata": {},
   "outputs": [],
   "source": [
    "invA = vh.T@np.diag(1/s)@u.T"
   ]
  },
  {
   "cell_type": "code",
   "execution_count": 80,
   "metadata": {},
   "outputs": [],
   "source": [
    "B = np.linalg.cholesky(A)\n",
    "c = np.linalg.inv(B)\n",
    "invA_chol = np.dot(c.T,c)"
   ]
  },
  {
   "cell_type": "code",
   "execution_count": 83,
   "metadata": {},
   "outputs": [
    {
     "data": {
      "text/plain": [
       "array([[ True,  True,  True, ...,  True,  True,  True],\n",
       "       [ True,  True,  True, ...,  True,  True,  True],\n",
       "       [ True,  True,  True, ...,  True,  True,  True],\n",
       "       ...,\n",
       "       [ True,  True,  True, ...,  True,  True,  True],\n",
       "       [ True,  True,  True, ...,  True,  True,  True],\n",
       "       [ True,  True,  True, ...,  True,  True,  True]])"
      ]
     },
     "execution_count": 83,
     "metadata": {},
     "output_type": "execute_result"
    }
   ],
   "source": [
    "np.isclose(invA, invA_chol)"
   ]
  },
  {
   "cell_type": "code",
   "execution_count": 47,
   "metadata": {},
   "outputs": [
    {
     "name": "stdout",
     "output_type": "stream",
     "text": [
      "7.91 s ± 710 ms per loop (mean ± std. dev. of 7 runs, 1 loop each)\n"
     ]
    }
   ],
   "source": [
    "%timeit inv_cholesky(A)"
   ]
  },
  {
   "cell_type": "code",
   "execution_count": 50,
   "metadata": {},
   "outputs": [
    {
     "name": "stdout",
     "output_type": "stream",
     "text": [
      "7.97 s ± 742 ms per loop (mean ± std. dev. of 7 runs, 1 loop each)\n"
     ]
    }
   ],
   "source": [
    "%timeit inv_cholesky_jit(A)"
   ]
  },
  {
   "cell_type": "code",
   "execution_count": 78,
   "metadata": {},
   "outputs": [],
   "source": [
    "mu_theta, cov_theta = calc_mean_cov(sn2, n_spectral_points, phi)"
   ]
  },
  {
   "cell_type": "markdown",
   "metadata": {},
   "source": [
    "## Multivariate Normal"
   ]
  },
  {
   "cell_type": "code",
   "execution_count": 82,
   "metadata": {},
   "outputs": [],
   "source": [
    "def random_calc(method):\n",
    "    rng = default_rng()\n",
    "    theta = rng.multivariate_normal(mu_theta[:, 0], cov_theta,\n",
    "                                    method=method)"
   ]
  },
  {
   "cell_type": "code",
   "execution_count": 83,
   "metadata": {},
   "outputs": [
    {
     "name": "stdout",
     "output_type": "stream",
     "text": [
      "726 ms ± 130 ms per loop (mean ± std. dev. of 7 runs, 1 loop each)\n"
     ]
    }
   ],
   "source": [
    "%timeit random_calc(method='cholesky')"
   ]
  },
  {
   "cell_type": "code",
   "execution_count": null,
   "metadata": {},
   "outputs": [],
   "source": [
    "%timeit random_calc(method='svd')"
   ]
  },
  {
   "cell_type": "markdown",
   "metadata": {},
   "source": [
    "This one was taking forever. Cholesky clearly wins"
   ]
  },
  {
   "cell_type": "markdown",
   "metadata": {},
   "source": [
    "## Study on the number of sampled points & accuracy-time trade-off"
   ]
  },
  {
   "cell_type": "code",
   "execution_count": 100,
   "metadata": {},
   "outputs": [],
   "source": [
    "from summit.utils.models import GPyModel\n",
    "import matplotlib.pyplot as plt\n",
    "import numpy as np\n",
    "import time"
   ]
  },
  {
   "cell_type": "code",
   "execution_count": 129,
   "metadata": {},
   "outputs": [],
   "source": [
    "def fit_and_sample(X, Y, n_spectral_points=4000):\n",
    "    start = time.time()\n",
    "    m = GPyModel(input_dim=1)\n",
    "    m.fit(X, Y)\n",
    "    sampled_f = m.spectral_sample(X, Y, n_spectral_points)\n",
    "    predict_Y = m.predict(X)\n",
    "    sample_Y = sampled_f(X)\n",
    "    mae_pred = np.mean(np.abs(predict_Y[:,0]-Y[:,0]))\n",
    "    mae_sample = np.mean(np.abs(sample_Y[:,0]-Y[:,0]))\n",
    "    diff = time.time()-start\n",
    "    return predict_Y, sample_Y, mae_pred, mae_sample, diff"
   ]
  },
  {
   "cell_type": "code",
   "execution_count": 120,
   "metadata": {},
   "outputs": [],
   "source": [
    "rng = default_rng(1000)\n",
    "X = rng.uniform(-3.,3.,(20,1))\n",
    "Y = np.sin(X) + rng.normal(20,1)*0.05\n",
    "m = GPyModel(input_dim=1)"
   ]
  },
  {
   "cell_type": "code",
   "execution_count": 130,
   "metadata": {},
   "outputs": [
    {
     "name": "stderr",
     "output_type": "stream",
     "text": [
      " /Users/Kobi/Documents/Research/summit/summit/utils/models.py:265: RuntimeWarning:covariance is not positive-semidefinite.\n"
     ]
    }
   ],
   "source": [
    "n_repeats = 20\n",
    "points = [100, 500, 1000, 2000, 4000]\n",
    "acc_time_res = [[fit_and_sample(X, Y,n)\n",
    "                 for _ in range(n_repeats)]\n",
    "                 for n in points]"
   ]
  },
  {
   "cell_type": "code",
   "execution_count": 136,
   "metadata": {},
   "outputs": [],
   "source": [
    "mae_vals = np.array([[r[i][3] for  i in range(n_repeats)] for r in acc_time_res])\n",
    "time_vals = np.array([[r[i][4] for  i in range(n_repeats)] for r in acc_time_res])\n",
    "mae_avg = np.mean(mae_vals, axis=1)\n",
    "mae_std = np.std(mae_vals, axis=1)\n",
    "time_avg = np.mean(time_vals, axis=1)\n",
    "time_std = np.std(time_vals, axis=1)\n",
    "acc_time_res_arr = np.array(acc_time_res)\n",
    "np.save('acc_time_res_study.npy', acc_time_res_arr)"
   ]
  },
  {
   "cell_type": "code",
   "execution_count": 153,
   "metadata": {},
   "outputs": [
    {
     "data": {
      "image/png": "[encoded data removed]",
      "text/plain": [
       "<Figure size 720x360 with 2 Axes>"
      ]
     },
     "metadata": {
      "needs_background": "light"
     },
     "output_type": "display_data"
    }
   ],
   "source": [
    "fig, axes = plt.subplots(1, 2, figsize=(10, 5))\n",
    "axes[0].bar(np.arange(1,6), mae_avg, yerr=mae_std, capsize=5, label='MAE Sample')\n",
    "axes[1].bar(np.arange(1,6),time_avg, yerr=time_std,capsize=5, label='Time', color='orange')\n",
    "points = [0, 100, 500, 1000, 2000, 4000]\n",
    "for ax in axes:\n",
    "    ax.set_xticklabels(points)\n",
    "    ax.set_xlabel('Number of spectral points')\n",
    "axes[0].set_ylabel('Mean Absolute Error')\n",
    "axes[1].set_ylabel('Time (s)')\n",
    "fig.suptitle('Accuracy Time Tradeoff in Spectral Sampling')\n",
    "fig.savefig('acc_time_tradeoff_spectral_sampling.png')"
   ]
  },
  {
   "cell_type": "code",
   "execution_count": 151,
   "metadata": {},
   "outputs": [
    {
     "name": "stdout",
     "output_type": "stream",
     "text": [
      "3.33 s ± 217 ms per loop (mean ± std. dev. of 7 runs, 1 loop each)\n"
     ]
    }
   ],
   "source": [
    "%timeit fit_and_sample(X, Y,1500)"
   ]
  },
  {
   "cell_type": "code",
   "execution_count": null,
   "metadata": {},
   "outputs": [],
   "source": []
  }
 ],
 "metadata": {
  "kernelspec": {
   "display_name": "Python 3",
   "language": "python",
   "name": "python3"
  },
  "language_info": {
   "codemirror_mode": {
    "name": "ipython",
    "version": 3
   },
   "file_extension": ".py",
   "mimetype": "text/x-python",
   "name": "python",
   "nbconvert_exporter": "python",
   "pygments_lexer": "ipython3",
   "version": "3.7.3"
  }
 },
 "nbformat": 4,
 "nbformat_minor": 4
}

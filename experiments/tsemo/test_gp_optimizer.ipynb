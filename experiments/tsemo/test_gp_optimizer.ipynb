{
 "cells": [
  {
   "cell_type": "code",
   "execution_count": 1,
   "metadata": {},
   "outputs": [],
   "source": [
    "%load_ext autoreload\n",
    "%autoreload 2"
   ]
  },
  {
   "cell_type": "code",
   "execution_count": 2,
   "metadata": {},
   "outputs": [],
   "source": [
    "from GPy.models import GPRegression\n",
    "from GPy.kern import Matern52, Exponential\n",
    "from summit.utils.models import GPyModel, ModelGroup\n",
    "from summit.utils.dataset import DataSet\n",
    "from GPy.inference.optimization import Adam, RProp, Optimizer\n",
    "from scipydirect import minimize as direct\n",
    "import numpy as np"
   ]
  },
  {
   "cell_type": "code",
   "execution_count": 3,
   "metadata": {},
   "outputs": [],
   "source": [
    "ds = DataSet.read_csv(f'data/python/20200604/experiment_0.csv')"
   ]
  },
  {
   "cell_type": "markdown",
   "metadata": {},
   "source": [
    "## LBSG Optimization Algorithm"
   ]
  },
  {
   "cell_type": "code",
   "execution_count": 15,
   "metadata": {},
   "outputs": [],
   "source": [
    "models = ModelGroup({f'y_{i}': GPyModel(input_dim = 5) for i in range(2)})\n",
    "lhs_data = ds[ds['strategy']==\"LHS\"]\n",
    "inputs = [f'x_{i}' for i in range(5)]\n",
    "models.fit(lhs_data[inputs], lhs_data[['y_0', 'y_1']], num_restarts=100, parallel=True)"
   ]
  },
  {
   "cell_type": "code",
   "execution_count": 17,
   "metadata": {},
   "outputs": [
    {
     "name": "stdout",
     "output_type": "stream",
     "text": [
      "Log Likelihood: -8.746008630737428\n"
     ]
    },
    {
     "data": {
      "text/html": [
       "<style type=\"text/css\">\n",
       ".pd{\n",
       "    font-family: \"Courier New\", Courier, monospace !important;\n",
       "    width: 100%;\n",
       "    padding: 3px;\n",
       "}\n",
       "</style>\n",
       "\n",
       "<p class=pd>\n",
       "<b>Model</b>: GP regression<br>\n",
       "<b>Objective</b>: 8.746008630737428<br>\n",
       "<b>Number of Parameters</b>: 7<br>\n",
       "<b>Number of Optimization Parameters</b>: 7<br>\n",
       "<b>Updates</b>: True<br>\n",
       "</p>\n",
       "<style type=\"text/css\">\n",
       ".tg  {font-family:\"Courier New\", Courier, monospace !important;padding:2px 3px;word-break:normal;border-collapse:collapse;border-spacing:0;border-color:#DCDCDC;margin:0px auto;width:100%;}\n",
       ".tg td{font-family:\"Courier New\", Courier, monospace !important;font-weight:bold;color:#444;background-color:#F7FDFA;border-style:solid;border-width:1px;overflow:hidden;word-break:normal;border-color:#DCDCDC;}\n",
       ".tg th{font-family:\"Courier New\", Courier, monospace !important;font-weight:normal;color:#fff;background-color:#26ADE4;border-style:solid;border-width:1px;overflow:hidden;word-break:normal;border-color:#DCDCDC;}\n",
       ".tg .tg-left{font-family:\"Courier New\", Courier, monospace !important;font-weight:normal;text-align:left;}\n",
       ".tg .tg-center{font-family:\"Courier New\", Courier, monospace !important;font-weight:normal;text-align:center;}\n",
       ".tg .tg-right{font-family:\"Courier New\", Courier, monospace !important;font-weight:normal;text-align:right;}\n",
       "</style>\n",
       "<table class=\"tg\"><tr><th><b>  GP_regression.         </b></th><th><b>              value</b></th><th><b>constraints</b></th><th><b>priors</b></th></tr>\n",
       "<tr><td class=tg-left>  Mat52.variance         </td><td class=tg-right>  13.67876084136658</td><td class=tg-center>    +ve    </td><td class=tg-center>      </td></tr>\n",
       "<tr><td class=tg-left>  Mat52.lengthscale      </td><td class=tg-right>               (5,)</td><td class=tg-center>    +ve    </td><td class=tg-center>      </td></tr>\n",
       "<tr><td class=tg-left>  Gaussian_noise.variance</td><td class=tg-right>0.02201300379028533</td><td class=tg-center>    +ve    </td><td class=tg-center>      </td></tr>\n",
       "</table>"
      ],
      "text/plain": [
       "<GPy.models.gp_regression.GPRegression at 0x123d2efd0>"
      ]
     },
     "execution_count": 17,
     "metadata": {},
     "output_type": "execute_result"
    }
   ],
   "source": [
    "print(\"Log Likelihood:\", models['y_1']._model.log_likelihood())\n",
    "models['y_1']._model"
   ]
  },
  {
   "cell_type": "code",
   "execution_count": 14,
   "metadata": {},
   "outputs": [
    {
     "name": "stdout",
     "output_type": "stream",
     "text": [
      "Log Likelihood: -11.531591879971002\n"
     ]
    },
    {
     "data": {
      "text/html": [
       "<style type=\"text/css\">\n",
       ".pd{\n",
       "    font-family: \"Courier New\", Courier, monospace !important;\n",
       "    width: 100%;\n",
       "    padding: 3px;\n",
       "}\n",
       "</style>\n",
       "\n",
       "<p class=pd>\n",
       "<b>Model</b>: GP regression<br>\n",
       "<b>Objective</b>: 11.531591879971002<br>\n",
       "<b>Number of Parameters</b>: 7<br>\n",
       "<b>Number of Optimization Parameters</b>: 7<br>\n",
       "<b>Updates</b>: True<br>\n",
       "</p>\n",
       "<style type=\"text/css\">\n",
       ".tg  {font-family:\"Courier New\", Courier, monospace !important;padding:2px 3px;word-break:normal;border-collapse:collapse;border-spacing:0;border-color:#DCDCDC;margin:0px auto;width:100%;}\n",
       ".tg td{font-family:\"Courier New\", Courier, monospace !important;font-weight:bold;color:#444;background-color:#F7FDFA;border-style:solid;border-width:1px;overflow:hidden;word-break:normal;border-color:#DCDCDC;}\n",
       ".tg th{font-family:\"Courier New\", Courier, monospace !important;font-weight:normal;color:#fff;background-color:#26ADE4;border-style:solid;border-width:1px;overflow:hidden;word-break:normal;border-color:#DCDCDC;}\n",
       ".tg .tg-left{font-family:\"Courier New\", Courier, monospace !important;font-weight:normal;text-align:left;}\n",
       ".tg .tg-center{font-family:\"Courier New\", Courier, monospace !important;font-weight:normal;text-align:center;}\n",
       ".tg .tg-right{font-family:\"Courier New\", Courier, monospace !important;font-weight:normal;text-align:right;}\n",
       "</style>\n",
       "<table class=\"tg\"><tr><th><b>  GP_regression.         </b></th><th><b>              value</b></th><th><b>constraints</b></th><th><b>priors</b></th></tr>\n",
       "<tr><td class=tg-left>  Mat52.variance         </td><td class=tg-right>  15.55408120915987</td><td class=tg-center>    +ve    </td><td class=tg-center>      </td></tr>\n",
       "<tr><td class=tg-left>  Mat52.lengthscale      </td><td class=tg-right>               (5,)</td><td class=tg-center>    +ve    </td><td class=tg-center>      </td></tr>\n",
       "<tr><td class=tg-left>  Gaussian_noise.variance</td><td class=tg-right>0.07359961481849882</td><td class=tg-center>    +ve    </td><td class=tg-center>      </td></tr>\n",
       "</table>"
      ],
      "text/plain": [
       "<GPy.models.gp_regression.GPRegression at 0x123699ac8>"
      ]
     },
     "execution_count": 14,
     "metadata": {},
     "output_type": "execute_result"
    }
   ],
   "source": [
    "print(\"Log Likelihood:\", models['y_0']._model.log_likelihood())\n",
    "models['y_0']._model"
   ]
  },
  {
   "cell_type": "code",
   "execution_count": 6,
   "metadata": {},
   "outputs": [
    {
     "name": "stdout",
     "output_type": "stream",
     "text": [
      "Log Likelihood: -11.653199715971379\n"
     ]
    },
    {
     "data": {
      "text/html": [
       "<style type=\"text/css\">\n",
       ".pd{\n",
       "    font-family: \"Courier New\", Courier, monospace !important;\n",
       "    width: 100%;\n",
       "    padding: 3px;\n",
       "}\n",
       "</style>\n",
       "\n",
       "<p class=pd>\n",
       "<b>Model</b>: GP regression<br>\n",
       "<b>Objective</b>: 11.653199715971379<br>\n",
       "<b>Number of Parameters</b>: 7<br>\n",
       "<b>Number of Optimization Parameters</b>: 7<br>\n",
       "<b>Updates</b>: True<br>\n",
       "</p>\n",
       "<style type=\"text/css\">\n",
       ".tg  {font-family:\"Courier New\", Courier, monospace !important;padding:2px 3px;word-break:normal;border-collapse:collapse;border-spacing:0;border-color:#DCDCDC;margin:0px auto;width:100%;}\n",
       ".tg td{font-family:\"Courier New\", Courier, monospace !important;font-weight:bold;color:#444;background-color:#F7FDFA;border-style:solid;border-width:1px;overflow:hidden;word-break:normal;border-color:#DCDCDC;}\n",
       ".tg th{font-family:\"Courier New\", Courier, monospace !important;font-weight:normal;color:#fff;background-color:#26ADE4;border-style:solid;border-width:1px;overflow:hidden;word-break:normal;border-color:#DCDCDC;}\n",
       ".tg .tg-left{font-family:\"Courier New\", Courier, monospace !important;font-weight:normal;text-align:left;}\n",
       ".tg .tg-center{font-family:\"Courier New\", Courier, monospace !important;font-weight:normal;text-align:center;}\n",
       ".tg .tg-right{font-family:\"Courier New\", Courier, monospace !important;font-weight:normal;text-align:right;}\n",
       "</style>\n",
       "<table class=\"tg\"><tr><th><b>  GP_regression.         </b></th><th><b>              value</b></th><th><b>constraints</b></th><th><b>priors</b></th></tr>\n",
       "<tr><td class=tg-left>  Mat52.variance         </td><td class=tg-right> 14.766152079938227</td><td class=tg-center>    +ve    </td><td class=tg-center>      </td></tr>\n",
       "<tr><td class=tg-left>  Mat52.lengthscale      </td><td class=tg-right>               (5,)</td><td class=tg-center>    +ve    </td><td class=tg-center>      </td></tr>\n",
       "<tr><td class=tg-left>  Gaussian_noise.variance</td><td class=tg-right>0.07891243722611607</td><td class=tg-center>    +ve    </td><td class=tg-center>      </td></tr>\n",
       "</table>"
      ],
      "text/plain": [
       "<GPy.models.gp_regression.GPRegression at 0x121449630>"
      ]
     },
     "execution_count": 6,
     "metadata": {},
     "output_type": "execute_result"
    }
   ],
   "source": [
    "print(\"Log Likelihood:\", models['y_0']._model.log_likelihood())\n",
    "models['y_0']._model"
   ]
  },
  {
   "cell_type": "code",
   "execution_count": 7,
   "metadata": {},
   "outputs": [
    {
     "name": "stdout",
     "output_type": "stream",
     "text": [
      "Log Likelihood: -8.746008594596766\n"
     ]
    },
    {
     "data": {
      "text/html": [
       "<style type=\"text/css\">\n",
       ".pd{\n",
       "    font-family: \"Courier New\", Courier, monospace !important;\n",
       "    width: 100%;\n",
       "    padding: 3px;\n",
       "}\n",
       "</style>\n",
       "\n",
       "<p class=pd>\n",
       "<b>Model</b>: GP regression<br>\n",
       "<b>Objective</b>: 8.746008594596766<br>\n",
       "<b>Number of Parameters</b>: 7<br>\n",
       "<b>Number of Optimization Parameters</b>: 7<br>\n",
       "<b>Updates</b>: True<br>\n",
       "</p>\n",
       "<style type=\"text/css\">\n",
       ".tg  {font-family:\"Courier New\", Courier, monospace !important;padding:2px 3px;word-break:normal;border-collapse:collapse;border-spacing:0;border-color:#DCDCDC;margin:0px auto;width:100%;}\n",
       ".tg td{font-family:\"Courier New\", Courier, monospace !important;font-weight:bold;color:#444;background-color:#F7FDFA;border-style:solid;border-width:1px;overflow:hidden;word-break:normal;border-color:#DCDCDC;}\n",
       ".tg th{font-family:\"Courier New\", Courier, monospace !important;font-weight:normal;color:#fff;background-color:#26ADE4;border-style:solid;border-width:1px;overflow:hidden;word-break:normal;border-color:#DCDCDC;}\n",
       ".tg .tg-left{font-family:\"Courier New\", Courier, monospace !important;font-weight:normal;text-align:left;}\n",
       ".tg .tg-center{font-family:\"Courier New\", Courier, monospace !important;font-weight:normal;text-align:center;}\n",
       ".tg .tg-right{font-family:\"Courier New\", Courier, monospace !important;font-weight:normal;text-align:right;}\n",
       "</style>\n",
       "<table class=\"tg\"><tr><th><b>  GP_regression.         </b></th><th><b>              value</b></th><th><b>constraints</b></th><th><b>priors</b></th></tr>\n",
       "<tr><td class=tg-left>  Mat52.variance         </td><td class=tg-right> 13.674075435483397</td><td class=tg-center>    +ve    </td><td class=tg-center>      </td></tr>\n",
       "<tr><td class=tg-left>  Mat52.lengthscale      </td><td class=tg-right>               (5,)</td><td class=tg-center>    +ve    </td><td class=tg-center>      </td></tr>\n",
       "<tr><td class=tg-left>  Gaussian_noise.variance</td><td class=tg-right>0.02201217750758602</td><td class=tg-center>    +ve    </td><td class=tg-center>      </td></tr>\n",
       "</table>"
      ],
      "text/plain": [
       "<GPy.models.gp_regression.GPRegression at 0x121449cf8>"
      ]
     },
     "execution_count": 7,
     "metadata": {},
     "output_type": "execute_result"
    }
   ],
   "source": [
    "print(\"Log Likelihood:\", models['y_1']._model.log_likelihood())\n",
    "models['y_1']._model"
   ]
  },
  {
   "cell_type": "markdown",
   "metadata": {},
   "source": [
    "## Direct Optimization Algorithm"
   ]
  },
  {
   "cell_type": "code",
   "execution_count": 9,
   "metadata": {},
   "outputs": [],
   "source": [
    "class Direct(Optimizer):\n",
    "    \n",
    "    def __init__(self, **kwargs):\n",
    "        super().__init__(**kwargs)\n",
    "        self.opt_name = 'DIRECT'\n",
    "        \n",
    "    def opt(self, x_init, f_fp=None, f=None, fp=None):\n",
    "        assert f is not None\n",
    "        if self.max_iters > 6000:\n",
    "            raise ValueError(\"Maximum iterations must be less than 6000 for DIRECT algorithm\")\n",
    "#         bounds = [[np.log(np.sqrt(1e-3)), np.log(np.sqrt(1e3))] for _ in range(len(x_init))]\n",
    "#         bounds[-1] = [-6, ]\n",
    "        bounds = [[np.sqrt(1e-3), np.sqrt(1e3)] for _ in range(len(x_init))]\n",
    "        print(x_init)\n",
    "        bounds[-1] = [np.exp(-6), 1]\n",
    "        res = direct(f, bounds, maxT=self.max_iters)\n",
    "        self.f_opt = res.fun\n",
    "        self.x_opt = res.x\n",
    "        self.status = 'maximum number of function evaluations exceeded'"
   ]
  },
  {
   "cell_type": "code",
   "execution_count": 16,
   "metadata": {},
   "outputs": [],
   "source": [
    "inputs = [f'x_{i}' for i in range(5)]\n",
    "outputs = ['y_0', 'y_1']\n",
    "X = ds[inputs].standardize()\n",
    "y = ds[outputs].standardize()\n",
    "kern =  Matern52(input_dim =5, ARD=True)\n",
    "model = GPRegression(X,y, kern)"
   ]
  },
  {
   "cell_type": "markdown",
   "metadata": {},
   "source": [
    "Long story short, this really doesn't work well."
   ]
  },
  {
   "cell_type": "markdown",
   "metadata": {},
   "source": [
    "## Adam"
   ]
  },
  {
   "cell_type": "code",
   "execution_count": 8,
   "metadata": {},
   "outputs": [],
   "source": [
    "class Adam(Optimizer):\n",
    "    # We want the optimizer to know some things in the Optimizer implementation:\n",
    "    def __init__(self, step_rate=.0002,\n",
    "                                  decay=0,\n",
    "                                  decay_mom1=0.1,\n",
    "                                  decay_mom2=0.001,\n",
    "                                  momentum=0,\n",
    "                 offset=1e-8, *args, **kwargs):\n",
    "        super(Adam, self).__init__(*args, **kwargs)\n",
    "        self.opt_name = 'Adam (climin)'\n",
    "        self.step_rate = step_rate\n",
    "        self.decay = 1-1e-8\n",
    "        self.decay_mom1 = decay_mom1\n",
    "        self.decay_mom2 = decay_mom2\n",
    "        self.momentum = momentum\n",
    "        self.offset = offset\n",
    "\n",
    "#         _check_for_climin()\n",
    "        \n",
    "    def opt(self, x_init, f_fp=None, f=None, fp=None):\n",
    "        # We only need the gradient of the \n",
    "        assert not fp is None\n",
    "\n",
    "        import climin\n",
    "\n",
    "        # Do the optimization, giving previously stored parameters\n",
    "        opt = climin.adam.Adam(x_init, fp,\n",
    "                               step_rate=self.step_rate, decay=self.decay,\n",
    "                               decay_mom1=self.decay_mom1, decay_mom2=self.decay_mom2,\n",
    "                               momentum=self.momentum,offset=self.offset)\n",
    "\n",
    "        # Get the optimized state and transform it into Paramz readable format by setting\n",
    "        # values on this object:\n",
    "        # Important ones are x_opt and status:\n",
    "        for info in opt:\n",
    "            if info['n_iter']>=self.max_iters:\n",
    "                self.x_opt =  opt.wrt\n",
    "                self.f_opt =  fp(opt.wrt)\n",
    "                self.status = 'maximum number of function evaluations exceeded'\n",
    "                break\n",
    "        else: # pragma: no cover\n",
    "            pass"
   ]
  },
  {
   "cell_type": "code",
   "execution_count": 9,
   "metadata": {},
   "outputs": [],
   "source": [
    "inputs = [f'x_{i}' for i in range(5)]\n",
    "outputs = ['y_0', 'y_1']\n",
    "X = ds[inputs].standardize()\n",
    "y = ds[outputs].standardize()\n",
    "kern =  Matern52(input_dim =5, ARD=True)\n",
    "model = GPRegression(X,y, kern)"
   ]
  },
  {
   "cell_type": "code",
   "execution_count": 13,
   "metadata": {},
   "outputs": [
    {
     "name": "stdout",
     "output_type": "stream",
     "text": [
      "Optimization restart 1/10, f = [-1.31903979e-04 -6.29368196e-05 -3.59736149e+00 -3.19334852e+00\n",
      " -2.91457622e+00 -2.53792302e+00  4.21320339e+01]\n",
      "Optimization restart 2/10, f = [-4.81777199e-01 -3.24085772e-04 -4.89054181e+00 -6.84545006e+00\n",
      " -7.28089429e+00 -4.26405445e+00  6.72103625e+01]\n",
      "Optimization restart 3/10, f = [  0.80261846  -1.24877478  -9.26417142 -10.22792097  -7.39174933\n",
      "  -5.46342388  61.94487183]\n",
      "Optimization restart 4/10, f = [-5.50922307e-01 -5.16466282e-02 -8.14429957e+00 -7.46390096e+00\n",
      " -3.32820190e+00 -9.22968370e+00  6.33436629e+01]\n",
      "Optimization restart 5/10, f = [-7.86503851e-03 -3.04180818e-01 -1.39247688e+01 -1.27230477e+01\n",
      " -1.12462712e+01 -1.35474982e+01  5.05216192e+01]\n",
      "Optimization restart 6/10, f = [-3.22140178e-02 -1.44425828e-01 -7.59286167e+00 -1.57843470e+01\n",
      " -7.74360177e+00 -1.56936456e+01  5.45550640e+01]\n",
      "Optimization restart 7/10, f = [-2.24454414e-03 -2.08605136e-01 -7.03362805e+00 -1.70758193e+01\n",
      " -5.16582590e+00 -2.15074836e+01  5.18178503e+01]\n",
      "Optimization restart 8/10, f = [  1.55919004  -4.4268627  -16.51389776 -26.48202004 -12.01502888\n",
      "  -7.83394006  39.08190716]\n",
      "Optimization restart 9/10, f = [-1.42191384e-03 -1.85831409e+00 -1.63994135e+01 -1.00067345e+01\n",
      " -1.71859743e+01 -8.74209715e+00  5.00449397e+01]\n",
      "Optimization restart 10/10, f = [-7.28256184e-05 -1.38293365e+01 -3.55308641e+01 -5.34890512e+00\n",
      " -8.68826873e+00 -1.18170375e+01  3.27295036e+01]\n"
     ]
    },
    {
     "data": {
      "text/plain": [
       "[<__main__.Adam at 0x1215335f8>,\n",
       " <__main__.Adam at 0x121556908>,\n",
       " <__main__.Adam at 0x12177d5f8>,\n",
       " <__main__.Adam at 0x12177d5f8>,\n",
       " <__main__.Adam at 0x12177d5f8>,\n",
       " <__main__.Adam at 0x12177d5f8>,\n",
       " <__main__.Adam at 0x12177d5f8>,\n",
       " <__main__.Adam at 0x12177d5f8>,\n",
       " <__main__.Adam at 0x12177d5f8>,\n",
       " <__main__.Adam at 0x12177d5f8>,\n",
       " <__main__.Adam at 0x12177d5f8>,\n",
       " <__main__.Adam at 0x12177d5f8>]"
      ]
     },
     "execution_count": 13,
     "metadata": {},
     "output_type": "execute_result"
    }
   ],
   "source": [
    "model.optimize_restarts(num_restarts=10, optimizer=Adam(max_iters=1e4))"
   ]
  },
  {
   "cell_type": "code",
   "execution_count": 14,
   "metadata": {},
   "outputs": [
    {
     "data": {
      "text/plain": [
       "-114.78779767763876"
      ]
     },
     "execution_count": 14,
     "metadata": {},
     "output_type": "execute_result"
    }
   ],
   "source": [
    "model.log_likelihood()"
   ]
  },
  {
   "cell_type": "code",
   "execution_count": null,
   "metadata": {},
   "outputs": [],
   "source": []
  }
 ],
 "metadata": {
  "kernelspec": {
   "display_name": "Python 3",
   "language": "python",
   "name": "python3"
  },
  "language_info": {
   "codemirror_mode": {
    "name": "ipython",
    "version": 3
   },
   "file_extension": ".py",
   "mimetype": "text/x-python",
   "name": "python",
   "nbconvert_exporter": "python",
   "pygments_lexer": "ipython3",
   "version": "3.7.3"
  }
 },
 "nbformat": 4,
 "nbformat_minor": 4
}

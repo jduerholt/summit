{
 "cells": [
  {
   "cell_type": "code",
   "execution_count": 1,
   "metadata": {},
   "outputs": [],
   "source": [
    "from summit.benchmarks import BaumgartnerCrossCouplingEmulator_Yield_Cost"
   ]
  },
  {
   "cell_type": "code",
   "execution_count": 2,
   "metadata": {},
   "outputs": [
    {
     "data": {
      "text/html": [
       "<table id='domain' width=100%><tr><td><b>Name</b></td><td><b>Type</b></td><td><b>Description</b></td><td><b>Values</b></td></tr><tr><td>catalyst</td><td>categorical, input</td><td>Catalyst type</td><td>3 levels</td></tr><tr><td>base</td><td>categorical, input</td><td>Base</td><td>4 levels</td></tr><tr><td>base_equivalents</td><td>continuous, input</td><td>Base equivalents</td><td>[1.0,2.5]</td></tr><tr><td>temperature</td><td>continuous, input</td><td>Temperature in degrees Celsius (ºC)</td><td>[30,100]</td></tr><tr><td>t_res</td><td>continuous, input</td><td>residence time in seconds (s)</td><td>[60,1800]</td></tr><tr><td>yld</td><td>continuous, maximize objective</td><td>Yield</td><td>[0.0,1.0]</td></tr><tr><td>cost</td><td>continuous, maximize objective</td><td>cost</td><td>[0.0,1.0]</td></tr></table>"
      ],
      "text/plain": [
       "<summit.domain.Domain at 0x1494e7390>"
      ]
     },
     "execution_count": 2,
     "metadata": {},
     "output_type": "execute_result"
    }
   ],
   "source": [
    "exp = BaumgartnerCrossCouplingEmulator_Yield_Cost()\n",
    "exp.domain"
   ]
  },
  {
   "cell_type": "code",
   "execution_count": 5,
   "metadata": {},
   "outputs": [
    {
     "data": {
      "text/plain": [
       "['DBU', 'BTMG', 'TMG', 'TEA']"
      ]
     },
     "execution_count": 5,
     "metadata": {},
     "output_type": "execute_result"
    }
   ],
   "source": [
    "exp.domain['base'].levels"
   ]
  },
  {
   "cell_type": "code",
   "execution_count": null,
   "metadata": {},
   "outputs": [],
   "source": []
  }
 ],
 "metadata": {
  "kernelspec": {
   "display_name": "Python 3.7.3 64-bit ('summit-TfmmV07p-py3.7': venv)",
   "language": "python",
   "name": "python37364bitsummittfmmv07ppy37venv6fc212842bc44e839a51e6623a646abd"
  },
  "language_info": {
   "codemirror_mode": {
    "name": "ipython",
    "version": 3
   },
   "file_extension": ".py",
   "mimetype": "text/x-python",
   "name": "python",
   "nbconvert_exporter": "python",
   "pygments_lexer": "ipython3",
   "version": "3.7.3"
  }
 },
 "nbformat": 4,
 "nbformat_minor": 4
}
